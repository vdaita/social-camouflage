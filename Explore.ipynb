{
 "cells": [
  {
   "cell_type": "code",
   "execution_count": 54,
   "metadata": {},
   "outputs": [
    {
     "name": "stderr",
     "output_type": "stream",
     "text": [
      "/var/folders/rw/s7c9z30x7fj_2gcngv0yhv6w0000gn/T/ipykernel_63755/177954249.py:2: DtypeWarning: Columns (12,21,22,24,33,34) have mixed types. Specify dtype option on import or set low_memory=False.\n",
      "  df = pd.read_csv(\"data/0510-citation-pub-data.csv\")\n"
     ]
    }
   ],
   "source": [
    "import pandas as pd\n",
    "df = pd.read_csv(\"data/0510-citation-pub-data.csv\")"
   ]
  },
  {
   "cell_type": "code",
   "execution_count": 55,
   "metadata": {},
   "outputs": [
    {
     "data": {
      "text/plain": [
       "{'CUHK', 'CityU', 'HKU', 'HKUST', 'NTU', 'NUS', 'SMU'}"
      ]
     },
     "execution_count": 55,
     "metadata": {},
     "output_type": "execute_result"
    }
   ],
   "source": [
    "set(df['School'].tolist())"
   ]
  },
  {
   "cell_type": "code",
   "execution_count": 74,
   "metadata": {},
   "outputs": [],
   "source": [
    "df = df[df['School'].isin(['CityU', 'CUHK', 'HKU', 'HKUST'])]"
   ]
  },
  {
   "cell_type": "code",
   "execution_count": 75,
   "metadata": {},
   "outputs": [
    {
     "name": "stdout",
     "output_type": "stream",
     "text": [
      "(62594, 117)\n"
     ]
    }
   ],
   "source": [
    "print(df.shape)"
   ]
  },
  {
   "cell_type": "code",
   "execution_count": null,
   "metadata": {},
   "outputs": [],
   "source": [
    "# friendliness (camaraderie)\n",
    "# we vs. i\n",
    "# risk-averse (I don't want trouble, focused on advancing own career, personal gain)"
   ]
  },
  {
   "cell_type": "code",
   "execution_count": 26,
   "metadata": {},
   "outputs": [],
   "source": [
    "from scholarly import scholarly\n",
    "\n",
    "# use the Google Scholar page for a researcher to figure out which year this person first published\n",
    "def get_first_publication_year(name: str):\n",
    "    search_query = scholarly.search_author(name)\n",
    "    author = next(search_query, None)\n",
    "\n",
    "    if author:\n",
    "        author = scholarly.fill(author)\n",
    "        publications = author.get('publications', [])\n",
    "        if publications:\n",
    "            first_pub_year = min(pub.get('bib', {}).get('pub_year', float('inf')) for pub in publications)\n",
    "            return first_pub_year if first_pub_year != float('inf') else None\n",
    "    return None"
   ]
  },
  {
   "cell_type": "code",
   "execution_count": 44,
   "metadata": {},
   "outputs": [],
   "source": [
    "from dotenv import load_dotenv\n",
    "import os\n",
    "from openai import Client\n",
    "import json\n",
    "\n",
    "load_dotenv(\".env\")\n",
    "\n",
    "client = Client(\n",
    "    api_key=os.getenv(\"OPENAI_API_KEY\"),\n",
    ")\n",
    "\n",
    "def chatgpt_get_univ_name_from_text(text: str):\n",
    "    response = client.chat.completions.create(\n",
    "        model=\"gpt-4o-mini\",\n",
    "        messages=[\n",
    "            {\"role\": \"system\", \"content\": \"For this webpage, provide the name of the University that this individual likely attended for their undergraduate studies in English in a JSON format: {'undergrad_university': 'University Name'}\"},\n",
    "            {\"role\": \"user\", \"content\": text},\n",
    "        ],\n",
    "        response_format={\"type\": \"json_object\"}\n",
    "    )\n",
    "    json_obj = json.loads(response.choices[0].message.content)\n",
    "    return json_obj[\"undergrad_university\"]"
   ]
  },
  {
   "cell_type": "code",
   "execution_count": 81,
   "metadata": {},
   "outputs": [],
   "source": [
    "import requests\n",
    "from markdownify import markdownify as md\n",
    "import signal\n",
    "\n",
    "class TimeoutException(Exception):\n",
    "    pass\n",
    "\n",
    "def timeout_handler(signum, frame):\n",
    "    raise TimeoutException\n",
    "\n",
    "def get_university_from_name_google_scholar(name, timeout=10):\n",
    "    signal.signal(signal.SIGALRM, timeout_handler)\n",
    "    signal.alarm(timeout)\n",
    "    \n",
    "    try:\n",
    "        search_results = scholarly.search_author(name)\n",
    "        author = next(search_results, None)\n",
    "        \n",
    "        if author:\n",
    "            author_details = scholarly.fill(author)\n",
    "            homepage_url = author_details.get(\"homepage\", None)\n",
    "            if not(homepage_url):\n",
    "                return \"NA: Homepage URL not found\"\n",
    "\n",
    "            response = requests.get(homepage_url)\n",
    "            if response.status_code != 200:\n",
    "                return f\"NA: Homepage {homepage_url} returned error status code\"\n",
    "            html = response.text\n",
    "            markdown_text = md(html)\n",
    "            return chatgpt_get_univ_name_from_text(markdown_text)\n",
    "        else:\n",
    "            return \"NA: Author not found\"\n",
    "    except TimeoutException:\n",
    "        return \"NA: timeout\"\n",
    "    except Exception as e:\n",
    "        print(e)\n",
    "        return \"NA: exception\"\n",
    "    finally:\n",
    "        signal.alarm(0)"
   ]
  },
  {
   "cell_type": "code",
   "execution_count": 82,
   "metadata": {},
   "outputs": [],
   "source": [
    "import requests\n",
    "from bs4 import BeautifulSoup\n",
    "\n",
    "def get_university_from_name_ieee(name):\n",
    "    # Get biography from ieee explore\n",
    "    url = f\"https://ieeexplore.ieee.org/search/searchresult.jsp?newsearch=true&queryText={name}\"\n",
    "    response = requests.get(url)\n",
    "    soup = BeautifulSoup(response.text, 'html.parser')\n",
    "\n",
    "    # Find the first result link\n",
    "    first_result = soup.find('a', class_='result-item-title')\n",
    "    if first_result:\n",
    "        bio_url = \"https://ieeexplore.ieee.org\" + first_result['href']\n",
    "        bio_response = requests.get(bio_url)\n",
    "        bio_soup = BeautifulSoup(bio_response.text, 'html.parser')\n",
    "        \n",
    "        # Extract the biography section\n",
    "        bio_section = bio_soup.find('div', class_='author-info-container')\n",
    "        if bio_section:\n",
    "            bio_text = bio_section.get_text(separator=' ', strip=True)\n",
    "            return chatgpt_get_univ_name_from_text(bio_text)\n",
    "        else:\n",
    "            return \"NA: Biography section not found\"\n",
    "    else:\n",
    "        return \"NA: No results found\""
   ]
  },
  {
   "cell_type": "code",
   "execution_count": 83,
   "metadata": {},
   "outputs": [],
   "source": [
    "def get_university_from_name(name):\n",
    "    univ = get_university_from_name_google_scholar(name)\n",
    "    if univ.startswith(\"NA\"):\n",
    "        univ = get_university_from_name_ieee(name)\n",
    "    return univ"
   ]
  },
  {
   "cell_type": "code",
   "execution_count": 84,
   "metadata": {},
   "outputs": [
    {
     "name": "stdout",
     "output_type": "stream",
     "text": [
      "['杨景峰， 陈松林， 徐亘博， 苏鹏志， 田永胜， 翟介明， 李波', 'Robert Sabo', 'Ke Zhang', 'Ran Han', 'WR Fahrner', 'Huaisheng Wang', 'Yuanmei Wang', 'Qixiang Sun', 'Aiwei Liu', 'Kei M Lau']\n",
      "16205\n"
     ]
    }
   ],
   "source": [
    "all_authors = set([])\n",
    "\n",
    "for authors in df['Author List'].tolist():\n",
    "    # print(authors)\n",
    "    if not authors:\n",
    "        continue\n",
    "    if not isinstance(authors, str):\n",
    "        continue\n",
    "    authors = authors.replace(\"[\", \"\").replace(\"]\", \"\").replace(\"'\", \"\").split(\",\")\n",
    "\n",
    "    all_authors.add(authors[0].strip()) # Usually the advised PhD student\n",
    "\n",
    "print(list(all_authors)[:10])\n",
    "print(len(all_authors))\n",
    "# Main idea here is that the first/second authors are the advised PhD students.\n",
    "    "
   ]
  },
  {
   "cell_type": "code",
   "execution_count": 85,
   "metadata": {},
   "outputs": [
    {
     "name": "stdout",
     "output_type": "stream",
     "text": [
      "杨景峰， 陈松林， 徐亘博， 苏鹏志， 田永胜， 翟介明， 李波 NA: No results found\n",
      "Robert Sabo NA: No results found\n",
      "Ke Zhang NA: No results found\n",
      "Ran Han NA: No results found\n",
      "WR Fahrner NA: No results found\n",
      "Huaisheng Wang NA: No results found\n",
      "Yuanmei Wang NA: No results found\n",
      "Qixiang Sun NA: No results found\n",
      "Aiwei Liu Nanjing University\n",
      "HTTPSConnectionPool(host='www.ece.ust.hk', port=443): Max retries exceeded with url: /eekmlau (Caused by SSLError(SSLCertVerificationError(1, '[SSL: CERTIFICATE_VERIFY_FAILED] certificate verify failed: unable to get local issuer certificate (_ssl.c:1000)')))\n",
      "Kei M Lau NA: No results found\n",
      "Philip CH Chan NA: No results found\n",
      "Zhengxiang Zhou NA: No results found\n",
      "Kai Zhang Beijing Normal University\n",
      "Yuting Liang Utrecht University\n",
      "X HU NA: No results found\n",
      "HTTPConnectionPool(host='www.panoskalnis.com', port=80): Max retries exceeded with url: / (Caused by NameResolutionError(\"<urllib3.connection.HTTPConnection object at 0x31e0f6f30>: Failed to resolve 'www.panoskalnis.com' ([Errno 8] nodename nor servname provided, or not known)\"))\n",
      "Panos Kalnis NA: No results found\n",
      "Feida Zhu University of Illinois at Urbana-Champaign\n",
      "Zigang Xiao Tsinghua University\n",
      "SUN Yue Man University of California, Berkeley\n",
      "Lianxin Xie NA: No results found\n",
      "Kaihong Fang NA: No results found\n",
      "Kwong-Lung Ching NA: No results found\n",
      "Jeremy M Testa NA: No results found\n",
      "Budi Yuwono NA: No results found\n",
      "Kin-Wah Kwong NA: No results found\n",
      "JM Jeong NA: No results found\n",
      "Thushara Abhayapala NA: No results found\n",
      "Yao TING University of Science and Technology of China\n",
      "Michael S Haney NA: No results found\n",
      "WT Shou NA: No results found\n",
      "Zichao Ma NA: No results found\n",
      "Stuart Madnick NA: No results found\n",
      "WM Lin Princeton University\n",
      "Xi-Ren Cao NA: No results found\n",
      "Teng Kiat Lim NA: No results found\n",
      "Zimu Liu NA: No results found\n",
      "Kwok-Yee Michael Wong NA: No results found\n",
      "Wilson WT Chan NA: No results found\n",
      "Kebin Liu University Name\n",
      "Baihan Huang NA: No results found\n",
      "Jun-Yong Lu NA: No results found\n",
      "Arun K Nanda NA: No results found\n",
      "Svante Bergman NA: No results found\n",
      "LK Shay NA: No results found\n",
      "HTTPConnectionPool(host='staffprofile.qut.edu.au', port=80): Max retries exceeded with url: /Profile/Zhigang-Chen (Caused by NameResolutionError(\"<urllib3.connection.HTTPConnection object at 0x3125e7890>: Failed to resolve 'staffprofile.qut.edu.au' ([Errno 8] nodename nor servname provided, or not known)\"))\n",
      "Zhi Chen NA: No results found\n",
      "Ru Jia NA: No results found\n",
      "Zihao Yin NA: No results found\n",
      "Yuhki Koike NA: No results found\n",
      "Yongchang Liu NA: No results found\n",
      "Fan Zhu NA: No results found\n"
     ]
    }
   ],
   "source": [
    "subset_authors = list(all_authors)[:50]\n",
    "for author in subset_authors:\n",
    "    print(author, get_university_from_name(author))"
   ]
  }
 ],
 "metadata": {
  "kernelspec": {
   "display_name": "research",
   "language": "python",
   "name": "python3"
  },
  "language_info": {
   "codemirror_mode": {
    "name": "ipython",
    "version": 3
   },
   "file_extension": ".py",
   "mimetype": "text/x-python",
   "name": "python",
   "nbconvert_exporter": "python",
   "pygments_lexer": "ipython3",
   "version": "3.12.3"
  }
 },
 "nbformat": 4,
 "nbformat_minor": 2
}

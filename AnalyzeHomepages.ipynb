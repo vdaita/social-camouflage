{
 "cells": [
  {
   "cell_type": "code",
   "execution_count": 16,
   "metadata": {},
   "outputs": [
    {
     "data": {
      "text/html": [
       "<div>\n",
       "<style scoped>\n",
       "    .dataframe tbody tr th:only-of-type {\n",
       "        vertical-align: middle;\n",
       "    }\n",
       "\n",
       "    .dataframe tbody tr th {\n",
       "        vertical-align: top;\n",
       "    }\n",
       "\n",
       "    .dataframe thead th {\n",
       "        text-align: right;\n",
       "    }\n",
       "</style>\n",
       "<table border=\"1\" class=\"dataframe\">\n",
       "  <thead>\n",
       "    <tr style=\"text-align: right;\">\n",
       "      <th></th>\n",
       "      <th>Researcher of Interest</th>\n",
       "      <th>Homepage URL</th>\n",
       "    </tr>\n",
       "  </thead>\n",
       "  <tbody>\n",
       "    <tr>\n",
       "      <th>0</th>\n",
       "      <td>Li QIU</td>\n",
       "      <td>https://eeqiu.people.ust.hk/?page_id=29</td>\n",
       "    </tr>\n",
       "    <tr>\n",
       "      <th>1</th>\n",
       "      <td>Ling SHI</td>\n",
       "      <td>https://eesling.home.ece.ust.hk</td>\n",
       "    </tr>\n",
       "    <tr>\n",
       "      <th>2</th>\n",
       "      <td>Kei May LAU</td>\n",
       "      <td>https://ece.hkust.edu.hk/eekmlau</td>\n",
       "    </tr>\n",
       "    <tr>\n",
       "      <th>3</th>\n",
       "      <td>Chi-Keung TANG</td>\n",
       "      <td>https://ieeexplore.ieee.org/author/37087155915</td>\n",
       "    </tr>\n",
       "    <tr>\n",
       "      <th>4</th>\n",
       "      <td>James Tin-Yau KWOK</td>\n",
       "      <td>https://cse.hkust.edu.hk/admin/people/faculty/...</td>\n",
       "    </tr>\n",
       "  </tbody>\n",
       "</table>\n",
       "</div>"
      ],
      "text/plain": [
       "  Researcher of Interest                                       Homepage URL\n",
       "0                 Li QIU            https://eeqiu.people.ust.hk/?page_id=29\n",
       "1               Ling SHI                    https://eesling.home.ece.ust.hk\n",
       "2            Kei May LAU                   https://ece.hkust.edu.hk/eekmlau\n",
       "3         Chi-Keung TANG     https://ieeexplore.ieee.org/author/37087155915\n",
       "4     James Tin-Yau KWOK  https://cse.hkust.edu.hk/admin/people/faculty/..."
      ]
     },
     "execution_count": 16,
     "metadata": {},
     "output_type": "execute_result"
    }
   ],
   "source": [
    "import pandas as pd\n",
    "\n",
    "df = pd.read_csv(\"homepage-data.csv\")\n",
    "df = df[:10]\n",
    "df.head()"
   ]
  },
  {
   "cell_type": "code",
   "execution_count": 24,
   "metadata": {},
   "outputs": [],
   "source": [
    "from openai import OpenAI\n",
    "from dotenv import load_dotenv\n",
    "import os\n",
    "import requests\n",
    "from markdownify import markdownify as md\n",
    "import json\n",
    "\n",
    "load_dotenv(\".env\")\n",
    "\n",
    "client = OpenAI(\n",
    "    api_key=os.getenv(\"OPENAI_API_KEY\"),\n",
    ")\n",
    "\n",
    "headers = {\n",
    "    'accept': '*/*',\n",
    "    'User-Agent': 'Mozilla/5.0 (Macintosh; Intel Mac OS X 10_15_7) AppleWebKit/537.36 (KHTML, like Gecko) Chrome/101.0.4951.64 Safari/537.36 Edg/101.0.1210.53',\n",
    "    'Accept-Language': 'en-US,en;q=0.9,it;q=0.8,es;q=0.7',\n",
    "    'referer': 'https://www.google.com/',\n",
    "    'cookie': '94880A328F459C4F'\n",
    "}\n",
    "\n",
    "def process_homepage_text(text: str):\n",
    "    response = client.chat.completions.create(\n",
    "        messages=[{\n",
    "            \"role\": \"system\",\n",
    "            \"content\": \"\"\"Extract the following qualities, with justification in a JSON formatted output. \n",
    "Try to infer these from the way the author writes about themselves. JSON output format: \n",
    "{\n",
    "    \"friendliness-justification\": \"Explain your friendliness quote with citations\",\n",
    "    \"friendliness\": \"Scale of 1-10, how much they exhibit traits of cameraderie, teamwork and collaboration. 10 being heavy-emphasis on friendliness.\",\n",
    "    \"we-vs-i-justification\": \"Explain your we-vs-i quote with citations\",\n",
    "    \"we-vs-i\": \"Scale of 1-10, how much they talk about themselves vs their collaborators. 10 being heavy-emphasis on we.\",\n",
    "    \"risk-averse-justification\": \"Explain your risk-averse quote with citations\",\n",
    "    \"risk-averse\": \"Scale of 1-10, how they feel about taking risks. 10 being very risk-averse.\",\n",
    "    \"career-orientation-justification\": \"Explain your career-orientation quote with citations\",\n",
    "    \"career-orientation\": \"How much a person cares about their career. 10 being very career-oriented.\",\n",
    "}\"\"\"\n",
    "        }, {\n",
    "            \"role\": \"user\",\n",
    "            \"content\": text\n",
    "        }],\n",
    "        response_format={\n",
    "            \"type\": \"json_object\"\n",
    "        },\n",
    "        model=\"gpt-4o\"\n",
    "    )\n",
    "    response = json.loads(response.choices[0].message.content)\n",
    "    return response\n"
   ]
  },
  {
   "cell_type": "code",
   "execution_count": 25,
   "metadata": {},
   "outputs": [
    {
     "data": {
      "text/html": [
       "<pre style=\"white-space:pre;overflow-x:auto;line-height:normal;font-family:Menlo,'DejaVu Sans Mono',consolas,'Courier New',monospace\">Processing james-tin-yau-kwok.txt\n",
       "</pre>\n"
      ],
      "text/plain": [
       "Processing james-tin-yau-kwok.txt\n"
      ]
     },
     "metadata": {},
     "output_type": "display_data"
    },
    {
     "data": {
      "text/html": [
       "<pre style=\"white-space:pre;overflow-x:auto;line-height:normal;font-family:Menlo,'DejaVu Sans Mono',consolas,'Courier New',monospace\">Researcher text:  \n",
       "James Kwok is a Professor in the Department of Computer Science and Engineering, Hong Kong University of Science \n",
       "and Technology. He is an IEEE Fellow.\n",
       "\n",
       "Prof Kwok received his B.Sc. degree in Electrical and Electronic Engineering from the University of Hong Kong and \n",
       "his Ph.D. degree in computer science from the Hong Kong University of Science and Technology. He then joined the \n",
       "Department of Computer Science, Hong Kong Baptist University as an Assistant Professor. He returned to the Hong \n",
       "Kong University of Science and Technology and is now a Professor in the Department of Computer Science and \n",
       "Engineering. He is serving <span style=\"color: #800080; text-decoration-color: #800080\">/</span> served as an Associate Editor for the IEEE Transactions on Neural Networks and \n",
       "Learning Systems, Neural Networks, Neurocomputing, Artificial Intelligence Journal, International Journal of Data \n",
       "Science and Analytics, and on the Editorial Board of Machine Learning. He is also serving as Senior Area Chairs of \n",
       "major machine learning <span style=\"color: #800080; text-decoration-color: #800080\">/</span> AI conferences including NeurIPS, ICML, ICLR, IJCAI, and as Area Chairs of conferences \n",
       "including AAAI and ECML. He is on the IJCAI Board of Trustees. He is recognized as the Most Influential Scholar \n",
       "Award Honorable Mention for <span style=\"color: #008000; text-decoration-color: #008000\">\"outstanding and vibrant contributions to the field of AAAI/IJCAI between 2009 and </span>\n",
       "<span style=\"color: #008000; text-decoration-color: #008000\">2019\"</span>. Prof Kwok is the IJCAI-<span style=\"color: #008080; text-decoration-color: #008080; font-weight: bold\">2025</span> Program Chair.\n",
       "</pre>\n"
      ],
      "text/plain": [
       "Researcher text:  \n",
       "James Kwok is a Professor in the Department of Computer Science and Engineering, Hong Kong University of Science \n",
       "and Technology. He is an IEEE Fellow.\n",
       "\n",
       "Prof Kwok received his B.Sc. degree in Electrical and Electronic Engineering from the University of Hong Kong and \n",
       "his Ph.D. degree in computer science from the Hong Kong University of Science and Technology. He then joined the \n",
       "Department of Computer Science, Hong Kong Baptist University as an Assistant Professor. He returned to the Hong \n",
       "Kong University of Science and Technology and is now a Professor in the Department of Computer Science and \n",
       "Engineering. He is serving \u001b[35m/\u001b[0m served as an Associate Editor for the IEEE Transactions on Neural Networks and \n",
       "Learning Systems, Neural Networks, Neurocomputing, Artificial Intelligence Journal, International Journal of Data \n",
       "Science and Analytics, and on the Editorial Board of Machine Learning. He is also serving as Senior Area Chairs of \n",
       "major machine learning \u001b[35m/\u001b[0m AI conferences including NeurIPS, ICML, ICLR, IJCAI, and as Area Chairs of conferences \n",
       "including AAAI and ECML. He is on the IJCAI Board of Trustees. He is recognized as the Most Influential Scholar \n",
       "Award Honorable Mention for \u001b[32m\"outstanding and vibrant contributions to the field of AAAI/IJCAI between 2009 and \u001b[0m\n",
       "\u001b[32m2019\"\u001b[0m. Prof Kwok is the IJCAI-\u001b[1;36m2025\u001b[0m Program Chair.\n"
      ]
     },
     "metadata": {},
     "output_type": "display_data"
    },
    {
     "data": {
      "text/html": [
       "<pre style=\"white-space:pre;overflow-x:auto;line-height:normal;font-family:Menlo,'DejaVu Sans Mono',consolas,'Courier New',monospace\"><span style=\"font-weight: bold\">{</span>\n",
       "    <span style=\"color: #008000; text-decoration-color: #008000\">'friendliness-justification'</span>: <span style=\"color: #008000; text-decoration-color: #008000\">\"The text does not provide direct evidence of friendliness; however, Prof Kwok's </span>\n",
       "<span style=\"color: #008000; text-decoration-color: #008000\">engagement in various collaborative editorial roles and conferences suggests a degree of collegiality and </span>\n",
       "<span style=\"color: #008000; text-decoration-color: #008000\">teamwork.\"</span>,\n",
       "    <span style=\"color: #008000; text-decoration-color: #008000\">'friendliness'</span>: <span style=\"color: #008000; text-decoration-color: #008000\">'6'</span>,\n",
       "    <span style=\"color: #008000; text-decoration-color: #008000\">'we-vs-i-justification'</span>: <span style=\"color: #008000; text-decoration-color: #008000\">\"Prof Kwok's biography predominantly focuses on his personal achievements and roles </span>\n",
       "<span style=\"color: #008000; text-decoration-color: #008000\">without mentioning collaboration with others, indicating a more individual-focused perspective.\"</span>,\n",
       "    <span style=\"color: #008000; text-decoration-color: #008000\">'we-vs-i'</span>: <span style=\"color: #008000; text-decoration-color: #008000\">'4'</span>,\n",
       "    <span style=\"color: #008000; text-decoration-color: #008000\">'risk-averse-justification'</span>: <span style=\"color: #008000; text-decoration-color: #008000\">\"Prof Kwok's choice of an academic and editorial career path, which emphasizes </span>\n",
       "<span style=\"color: #008000; text-decoration-color: #008000\">stability and recognition over uncertainty, suggests a moderate level of risk aversion.\"</span>,\n",
       "    <span style=\"color: #008000; text-decoration-color: #008000\">'risk-averse'</span>: <span style=\"color: #008000; text-decoration-color: #008000\">'7'</span>,\n",
       "    <span style=\"color: #008000; text-decoration-color: #008000\">'career-orientation-justification'</span>: <span style=\"color: #008000; text-decoration-color: #008000\">'The detailed career achievements and roles in prestigious journals and </span>\n",
       "<span style=\"color: #008000; text-decoration-color: #008000\">conferences demonstrate a high level of career orientation and dedication to professional advancement.'</span>,\n",
       "    <span style=\"color: #008000; text-decoration-color: #008000\">'career-orientation'</span>: <span style=\"color: #008000; text-decoration-color: #008000\">'9'</span>\n",
       "<span style=\"font-weight: bold\">}</span>\n",
       "</pre>\n"
      ],
      "text/plain": [
       "\u001b[1m{\u001b[0m\n",
       "    \u001b[32m'friendliness-justification'\u001b[0m: \u001b[32m\"The text does not provide direct evidence of friendliness; however, Prof Kwok's \u001b[0m\n",
       "\u001b[32mengagement in various collaborative editorial roles and conferences suggests a degree of collegiality and \u001b[0m\n",
       "\u001b[32mteamwork.\"\u001b[0m,\n",
       "    \u001b[32m'friendliness'\u001b[0m: \u001b[32m'6'\u001b[0m,\n",
       "    \u001b[32m'we-vs-i-justification'\u001b[0m: \u001b[32m\"Prof Kwok's biography predominantly focuses on his personal achievements and roles \u001b[0m\n",
       "\u001b[32mwithout mentioning collaboration with others, indicating a more individual-focused perspective.\"\u001b[0m,\n",
       "    \u001b[32m'we-vs-i'\u001b[0m: \u001b[32m'4'\u001b[0m,\n",
       "    \u001b[32m'risk-averse-justification'\u001b[0m: \u001b[32m\"Prof Kwok's choice of an academic and editorial career path, which emphasizes \u001b[0m\n",
       "\u001b[32mstability and recognition over uncertainty, suggests a moderate level of risk aversion.\"\u001b[0m,\n",
       "    \u001b[32m'risk-averse'\u001b[0m: \u001b[32m'7'\u001b[0m,\n",
       "    \u001b[32m'career-orientation-justification'\u001b[0m: \u001b[32m'The detailed career achievements and roles in prestigious journals and \u001b[0m\n",
       "\u001b[32mconferences demonstrate a high level of career orientation and dedication to professional advancement.'\u001b[0m,\n",
       "    \u001b[32m'career-orientation'\u001b[0m: \u001b[32m'9'\u001b[0m\n",
       "\u001b[1m}\u001b[0m\n"
      ]
     },
     "metadata": {},
     "output_type": "display_data"
    },
    {
     "data": {
      "text/html": [
       "<pre style=\"white-space:pre;overflow-x:auto;line-height:normal;font-family:Menlo,'DejaVu Sans Mono',consolas,'Courier New',monospace\">Processing li-qiu.txt\n",
       "</pre>\n"
      ],
      "text/plain": [
       "Processing li-qiu.txt\n"
      ]
     },
     "metadata": {},
     "output_type": "display_data"
    },
    {
     "data": {
      "text/html": [
       "<pre style=\"white-space:pre;overflow-x:auto;line-height:normal;font-family:Menlo,'DejaVu Sans Mono',consolas,'Courier New',monospace\">Researcher text:  Prof. Li Qiu is currently a professor in the Department of Electronic and Computer Engineering, \n",
       "at the Hong Kong University of Science and Technology.\n",
       "\n",
       "He was born in the city of Changsha <span style=\"font-weight: bold\">(</span>the capital of Hunan province<span style=\"font-weight: bold\">)</span> in the People’s Republic of China. He received \n",
       "his Bachelor’s degree from Hunan University in <span style=\"color: #008080; text-decoration-color: #008080; font-weight: bold\">1981</span> and his Masters and PhD degrees from the University of Toronto \n",
       "in <span style=\"color: #008080; text-decoration-color: #008080; font-weight: bold\">1987</span> and <span style=\"color: #008080; text-decoration-color: #008080; font-weight: bold\">1990</span> respectively.\n",
       "\n",
       "Since <span style=\"color: #008080; text-decoration-color: #008080; font-weight: bold\">1990</span>, Dr. Li Qiu has held research and teaching positions at the University of Toronto, the Canadian Space \n",
       "Agency, the University of Waterloo, the Fields Institute for Research in Mathematical Sciences, and the University \n",
       "of Minnesota. He joined the Hong Kong University of Science and Technology in <span style=\"color: #008080; text-decoration-color: #008080; font-weight: bold\">1993</span> and has also held visiting \n",
       "positions at Zhejiang University, Australian Defense Force Academy, and Harbin Institute of Technology.\n",
       "\n",
       "Dr. Li Qiu is a fellow of IEEE and a fellow of IFAC. He was a member of the IEEE Control Systems Society Board of \n",
       "Governors in <span style=\"color: #008080; text-decoration-color: #008080; font-weight: bold\">2012</span>. He served as a distinguished lecturer of the IEEE Control Systems Society from <span style=\"color: #008080; text-decoration-color: #008080; font-weight: bold\">2007</span> to <span style=\"color: #008080; text-decoration-color: #008080; font-weight: bold\">2009</span> and \n",
       "the general chair of the 7th Asian Control Conference which was held in Hong Kong in August <span style=\"color: #008080; text-decoration-color: #008080; font-weight: bold\">2009</span>. He has served as \n",
       "an associate editor of the publications IEEE Transactions on Automatic Control and Automatica. He is now a member \n",
       "of the editorial board of International Journal of Control.\n",
       "</pre>\n"
      ],
      "text/plain": [
       "Researcher text:  Prof. Li Qiu is currently a professor in the Department of Electronic and Computer Engineering, \n",
       "at the Hong Kong University of Science and Technology.\n",
       "\n",
       "He was born in the city of Changsha \u001b[1m(\u001b[0mthe capital of Hunan province\u001b[1m)\u001b[0m in the People’s Republic of China. He received \n",
       "his Bachelor’s degree from Hunan University in \u001b[1;36m1981\u001b[0m and his Masters and PhD degrees from the University of Toronto \n",
       "in \u001b[1;36m1987\u001b[0m and \u001b[1;36m1990\u001b[0m respectively.\n",
       "\n",
       "Since \u001b[1;36m1990\u001b[0m, Dr. Li Qiu has held research and teaching positions at the University of Toronto, the Canadian Space \n",
       "Agency, the University of Waterloo, the Fields Institute for Research in Mathematical Sciences, and the University \n",
       "of Minnesota. He joined the Hong Kong University of Science and Technology in \u001b[1;36m1993\u001b[0m and has also held visiting \n",
       "positions at Zhejiang University, Australian Defense Force Academy, and Harbin Institute of Technology.\n",
       "\n",
       "Dr. Li Qiu is a fellow of IEEE and a fellow of IFAC. He was a member of the IEEE Control Systems Society Board of \n",
       "Governors in \u001b[1;36m2012\u001b[0m. He served as a distinguished lecturer of the IEEE Control Systems Society from \u001b[1;36m2007\u001b[0m to \u001b[1;36m2009\u001b[0m and \n",
       "the general chair of the 7th Asian Control Conference which was held in Hong Kong in August \u001b[1;36m2009\u001b[0m. He has served as \n",
       "an associate editor of the publications IEEE Transactions on Automatic Control and Automatica. He is now a member \n",
       "of the editorial board of International Journal of Control.\n"
      ]
     },
     "metadata": {},
     "output_type": "display_data"
    },
    {
     "data": {
      "text/html": [
       "<pre style=\"white-space:pre;overflow-x:auto;line-height:normal;font-family:Menlo,'DejaVu Sans Mono',consolas,'Courier New',monospace\"><span style=\"font-weight: bold\">{</span>\n",
       "    <span style=\"color: #008000; text-decoration-color: #008000\">'friendliness-justification'</span>: <span style=\"color: #008000; text-decoration-color: #008000\">\"The biography focuses on factual career accomplishments and positions held by </span>\n",
       "<span style=\"color: #008000; text-decoration-color: #008000\">Prof. Li Qiu without any direct references to teamwork or collaboration experiences. There's no explicit emphasis </span>\n",
       "<span style=\"color: #008000; text-decoration-color: #008000\">on interpersonal skills or camaraderie.\"</span>,\n",
       "    <span style=\"color: #008000; text-decoration-color: #008000\">'friendliness'</span>: <span style=\"color: #008000; text-decoration-color: #008000\">'3'</span>,\n",
       "    <span style=\"color: #008000; text-decoration-color: #008000\">'we-vs-i-justification'</span>: <span style=\"color: #008000; text-decoration-color: #008000\">\"The biographical note is written in third person and highlights Prof. Li Qiu’s roles,</span>\n",
       "<span style=\"color: #008000; text-decoration-color: #008000\">achievements, and memberships, which suggests a focus on individual accomplishments rather than a collaborative </span>\n",
       "<span style=\"color: #008000; text-decoration-color: #008000\">narrative. For instance, phrases like 'He joined,' 'He served,' and 'He is now a member' focus on his individual </span>\n",
       "<span style=\"color: #008000; text-decoration-color: #008000\">contributions.\"</span>,\n",
       "    <span style=\"color: #008000; text-decoration-color: #008000\">'we-vs-i'</span>: <span style=\"color: #008000; text-decoration-color: #008000\">'4'</span>,\n",
       "    <span style=\"color: #008000; text-decoration-color: #008000\">'risk-averse-justification'</span>: <span style=\"color: #008000; text-decoration-color: #008000\">'The text does not provide explicit information on whether Prof. Li Qiu takes </span>\n",
       "<span style=\"color: #008000; text-decoration-color: #008000\">risks. However, his consistent and prestigious career progress in academia and involvement in various reputable </span>\n",
       "<span style=\"color: #008000; text-decoration-color: #008000\">institutions and editorial positions might indicate a cautious and well-planned career path.'</span>,\n",
       "    <span style=\"color: #008000; text-decoration-color: #008000\">'risk-averse'</span>: <span style=\"color: #008000; text-decoration-color: #008000\">'7'</span>,\n",
       "    <span style=\"color: #008000; text-decoration-color: #008000\">'career-orientation-justification'</span>: <span style=\"color: #008000; text-decoration-color: #008000\">'The text is predominantly focused on Prof. Li Qiu’s affiliations, degrees,</span>\n",
       "<span style=\"color: #008000; text-decoration-color: #008000\">and professional responsibilities, indicating a strong career focus, as seen in the various significant roles he </span>\n",
       "<span style=\"color: #008000; text-decoration-color: #008000\">has held and the recognitions he has received.'</span>,\n",
       "    <span style=\"color: #008000; text-decoration-color: #008000\">'career-orientation'</span>: <span style=\"color: #008000; text-decoration-color: #008000\">'9'</span>\n",
       "<span style=\"font-weight: bold\">}</span>\n",
       "</pre>\n"
      ],
      "text/plain": [
       "\u001b[1m{\u001b[0m\n",
       "    \u001b[32m'friendliness-justification'\u001b[0m: \u001b[32m\"The biography focuses on factual career accomplishments and positions held by \u001b[0m\n",
       "\u001b[32mProf. Li Qiu without any direct references to teamwork or collaboration experiences. There's no explicit emphasis \u001b[0m\n",
       "\u001b[32mon interpersonal skills or camaraderie.\"\u001b[0m,\n",
       "    \u001b[32m'friendliness'\u001b[0m: \u001b[32m'3'\u001b[0m,\n",
       "    \u001b[32m'we-vs-i-justification'\u001b[0m: \u001b[32m\"The biographical note is written in third person and highlights Prof. Li Qiu’s roles,\u001b[0m\n",
       "\u001b[32machievements, and memberships, which suggests a focus on individual accomplishments rather than a collaborative \u001b[0m\n",
       "\u001b[32mnarrative. For instance, phrases like 'He joined,' 'He served,' and 'He is now a member' focus on his individual \u001b[0m\n",
       "\u001b[32mcontributions.\"\u001b[0m,\n",
       "    \u001b[32m'we-vs-i'\u001b[0m: \u001b[32m'4'\u001b[0m,\n",
       "    \u001b[32m'risk-averse-justification'\u001b[0m: \u001b[32m'The text does not provide explicit information on whether Prof. Li Qiu takes \u001b[0m\n",
       "\u001b[32mrisks. However, his consistent and prestigious career progress in academia and involvement in various reputable \u001b[0m\n",
       "\u001b[32minstitutions and editorial positions might indicate a cautious and well-planned career path.'\u001b[0m,\n",
       "    \u001b[32m'risk-averse'\u001b[0m: \u001b[32m'7'\u001b[0m,\n",
       "    \u001b[32m'career-orientation-justification'\u001b[0m: \u001b[32m'The text is predominantly focused on Prof. Li Qiu’s affiliations, degrees,\u001b[0m\n",
       "\u001b[32mand professional responsibilities, indicating a strong career focus, as seen in the various significant roles he \u001b[0m\n",
       "\u001b[32mhas held and the recognitions he has received.'\u001b[0m,\n",
       "    \u001b[32m'career-orientation'\u001b[0m: \u001b[32m'9'\u001b[0m\n",
       "\u001b[1m}\u001b[0m\n"
      ]
     },
     "metadata": {},
     "output_type": "display_data"
    },
    {
     "data": {
      "text/html": [
       "<pre style=\"white-space:pre;overflow-x:auto;line-height:normal;font-family:Menlo,'DejaVu Sans Mono',consolas,'Courier New',monospace\">Processing ling-shi.txt\n",
       "</pre>\n"
      ],
      "text/plain": [
       "Processing ling-shi.txt\n"
      ]
     },
     "metadata": {},
     "output_type": "display_data"
    },
    {
     "data": {
      "text/html": [
       "<pre style=\"white-space:pre;overflow-x:auto;line-height:normal;font-family:Menlo,'DejaVu Sans Mono',consolas,'Courier New',monospace\">Researcher text:  Ling Shi <span style=\"font-weight: bold\">(</span>施凌<span style=\"font-weight: bold\">)</span>\n",
       "\n",
       "Professor\n",
       "\n",
       "Department of Electronic and Computer Engineering\n",
       "Hong Kong University of Science and Technology\n",
       "Clear Water Bay, Kowloon, Hong Kong\n",
       "\n",
       "Dr. Ling Shi was born in Chizhou <span style=\"font-weight: bold\">(</span>池州<span style=\"font-weight: bold\">)</span>, Anhui <span style=\"font-weight: bold\">(</span>安徽<span style=\"font-weight: bold\">)</span>. He was admitted by Tsinghua University in <span style=\"color: #008080; text-decoration-color: #008080; font-weight: bold\">1998</span> and later \n",
       "recommended to HKUST. He obtained his B.E. from EEE <span style=\"font-weight: bold\">(</span>now ECE<span style=\"font-weight: bold\">)</span>, HKUST, in <span style=\"color: #008080; text-decoration-color: #008080; font-weight: bold\">2002</span> and Ph.D. from CDS, Caltech, in <span style=\"color: #008080; text-decoration-color: #008080; font-weight: bold\">2008</span>.\n",
       "\n",
       "He is currently a Professor in the Department of Electronic and Computer Engineering at HKUST. His research \n",
       "interests include cyber-physical systems security, networked control systems, sensor scheduling, event-based state \n",
       "estimation, and multi-agent robotic systems <span style=\"font-weight: bold\">(</span>UAVs and UGVs<span style=\"font-weight: bold\">)</span>.\n",
       "\n",
       "He served as an editorial board member for the European Control Conference <span style=\"color: #008080; text-decoration-color: #008080; font-weight: bold\">2013</span>-<span style=\"color: #008080; text-decoration-color: #008080; font-weight: bold\">2016</span>. He was a subject editor for \n",
       "International Journal of Robust and Nonlinear Control <span style=\"font-weight: bold\">(</span><span style=\"color: #008080; text-decoration-color: #008080; font-weight: bold\">2015</span>-<span style=\"color: #008080; text-decoration-color: #008080; font-weight: bold\">2017</span><span style=\"font-weight: bold\">)</span>, an associate editor for IEEE Transactions on \n",
       "Control of Network Systems <span style=\"font-weight: bold\">(</span><span style=\"color: #008080; text-decoration-color: #008080; font-weight: bold\">2016</span>-<span style=\"color: #008080; text-decoration-color: #008080; font-weight: bold\">2020</span><span style=\"font-weight: bold\">)</span>, an associate editor for IEEE Control Systems Letters <span style=\"font-weight: bold\">(</span><span style=\"color: #008080; text-decoration-color: #008080; font-weight: bold\">2017</span>-<span style=\"color: #008080; text-decoration-color: #008080; font-weight: bold\">2020</span><span style=\"font-weight: bold\">)</span>, and an \n",
       "associate editor for a special issue on Secure Control of Cyber Physical Systems in IEEE Transactions on Control of\n",
       "Network Systems <span style=\"font-weight: bold\">(</span><span style=\"color: #008080; text-decoration-color: #008080; font-weight: bold\">2015</span>-<span style=\"color: #008080; text-decoration-color: #008080; font-weight: bold\">2017</span><span style=\"font-weight: bold\">)</span>. He also served as the General Chair of the 23rd International Symposium on \n",
       "Mathematical Theory of Networks and Systems <span style=\"font-weight: bold\">(</span>MTNS <span style=\"color: #008080; text-decoration-color: #008080; font-weight: bold\">2018</span><span style=\"font-weight: bold\">)</span>.\n",
       "\n",
       "He served as the Associate Director of the Robotics Institute at HKUST <span style=\"font-weight: bold\">(</span><span style=\"color: #008080; text-decoration-color: #008080; font-weight: bold\">2017</span>-<span style=\"color: #008080; text-decoration-color: #008080; font-weight: bold\">2021</span><span style=\"font-weight: bold\">)</span>. He is currently serving as a \n",
       "member of the Engineering Panel <span style=\"font-weight: bold\">(</span>Joint Research Schemes<span style=\"font-weight: bold\">)</span> of the Hong Kong Research Grants Council <span style=\"font-weight: bold\">(</span>RGC<span style=\"font-weight: bold\">)</span>, and the \n",
       "<span style=\"color: #800080; text-decoration-color: #800080; font-weight: bold\">MSc</span><span style=\"font-weight: bold\">(</span>ELEG<span style=\"font-weight: bold\">)</span> Program Director at School of Engineering, HKUST.\n",
       "\n",
       "He is a member of the Young Scientists Class <span style=\"color: #008080; text-decoration-color: #008080; font-weight: bold\">2020</span> of the World Economic Forum <span style=\"font-weight: bold\">(</span>WEF<span style=\"font-weight: bold\">)</span>, a member of The Hong Kong \n",
       "Young Academy of Sciences <span style=\"font-weight: bold\">(</span>YASHK<span style=\"font-weight: bold\">)</span>, and he is an IEEE Fellow. He is a recipient of the <span style=\"color: #008080; text-decoration-color: #008080; font-weight: bold\">2024</span> Chen Han-Fu Award.\n",
       "\n",
       "Google Scholar Citation: <span style=\"color: #008080; text-decoration-color: #008080; font-weight: bold\">12500</span>; h-index: <span style=\"color: #008080; text-decoration-color: #008080; font-weight: bold\">58</span>; i10-index: <span style=\"color: #008080; text-decoration-color: #008080; font-weight: bold\">166</span>\n",
       "</pre>\n"
      ],
      "text/plain": [
       "Researcher text:  Ling Shi \u001b[1m(\u001b[0m施凌\u001b[1m)\u001b[0m\n",
       "\n",
       "Professor\n",
       "\n",
       "Department of Electronic and Computer Engineering\n",
       "Hong Kong University of Science and Technology\n",
       "Clear Water Bay, Kowloon, Hong Kong\n",
       "\n",
       "Dr. Ling Shi was born in Chizhou \u001b[1m(\u001b[0m池州\u001b[1m)\u001b[0m, Anhui \u001b[1m(\u001b[0m安徽\u001b[1m)\u001b[0m. He was admitted by Tsinghua University in \u001b[1;36m1998\u001b[0m and later \n",
       "recommended to HKUST. He obtained his B.E. from EEE \u001b[1m(\u001b[0mnow ECE\u001b[1m)\u001b[0m, HKUST, in \u001b[1;36m2002\u001b[0m and Ph.D. from CDS, Caltech, in \u001b[1;36m2008\u001b[0m.\n",
       "\n",
       "He is currently a Professor in the Department of Electronic and Computer Engineering at HKUST. His research \n",
       "interests include cyber-physical systems security, networked control systems, sensor scheduling, event-based state \n",
       "estimation, and multi-agent robotic systems \u001b[1m(\u001b[0mUAVs and UGVs\u001b[1m)\u001b[0m.\n",
       "\n",
       "He served as an editorial board member for the European Control Conference \u001b[1;36m2013\u001b[0m-\u001b[1;36m2016\u001b[0m. He was a subject editor for \n",
       "International Journal of Robust and Nonlinear Control \u001b[1m(\u001b[0m\u001b[1;36m2015\u001b[0m-\u001b[1;36m2017\u001b[0m\u001b[1m)\u001b[0m, an associate editor for IEEE Transactions on \n",
       "Control of Network Systems \u001b[1m(\u001b[0m\u001b[1;36m2016\u001b[0m-\u001b[1;36m2020\u001b[0m\u001b[1m)\u001b[0m, an associate editor for IEEE Control Systems Letters \u001b[1m(\u001b[0m\u001b[1;36m2017\u001b[0m-\u001b[1;36m2020\u001b[0m\u001b[1m)\u001b[0m, and an \n",
       "associate editor for a special issue on Secure Control of Cyber Physical Systems in IEEE Transactions on Control of\n",
       "Network Systems \u001b[1m(\u001b[0m\u001b[1;36m2015\u001b[0m-\u001b[1;36m2017\u001b[0m\u001b[1m)\u001b[0m. He also served as the General Chair of the 23rd International Symposium on \n",
       "Mathematical Theory of Networks and Systems \u001b[1m(\u001b[0mMTNS \u001b[1;36m2018\u001b[0m\u001b[1m)\u001b[0m.\n",
       "\n",
       "He served as the Associate Director of the Robotics Institute at HKUST \u001b[1m(\u001b[0m\u001b[1;36m2017\u001b[0m-\u001b[1;36m2021\u001b[0m\u001b[1m)\u001b[0m. He is currently serving as a \n",
       "member of the Engineering Panel \u001b[1m(\u001b[0mJoint Research Schemes\u001b[1m)\u001b[0m of the Hong Kong Research Grants Council \u001b[1m(\u001b[0mRGC\u001b[1m)\u001b[0m, and the \n",
       "\u001b[1;35mMSc\u001b[0m\u001b[1m(\u001b[0mELEG\u001b[1m)\u001b[0m Program Director at School of Engineering, HKUST.\n",
       "\n",
       "He is a member of the Young Scientists Class \u001b[1;36m2020\u001b[0m of the World Economic Forum \u001b[1m(\u001b[0mWEF\u001b[1m)\u001b[0m, a member of The Hong Kong \n",
       "Young Academy of Sciences \u001b[1m(\u001b[0mYASHK\u001b[1m)\u001b[0m, and he is an IEEE Fellow. He is a recipient of the \u001b[1;36m2024\u001b[0m Chen Han-Fu Award.\n",
       "\n",
       "Google Scholar Citation: \u001b[1;36m12500\u001b[0m; h-index: \u001b[1;36m58\u001b[0m; i10-index: \u001b[1;36m166\u001b[0m\n"
      ]
     },
     "metadata": {},
     "output_type": "display_data"
    },
    {
     "data": {
      "text/html": [
       "<pre style=\"white-space:pre;overflow-x:auto;line-height:normal;font-family:Menlo,'DejaVu Sans Mono',consolas,'Courier New',monospace\"><span style=\"font-weight: bold\">{</span>\n",
       "    <span style=\"color: #008000; text-decoration-color: #008000\">'friendliness-justification'</span>: <span style=\"color: #008000; text-decoration-color: #008000\">'The text does not provide explicit insights into personal interactions or </span>\n",
       "<span style=\"color: #008000; text-decoration-color: #008000\">camaraderie; however, the involvement in various roles such as editorial positions and conference chair suggests </span>\n",
       "<span style=\"color: #008000; text-decoration-color: #008000\">some degree of collaboration and teamwork.'</span>,\n",
       "    <span style=\"color: #008000; text-decoration-color: #008000\">'friendliness'</span>: <span style=\"color: #008000; text-decoration-color: #008000\">'6'</span>,\n",
       "    <span style=\"color: #008000; text-decoration-color: #008000\">'we-vs-i-justification'</span>: <span style=\"color: #008000; text-decoration-color: #008000\">'The text predominantly uses third-person narrative, focusing on his positions and </span>\n",
       "<span style=\"color: #008000; text-decoration-color: #008000\">achievements rather than collaboration. The mention of roles like General Chair and Associate Director indicates </span>\n",
       "<span style=\"color: #008000; text-decoration-color: #008000\">some teamwork, but personal contribution is emphasized.'</span>,\n",
       "    <span style=\"color: #008000; text-decoration-color: #008000\">'we-vs-i'</span>: <span style=\"color: #008000; text-decoration-color: #008000\">'4'</span>,\n",
       "    <span style=\"color: #008000; text-decoration-color: #008000\">'risk-averse-justification'</span>: <span style=\"color: #008000; text-decoration-color: #008000\">'The career path described involves high academic achievement and stable roles </span>\n",
       "<span style=\"color: #008000; text-decoration-color: #008000\">like professor and editor, suggesting a preference for structured paths over more spontaneous or entrepreneurial </span>\n",
       "<span style=\"color: #008000; text-decoration-color: #008000\">ventures.'</span>,\n",
       "    <span style=\"color: #008000; text-decoration-color: #008000\">'risk-averse'</span>: <span style=\"color: #008000; text-decoration-color: #008000\">'7'</span>,\n",
       "    <span style=\"color: #008000; text-decoration-color: #008000\">'career-orientation-justification'</span>: <span style=\"color: #008000; text-decoration-color: #008000\">'The detailed list of positions, accomplishments, and awards alongside </span>\n",
       "<span style=\"color: #008000; text-decoration-color: #008000\">consistent progression in academia highlights a strong focus and dedication to career advancement.'</span>,\n",
       "    <span style=\"color: #008000; text-decoration-color: #008000\">'career-orientation'</span>: <span style=\"color: #008000; text-decoration-color: #008000\">'10'</span>\n",
       "<span style=\"font-weight: bold\">}</span>\n",
       "</pre>\n"
      ],
      "text/plain": [
       "\u001b[1m{\u001b[0m\n",
       "    \u001b[32m'friendliness-justification'\u001b[0m: \u001b[32m'The text does not provide explicit insights into personal interactions or \u001b[0m\n",
       "\u001b[32mcamaraderie; however, the involvement in various roles such as editorial positions and conference chair suggests \u001b[0m\n",
       "\u001b[32msome degree of collaboration and teamwork.'\u001b[0m,\n",
       "    \u001b[32m'friendliness'\u001b[0m: \u001b[32m'6'\u001b[0m,\n",
       "    \u001b[32m'we-vs-i-justification'\u001b[0m: \u001b[32m'The text predominantly uses third-person narrative, focusing on his positions and \u001b[0m\n",
       "\u001b[32machievements rather than collaboration. The mention of roles like General Chair and Associate Director indicates \u001b[0m\n",
       "\u001b[32msome teamwork, but personal contribution is emphasized.'\u001b[0m,\n",
       "    \u001b[32m'we-vs-i'\u001b[0m: \u001b[32m'4'\u001b[0m,\n",
       "    \u001b[32m'risk-averse-justification'\u001b[0m: \u001b[32m'The career path described involves high academic achievement and stable roles \u001b[0m\n",
       "\u001b[32mlike professor and editor, suggesting a preference for structured paths over more spontaneous or entrepreneurial \u001b[0m\n",
       "\u001b[32mventures.'\u001b[0m,\n",
       "    \u001b[32m'risk-averse'\u001b[0m: \u001b[32m'7'\u001b[0m,\n",
       "    \u001b[32m'career-orientation-justification'\u001b[0m: \u001b[32m'The detailed list of positions, accomplishments, and awards alongside \u001b[0m\n",
       "\u001b[32mconsistent progression in academia highlights a strong focus and dedication to career advancement.'\u001b[0m,\n",
       "    \u001b[32m'career-orientation'\u001b[0m: \u001b[32m'10'\u001b[0m\n",
       "\u001b[1m}\u001b[0m\n"
      ]
     },
     "metadata": {},
     "output_type": "display_data"
    },
    {
     "data": {
      "text/html": [
       "<pre style=\"white-space:pre;overflow-x:auto;line-height:normal;font-family:Menlo,'DejaVu Sans Mono',consolas,'Courier New',monospace\">Processing chi-keung-tang.txt\n",
       "</pre>\n"
      ],
      "text/plain": [
       "Processing chi-keung-tang.txt\n"
      ]
     },
     "metadata": {},
     "output_type": "display_data"
    },
    {
     "data": {
      "text/html": [
       "<pre style=\"white-space:pre;overflow-x:auto;line-height:normal;font-family:Menlo,'DejaVu Sans Mono',consolas,'Courier New',monospace\">Researcher text:  Chi Keung Tang received the MSc and PhD degrees in computer science from the University of \n",
       "Southern California, Los Angeles, in <span style=\"color: #008080; text-decoration-color: #008080; font-weight: bold\">1999</span> and <span style=\"color: #008080; text-decoration-color: #008080; font-weight: bold\">2000</span>, respectively.\n",
       "\n",
       "Since <span style=\"color: #008080; text-decoration-color: #008080; font-weight: bold\">2000</span>, he has been with the Department of Computer Science and Engineering at the Hong Kong University of \n",
       "Science and Technology where he is currently a full professor.\n",
       "\n",
       "He was on sabbatical at University of California, Los Angeles, in <span style=\"color: #008080; text-decoration-color: #008080; font-weight: bold\">2008</span>. He was an adjunct researcher at the Visual \n",
       "Computing Group of Microsoft Research Asia. His research areas are computer vision, computer graphics and machine \n",
       "learning. He was an associate editor of IEEE Transactions on Pattern Analysis and Machine Intelligence <span style=\"font-weight: bold\">(</span>TPAMI<span style=\"font-weight: bold\">)</span> and \n",
       "was on the editorial board of International Journal of Computer Vision <span style=\"font-weight: bold\">(</span>IJCV<span style=\"font-weight: bold\">)</span>. He served as an area chair for ACCV \n",
       "<span style=\"color: #008080; text-decoration-color: #008080; font-weight: bold\">2006</span>, ICCV <span style=\"color: #008080; text-decoration-color: #008080; font-weight: bold\">2007</span>, ICCV <span style=\"color: #008080; text-decoration-color: #008080; font-weight: bold\">2009</span>, ICCV <span style=\"color: #008080; text-decoration-color: #008080; font-weight: bold\">2011</span>, ICCV <span style=\"color: #008080; text-decoration-color: #008080; font-weight: bold\">2015</span> and ICCV <span style=\"color: #008080; text-decoration-color: #008080; font-weight: bold\">2017</span>, and as a technical papers committee member for the \n",
       "inaugural SIGGRAPH Asia <span style=\"color: #008080; text-decoration-color: #008080; font-weight: bold\">2008</span>, SIGGRAPH <span style=\"color: #008080; text-decoration-color: #008080; font-weight: bold\">2011</span>, SIGGRAPH Asia <span style=\"color: #008080; text-decoration-color: #008080; font-weight: bold\">2011</span>, SIGGRAPH <span style=\"color: #008080; text-decoration-color: #008080; font-weight: bold\">2012</span>, SIGGRAPH Asia <span style=\"color: #008080; text-decoration-color: #008080; font-weight: bold\">2012</span>, SIGGRAPH Asia \n",
       "<span style=\"color: #008080; text-decoration-color: #008080; font-weight: bold\">2014</span> and SIGGRAPH Asia <span style=\"color: #008080; text-decoration-color: #008080; font-weight: bold\">2015</span>. He is a senior member of the IEEE Computer Society.\n",
       "</pre>\n"
      ],
      "text/plain": [
       "Researcher text:  Chi Keung Tang received the MSc and PhD degrees in computer science from the University of \n",
       "Southern California, Los Angeles, in \u001b[1;36m1999\u001b[0m and \u001b[1;36m2000\u001b[0m, respectively.\n",
       "\n",
       "Since \u001b[1;36m2000\u001b[0m, he has been with the Department of Computer Science and Engineering at the Hong Kong University of \n",
       "Science and Technology where he is currently a full professor.\n",
       "\n",
       "He was on sabbatical at University of California, Los Angeles, in \u001b[1;36m2008\u001b[0m. He was an adjunct researcher at the Visual \n",
       "Computing Group of Microsoft Research Asia. His research areas are computer vision, computer graphics and machine \n",
       "learning. He was an associate editor of IEEE Transactions on Pattern Analysis and Machine Intelligence \u001b[1m(\u001b[0mTPAMI\u001b[1m)\u001b[0m and \n",
       "was on the editorial board of International Journal of Computer Vision \u001b[1m(\u001b[0mIJCV\u001b[1m)\u001b[0m. He served as an area chair for ACCV \n",
       "\u001b[1;36m2006\u001b[0m, ICCV \u001b[1;36m2007\u001b[0m, ICCV \u001b[1;36m2009\u001b[0m, ICCV \u001b[1;36m2011\u001b[0m, ICCV \u001b[1;36m2015\u001b[0m and ICCV \u001b[1;36m2017\u001b[0m, and as a technical papers committee member for the \n",
       "inaugural SIGGRAPH Asia \u001b[1;36m2008\u001b[0m, SIGGRAPH \u001b[1;36m2011\u001b[0m, SIGGRAPH Asia \u001b[1;36m2011\u001b[0m, SIGGRAPH \u001b[1;36m2012\u001b[0m, SIGGRAPH Asia \u001b[1;36m2012\u001b[0m, SIGGRAPH Asia \n",
       "\u001b[1;36m2014\u001b[0m and SIGGRAPH Asia \u001b[1;36m2015\u001b[0m. He is a senior member of the IEEE Computer Society.\n"
      ]
     },
     "metadata": {},
     "output_type": "display_data"
    },
    {
     "data": {
      "text/html": [
       "<pre style=\"white-space:pre;overflow-x:auto;line-height:normal;font-family:Menlo,'DejaVu Sans Mono',consolas,'Courier New',monospace\"><span style=\"font-weight: bold\">{</span>\n",
       "    <span style=\"color: #008000; text-decoration-color: #008000\">'friendliness-justification'</span>: <span style=\"color: #008000; text-decoration-color: #008000\">\"Chi Keung Tang's background does not provide direct information on personal </span>\n",
       "<span style=\"color: #008000; text-decoration-color: #008000\">friendliness or mention collaborations aside from professional roles.\"</span>,\n",
       "    <span style=\"color: #008000; text-decoration-color: #008000\">'friendliness'</span>: <span style=\"color: #008000; text-decoration-color: #008000\">'3'</span>,\n",
       "    <span style=\"color: #008000; text-decoration-color: #008000\">'we-vs-i-justification'</span>: <span style=\"color: #008000; text-decoration-color: #008000\">\"The text focuses primarily on Chi Keung Tang's individual achievements and roles, </span>\n",
       "<span style=\"color: #008000; text-decoration-color: #008000\">with limited reference to collaboration or teamwork, as evidenced by the description of his academic and </span>\n",
       "<span style=\"color: #008000; text-decoration-color: #008000\">professional history without mention of joint efforts.\"</span>,\n",
       "    <span style=\"color: #008000; text-decoration-color: #008000\">'we-vs-i'</span>: <span style=\"color: #008000; text-decoration-color: #008000\">'3'</span>,\n",
       "    <span style=\"color: #008000; text-decoration-color: #008000\">'risk-averse-justification'</span>: <span style=\"color: #008000; text-decoration-color: #008000\">'The document does not provide enough information to assess his attitude towards </span>\n",
       "<span style=\"color: #008000; text-decoration-color: #008000\">risk-taking, focusing instead on his established academic and professional roles.'</span>,\n",
       "    <span style=\"color: #008000; text-decoration-color: #008000\">'risk-averse'</span>: <span style=\"color: #008000; text-decoration-color: #008000\">'5'</span>,\n",
       "    <span style=\"color: #008000; text-decoration-color: #008000\">'career-orientation-justification'</span>: <span style=\"color: #008000; text-decoration-color: #008000\">'Chi Keung Tang appears highly career-oriented, indicated by his transition</span>\n",
       "<span style=\"color: #008000; text-decoration-color: #008000\">from a PhD to a professorship, multiple editorial and organizational roles, and involvement with prestigious </span>\n",
       "<span style=\"color: #008000; text-decoration-color: #008000\">conferences and academic institutions.'</span>,\n",
       "    <span style=\"color: #008000; text-decoration-color: #008000\">'career-orientation'</span>: <span style=\"color: #008000; text-decoration-color: #008000\">'9'</span>\n",
       "<span style=\"font-weight: bold\">}</span>\n",
       "</pre>\n"
      ],
      "text/plain": [
       "\u001b[1m{\u001b[0m\n",
       "    \u001b[32m'friendliness-justification'\u001b[0m: \u001b[32m\"Chi Keung Tang's background does not provide direct information on personal \u001b[0m\n",
       "\u001b[32mfriendliness or mention collaborations aside from professional roles.\"\u001b[0m,\n",
       "    \u001b[32m'friendliness'\u001b[0m: \u001b[32m'3'\u001b[0m,\n",
       "    \u001b[32m'we-vs-i-justification'\u001b[0m: \u001b[32m\"The text focuses primarily on Chi Keung Tang's individual achievements and roles, \u001b[0m\n",
       "\u001b[32mwith limited reference to collaboration or teamwork, as evidenced by the description of his academic and \u001b[0m\n",
       "\u001b[32mprofessional history without mention of joint efforts.\"\u001b[0m,\n",
       "    \u001b[32m'we-vs-i'\u001b[0m: \u001b[32m'3'\u001b[0m,\n",
       "    \u001b[32m'risk-averse-justification'\u001b[0m: \u001b[32m'The document does not provide enough information to assess his attitude towards \u001b[0m\n",
       "\u001b[32mrisk-taking, focusing instead on his established academic and professional roles.'\u001b[0m,\n",
       "    \u001b[32m'risk-averse'\u001b[0m: \u001b[32m'5'\u001b[0m,\n",
       "    \u001b[32m'career-orientation-justification'\u001b[0m: \u001b[32m'Chi Keung Tang appears highly career-oriented, indicated by his transition\u001b[0m\n",
       "\u001b[32mfrom a PhD to a professorship, multiple editorial and organizational roles, and involvement with prestigious \u001b[0m\n",
       "\u001b[32mconferences and academic institutions.'\u001b[0m,\n",
       "    \u001b[32m'career-orientation'\u001b[0m: \u001b[32m'9'\u001b[0m\n",
       "\u001b[1m}\u001b[0m\n"
      ]
     },
     "metadata": {},
     "output_type": "display_data"
    },
    {
     "data": {
      "text/html": [
       "<pre style=\"white-space:pre;overflow-x:auto;line-height:normal;font-family:Menlo,'DejaVu Sans Mono',consolas,'Courier New',monospace\">Processing kei-may-lau.txt\n",
       "</pre>\n"
      ],
      "text/plain": [
       "Processing kei-may-lau.txt\n"
      ]
     },
     "metadata": {},
     "output_type": "display_data"
    },
    {
     "data": {
      "text/html": [
       "<pre style=\"white-space:pre;overflow-x:auto;line-height:normal;font-family:Menlo,'DejaVu Sans Mono',consolas,'Courier New',monospace\">Researcher text:  PhD, Rice University\n",
       "Fellow, IEEE\n",
       "Fellow, OSA\n",
       "Fellow, Hong Kong Academy of Engineering Sciences\n",
       "Fellow, CSR\n",
       "\n",
       " \n",
       "\n",
       "Professor Kei May Lau was born in Hong Kong and received all her pre-college education <span style=\"font-weight: bold\">(</span>K-<span style=\"color: #008080; text-decoration-color: #008080; font-weight: bold\">12</span><span style=\"font-weight: bold\">)</span> from the Pui Ching \n",
       "Middle School.  She received the B.S. and M.S. degrees in physics from University of Minnesota, Minneapolis, in \n",
       "<span style=\"color: #008080; text-decoration-color: #008080; font-weight: bold\">1976</span> and <span style=\"color: #008080; text-decoration-color: #008080; font-weight: bold\">1977</span> respectively, and the Ph.D. Degree in Electrical Engineering from Rice University, Houston, Texas, in\n",
       "<span style=\"color: #008080; text-decoration-color: #008080; font-weight: bold\">1981</span>.\n",
       "\n",
       "From <span style=\"color: #008080; text-decoration-color: #008080; font-weight: bold\">1980</span> to <span style=\"color: #008080; text-decoration-color: #008080; font-weight: bold\">1982</span>, she was a Senior Engineer at M/A-COM Gallium Arsenide Products, Inc., where she worked on \n",
       "epitaxial growth of GaAs for microwave components and development of mm-wave devices. In the fall of <span style=\"color: #008080; text-decoration-color: #008080; font-weight: bold\">1982</span>, she \n",
       "joined the faculty of the Electrical and Computer Engineering Department at the University of \n",
       "Massachusetts/Amherst, where she became a full professor in <span style=\"color: #008080; text-decoration-color: #008080; font-weight: bold\">1993</span>. She initiated metalorganic chemical vapor \n",
       "deposition <span style=\"font-weight: bold\">(</span>MOCVD<span style=\"font-weight: bold\">)</span>, compound semiconductor materials and devices programs at UMass. Her research group performed \n",
       "studies on heterostructures, quantum wells, strained-layers, III-V selective epitaxy, as well as high-frequency and\n",
       "photonic devices. Professor Lau spent her first sabbatical leave in <span style=\"color: #008080; text-decoration-color: #008080; font-weight: bold\">1989</span> at the MIT Lincoln Laboratory and worked \n",
       "with the Electro-optical Devices Group. She developed acoustic sensors at the DuPont Central Research and \n",
       "Development Laboratory in Wilmington, Delaware during her second sabbatical leave <span style=\"font-weight: bold\">(</span><span style=\"color: #008000; text-decoration-color: #008000\">'95-'</span><span style=\"color: #008080; text-decoration-color: #008080; font-weight: bold\">96</span><span style=\"font-weight: bold\">)</span>. In the fall of <span style=\"color: #008080; text-decoration-color: #008080; font-weight: bold\">1998</span>, \n",
       "she was a visiting professor at the Hong Kong University of Science and Technology <span style=\"font-weight: bold\">(</span>HKUST<span style=\"font-weight: bold\">)</span>, where she joined the \n",
       "regular faculty since the summer of <span style=\"color: #008080; text-decoration-color: #008080; font-weight: bold\">2000</span>. She established the Photonics Technology Center for R&amp;D effort in III-V \n",
       "and wide band-gap semiconductor materials and devices.\n",
       "\n",
       "Professor Lau is a Fellow of the IEEE, OSA, and the Hong Kong Academy of Engineering Sciences. She served on the \n",
       "IEEE Electron Devices Society Administrative Committee and was an Editor of the IEEE Transactions on Electron \n",
       "Devices <span style=\"font-weight: bold\">(</span><span style=\"color: #008080; text-decoration-color: #008080; font-weight: bold\">1996</span>-<span style=\"color: #008080; text-decoration-color: #008080; font-weight: bold\">2002</span><span style=\"font-weight: bold\">)</span>, an Associate Editor for the Journal of Crystal Growth and Applied Physics Letters. She is now \n",
       "an Editor of the IEEE Electron Device Letters.\n",
       "\n",
       " \n",
       "</pre>\n"
      ],
      "text/plain": [
       "Researcher text:  PhD, Rice University\n",
       "Fellow, IEEE\n",
       "Fellow, OSA\n",
       "Fellow, Hong Kong Academy of Engineering Sciences\n",
       "Fellow, CSR\n",
       "\n",
       " \n",
       "\n",
       "Professor Kei May Lau was born in Hong Kong and received all her pre-college education \u001b[1m(\u001b[0mK-\u001b[1;36m12\u001b[0m\u001b[1m)\u001b[0m from the Pui Ching \n",
       "Middle School.  She received the B.S. and M.S. degrees in physics from University of Minnesota, Minneapolis, in \n",
       "\u001b[1;36m1976\u001b[0m and \u001b[1;36m1977\u001b[0m respectively, and the Ph.D. Degree in Electrical Engineering from Rice University, Houston, Texas, in\n",
       "\u001b[1;36m1981\u001b[0m.\n",
       "\n",
       "From \u001b[1;36m1980\u001b[0m to \u001b[1;36m1982\u001b[0m, she was a Senior Engineer at M/A-COM Gallium Arsenide Products, Inc., where she worked on \n",
       "epitaxial growth of GaAs for microwave components and development of mm-wave devices. In the fall of \u001b[1;36m1982\u001b[0m, she \n",
       "joined the faculty of the Electrical and Computer Engineering Department at the University of \n",
       "Massachusetts/Amherst, where she became a full professor in \u001b[1;36m1993\u001b[0m. She initiated metalorganic chemical vapor \n",
       "deposition \u001b[1m(\u001b[0mMOCVD\u001b[1m)\u001b[0m, compound semiconductor materials and devices programs at UMass. Her research group performed \n",
       "studies on heterostructures, quantum wells, strained-layers, III-V selective epitaxy, as well as high-frequency and\n",
       "photonic devices. Professor Lau spent her first sabbatical leave in \u001b[1;36m1989\u001b[0m at the MIT Lincoln Laboratory and worked \n",
       "with the Electro-optical Devices Group. She developed acoustic sensors at the DuPont Central Research and \n",
       "Development Laboratory in Wilmington, Delaware during her second sabbatical leave \u001b[1m(\u001b[0m\u001b[32m'95-'\u001b[0m\u001b[1;36m96\u001b[0m\u001b[1m)\u001b[0m. In the fall of \u001b[1;36m1998\u001b[0m, \n",
       "she was a visiting professor at the Hong Kong University of Science and Technology \u001b[1m(\u001b[0mHKUST\u001b[1m)\u001b[0m, where she joined the \n",
       "regular faculty since the summer of \u001b[1;36m2000\u001b[0m. She established the Photonics Technology Center for R&D effort in III-V \n",
       "and wide band-gap semiconductor materials and devices.\n",
       "\n",
       "Professor Lau is a Fellow of the IEEE, OSA, and the Hong Kong Academy of Engineering Sciences. She served on the \n",
       "IEEE Electron Devices Society Administrative Committee and was an Editor of the IEEE Transactions on Electron \n",
       "Devices \u001b[1m(\u001b[0m\u001b[1;36m1996\u001b[0m-\u001b[1;36m2002\u001b[0m\u001b[1m)\u001b[0m, an Associate Editor for the Journal of Crystal Growth and Applied Physics Letters. She is now \n",
       "an Editor of the IEEE Electron Device Letters.\n",
       "\n",
       " \n"
      ]
     },
     "metadata": {},
     "output_type": "display_data"
    },
    {
     "data": {
      "text/html": [
       "<pre style=\"white-space:pre;overflow-x:auto;line-height:normal;font-family:Menlo,'DejaVu Sans Mono',consolas,'Courier New',monospace\"><span style=\"font-weight: bold\">{</span>\n",
       "    <span style=\"color: #008000; text-decoration-color: #008000\">'friendliness-justification'</span>: <span style=\"color: #008000; text-decoration-color: #008000\">'The text does not provide direct evidence regarding friendliness, but being a </span>\n",
       "<span style=\"color: #008000; text-decoration-color: #008000\">Fellow of multiple prestigious organizations suggests collaborative and collegial qualities.'</span>,\n",
       "    <span style=\"color: #008000; text-decoration-color: #008000\">'friendliness'</span>: <span style=\"color: #008000; text-decoration-color: #008000\">'7'</span>,\n",
       "    <span style=\"color: #008000; text-decoration-color: #008000\">'we-vs-i-justification'</span>: <span style=\"color: #008000; text-decoration-color: #008000\">\"Professor Lau uses terms like 'her research group' and 'she established,' indicating </span>\n",
       "<span style=\"color: #008000; text-decoration-color: #008000\">a balance with a slight emphasis on personal contributions over collaborative ones.\"</span>,\n",
       "    <span style=\"color: #008000; text-decoration-color: #008000\">'we-vs-i'</span>: <span style=\"color: #008000; text-decoration-color: #008000\">'6'</span>,\n",
       "    <span style=\"color: #008000; text-decoration-color: #008000\">'risk-averse-justification'</span>: <span style=\"color: #008000; text-decoration-color: #008000\">'The text shows a pattern of innovation, such as initiating new programs and </span>\n",
       "<span style=\"color: #008000; text-decoration-color: #008000\">establishing centers, which suggests a moderate level of risk-taking.'</span>,\n",
       "    <span style=\"color: #008000; text-decoration-color: #008000\">'risk-averse'</span>: <span style=\"color: #008000; text-decoration-color: #008000\">'4'</span>,\n",
       "    <span style=\"color: #008000; text-decoration-color: #008000\">'career-orientation-justification'</span>: <span style=\"color: #008000; text-decoration-color: #008000\">'The extensive detail on her career achievements, positions, and </span>\n",
       "<span style=\"color: #008000; text-decoration-color: #008000\">contributions, along with her status as a Fellow in several prestigious organizations, highlights a strong focus on</span>\n",
       "<span style=\"color: #008000; text-decoration-color: #008000\">her career.'</span>,\n",
       "    <span style=\"color: #008000; text-decoration-color: #008000\">'career-orientation'</span>: <span style=\"color: #008000; text-decoration-color: #008000\">'10'</span>\n",
       "<span style=\"font-weight: bold\">}</span>\n",
       "</pre>\n"
      ],
      "text/plain": [
       "\u001b[1m{\u001b[0m\n",
       "    \u001b[32m'friendliness-justification'\u001b[0m: \u001b[32m'The text does not provide direct evidence regarding friendliness, but being a \u001b[0m\n",
       "\u001b[32mFellow of multiple prestigious organizations suggests collaborative and collegial qualities.'\u001b[0m,\n",
       "    \u001b[32m'friendliness'\u001b[0m: \u001b[32m'7'\u001b[0m,\n",
       "    \u001b[32m'we-vs-i-justification'\u001b[0m: \u001b[32m\"Professor Lau uses terms like 'her research group' and 'she established,' indicating \u001b[0m\n",
       "\u001b[32ma balance with a slight emphasis on personal contributions over collaborative ones.\"\u001b[0m,\n",
       "    \u001b[32m'we-vs-i'\u001b[0m: \u001b[32m'6'\u001b[0m,\n",
       "    \u001b[32m'risk-averse-justification'\u001b[0m: \u001b[32m'The text shows a pattern of innovation, such as initiating new programs and \u001b[0m\n",
       "\u001b[32mestablishing centers, which suggests a moderate level of risk-taking.'\u001b[0m,\n",
       "    \u001b[32m'risk-averse'\u001b[0m: \u001b[32m'4'\u001b[0m,\n",
       "    \u001b[32m'career-orientation-justification'\u001b[0m: \u001b[32m'The extensive detail on her career achievements, positions, and \u001b[0m\n",
       "\u001b[32mcontributions, along with her status as a Fellow in several prestigious organizations, highlights a strong focus on\u001b[0m\n",
       "\u001b[32mher career.'\u001b[0m,\n",
       "    \u001b[32m'career-orientation'\u001b[0m: \u001b[32m'10'\u001b[0m\n",
       "\u001b[1m}\u001b[0m\n"
      ]
     },
     "metadata": {},
     "output_type": "display_data"
    }
   ],
   "source": [
    "from rich import print\n",
    "\n",
    "# TODO: append university profile w/ personal website text\n",
    "# TODO: make sure that results aren't correlated w/ more text (more personable because they wrote more) \n",
    "\n",
    "for researcher_file in os.listdir(\"data/websites\"):\n",
    "    researcher_text = open(f\"data/websites/{researcher_file}\").read()\n",
    "    print(\"Processing\", researcher_file)\n",
    "    print(\"Researcher text: \", researcher_text)\n",
    "    print(process_homepage_text(researcher_text))\n",
    "    "
   ]
  },
  {
   "cell_type": "code",
   "execution_count": null,
   "metadata": {},
   "outputs": [],
   "source": [
    "# TODO: save to HK-month-analysis-data"
   ]
  },
  {
   "cell_type": "code",
   "execution_count": null,
   "metadata": {},
   "outputs": [],
   "source": []
  }
 ],
 "metadata": {
  "kernelspec": {
   "display_name": "research",
   "language": "python",
   "name": "python3"
  },
  "language_info": {
   "codemirror_mode": {
    "name": "ipython",
    "version": 3
   },
   "file_extension": ".py",
   "mimetype": "text/x-python",
   "name": "python",
   "nbconvert_exporter": "python",
   "pygments_lexer": "ipython3",
   "version": "3.12.3"
  }
 },
 "nbformat": 4,
 "nbformat_minor": 2
}

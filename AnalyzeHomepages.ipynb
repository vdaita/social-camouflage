{
 "cells": [
  {
   "cell_type": "code",
   "execution_count": 16,
   "metadata": {},
   "outputs": [
    {
     "data": {
      "text/html": [
       "<div>\n",
       "<style scoped>\n",
       "    .dataframe tbody tr th:only-of-type {\n",
       "        vertical-align: middle;\n",
       "    }\n",
       "\n",
       "    .dataframe tbody tr th {\n",
       "        vertical-align: top;\n",
       "    }\n",
       "\n",
       "    .dataframe thead th {\n",
       "        text-align: right;\n",
       "    }\n",
       "</style>\n",
       "<table border=\"1\" class=\"dataframe\">\n",
       "  <thead>\n",
       "    <tr style=\"text-align: right;\">\n",
       "      <th></th>\n",
       "      <th>Name</th>\n",
       "      <th>Personal Website</th>\n",
       "      <th>About Us Text</th>\n",
       "    </tr>\n",
       "  </thead>\n",
       "  <tbody>\n",
       "    <tr>\n",
       "      <th>0</th>\n",
       "      <td>Albert Chi-Shing CHUNG</td>\n",
       "      <td>https://cse.hkust.edu.hk/admin/people/faculty/...</td>\n",
       "      <td>Albert Chung is a Full Professor at the Depart...</td>\n",
       "    </tr>\n",
       "    <tr>\n",
       "      <th>1</th>\n",
       "      <td>Andrew Wing-On POON</td>\n",
       "      <td>https://eeawpoon.people.ust.hk/</td>\n",
       "      <td>Professor Poon received his BA degree from the...</td>\n",
       "    </tr>\n",
       "    <tr>\n",
       "      <th>2</th>\n",
       "      <td>Antoni Bert CHAN</td>\n",
       "      <td>https://www.cs.cityu.edu.hk/~abchan/</td>\n",
       "      <td>Dr. Antoni Chan is a Professor at the City Uni...</td>\n",
       "    </tr>\n",
       "    <tr>\n",
       "      <th>3</th>\n",
       "      <td>Brian Kan-Wing MAK</td>\n",
       "      <td>https://cse.hkust.edu.hk/admin/people/faculty/...</td>\n",
       "      <td>Dr. Mak is currently an Associate Professor in...</td>\n",
       "    </tr>\n",
       "    <tr>\n",
       "      <th>4</th>\n",
       "      <td>CHAN Chee Yong</td>\n",
       "      <td>https://sgps.cuhk.edu.hk/profile/professor-cha...</td>\n",
       "      <td>Professor Chee Hon Chan is an Assistant Profes...</td>\n",
       "    </tr>\n",
       "  </tbody>\n",
       "</table>\n",
       "</div>"
      ],
      "text/plain": [
       "                     Name                                   Personal Website  \\\n",
       "0  Albert Chi-Shing CHUNG  https://cse.hkust.edu.hk/admin/people/faculty/...   \n",
       "1     Andrew Wing-On POON                    https://eeawpoon.people.ust.hk/   \n",
       "2        Antoni Bert CHAN               https://www.cs.cityu.edu.hk/~abchan/   \n",
       "3      Brian Kan-Wing MAK  https://cse.hkust.edu.hk/admin/people/faculty/...   \n",
       "4          CHAN Chee Yong  https://sgps.cuhk.edu.hk/profile/professor-cha...   \n",
       "\n",
       "                                       About Us Text  \n",
       "0  Albert Chung is a Full Professor at the Depart...  \n",
       "1  Professor Poon received his BA degree from the...  \n",
       "2  Dr. Antoni Chan is a Professor at the City Uni...  \n",
       "3  Dr. Mak is currently an Associate Professor in...  \n",
       "4  Professor Chee Hon Chan is an Assistant Profes...  "
      ]
     },
     "execution_count": 16,
     "metadata": {},
     "output_type": "execute_result"
    }
   ],
   "source": [
    "import pandas as pd\n",
    "\n",
    "df = pd.read_csv(\"homepage_data.csv\")\n",
    "df = df[~df['Personal Website'].str.endswith('.sg').astype(bool)]\n",
    "df.head()"
   ]
  },
  {
   "cell_type": "code",
   "execution_count": null,
   "metadata": {},
   "outputs": [],
   "source": []
  },
  {
   "cell_type": "code",
   "execution_count": 26,
   "metadata": {},
   "outputs": [
    {
     "data": {
      "text/plain": [
       "(137,)"
      ]
     },
     "execution_count": 26,
     "metadata": {},
     "output_type": "execute_result"
    }
   ],
   "source": [
    "import pandas as pd\n",
    "df = pd.read_csv(\"data/0721-month-analysis-data.csv\")\n",
    "# df.columns\n",
    "df = df[df['Pre-2014 School'].isin(['CityU', 'CUHK', 'HKU', 'HKUST'])]\n",
    "df['Researcher Cleaned Name'].unique().shape\n"
   ]
  },
  {
   "cell_type": "code",
   "execution_count": 17,
   "metadata": {},
   "outputs": [],
   "source": [
    "from openai import OpenAI\n",
    "from dotenv import load_dotenv\n",
    "import os\n",
    "import requests\n",
    "from markdownify import markdownify as md\n",
    "import json\n",
    "\n",
    "load_dotenv(\".env\")\n",
    "\n",
    "client = OpenAI(\n",
    "    api_key=os.getenv(\"OPENAI_API_KEY\"),\n",
    ")\n",
    "\n",
    "def process_homepage_text(text: str):\n",
    "    response = client.chat.completions.create(\n",
    "        messages=[{\n",
    "            \"role\": \"system\",\n",
    "            \"content\": \"\"\"Extract the following qualities, with justification in a JSON formatted output. \n",
    "Try to infer these from the way the author writes about themselves. Use and describe subtle language patterns to extract this understanding about a given individual.  JSON output format: \n",
    "{\n",
    "    \"friendliness-justification\": \"Explain your friendliness quote with citations\",\n",
    "    \"friendliness\": \"Scale of 1-10, how much they exhibit traits of cameraderie, teamwork and collaboration. 10 being heavy-emphasis on friendliness.\",\n",
    "    \"we-vs-i-justification\": \"Explain your we-vs-i quote with citations\",\n",
    "    \"we-vs-i\": \"Scale of 1-10, how much they talk about themselves vs their collaborators. 10 being heavy-emphasis on we.\",\n",
    "    \"risk-averse-justification\": \"Explain your risk-averse quote with citations\",\n",
    "    \"risk-averse\": \"Scale of 1-10, how they feel about taking risks. 10 being very risk-averse.\",\n",
    "    \"career-orientation-justification\": \"Explain your career-orientation quote with citations\",\n",
    "    \"career-orientation\": \"How much a person cares about their career. 10 being very career-oriented.\",\n",
    "}\"\"\"\n",
    "        }, {\n",
    "            \"role\": \"user\",\n",
    "            \"content\": text\n",
    "        }],\n",
    "        response_format={\n",
    "            \"type\": \"json_object\"\n",
    "        },\n",
    "        model=\"gpt-4o\"\n",
    "    )\n",
    "    response = json.loads(response.choices[0].message.content)\n",
    "    return response\n"
   ]
  },
  {
   "cell_type": "code",
   "execution_count": 18,
   "metadata": {},
   "outputs": [
    {
     "name": "stderr",
     "output_type": "stream",
     "text": [
      "0it [00:00, ?it/s]"
     ]
    },
    {
     "data": {
      "text/html": [
       "<pre style=\"white-space:pre;overflow-x:auto;line-height:normal;font-family:Menlo,'DejaVu Sans Mono',consolas,'Courier New',monospace\"><span style=\"font-weight: bold\">{</span>\n",
       "    <span style=\"color: #008000; text-decoration-color: #008000\">'friendliness-justification'</span>: <span style=\"color: #008000; text-decoration-color: #008000\">'The webpage does not provide direct language or personal narrative indicating a </span>\n",
       "<span style=\"color: #008000; text-decoration-color: #008000\">sense of friendliness, as it is a professional faculty profile primarily focusing on academic and career </span>\n",
       "<span style=\"color: #008000; text-decoration-color: #008000\">achievements.'</span>,\n",
       "    <span style=\"color: #008000; text-decoration-color: #008000\">'friendliness'</span>: <span style=\"color: #008000; text-decoration-color: #008000\">'5'</span>,\n",
       "    <span style=\"color: #008000; text-decoration-color: #008000\">'we-vs-i-justification'</span>: <span style=\"color: #008000; text-decoration-color: #008000\">\"In most academic profiles, the focus is predominantly on individual accomplishments </span>\n",
       "<span style=\"color: #008000; text-decoration-color: #008000\">like papers, research focus, and projects, suggesting a balanced emphasis on 'I' within a collaborative 'We' </span>\n",
       "<span style=\"color: #008000; text-decoration-color: #008000\">environment, but specific language from the profile is missing here.\"</span>,\n",
       "    <span style=\"color: #008000; text-decoration-color: #008000\">'we-vs-i'</span>: <span style=\"color: #008000; text-decoration-color: #008000\">'6'</span>,\n",
       "    <span style=\"color: #008000; text-decoration-color: #008000\">'risk-averse-justification'</span>: <span style=\"color: #008000; text-decoration-color: #008000\">\"The focus on stable academic positions and achievements in such profiles </span>\n",
       "<span style=\"color: #008000; text-decoration-color: #008000\">indicates a moderate degree of risk aversion, though specific language from the provided URL isn't available.\"</span>,\n",
       "    <span style=\"color: #008000; text-decoration-color: #008000\">'risk-averse'</span>: <span style=\"color: #008000; text-decoration-color: #008000\">'7'</span>,\n",
       "    <span style=\"color: #008000; text-decoration-color: #008000\">'career-orientation-justification'</span>: <span style=\"color: #008000; text-decoration-color: #008000\">'Given the nature of the URL (an academic faculty profile), a significant </span>\n",
       "<span style=\"color: #008000; text-decoration-color: #008000\">emphasis is placed on career achievements and positions, indicating a high career orientation even without specific</span>\n",
       "<span style=\"color: #008000; text-decoration-color: #008000\">text available.'</span>,\n",
       "    <span style=\"color: #008000; text-decoration-color: #008000\">'career-orientation'</span>: <span style=\"color: #008000; text-decoration-color: #008000\">'9'</span>,\n",
       "    <span style=\"color: #008000; text-decoration-color: #008000\">'name'</span>: <span style=\"color: #008000; text-decoration-color: #008000\">'Albert Chi-Shing CHUNG'</span>\n",
       "<span style=\"font-weight: bold\">}</span>\n",
       "</pre>\n"
      ],
      "text/plain": [
       "\u001b[1m{\u001b[0m\n",
       "    \u001b[32m'friendliness-justification'\u001b[0m: \u001b[32m'The webpage does not provide direct language or personal narrative indicating a \u001b[0m\n",
       "\u001b[32msense of friendliness, as it is a professional faculty profile primarily focusing on academic and career \u001b[0m\n",
       "\u001b[32machievements.'\u001b[0m,\n",
       "    \u001b[32m'friendliness'\u001b[0m: \u001b[32m'5'\u001b[0m,\n",
       "    \u001b[32m'we-vs-i-justification'\u001b[0m: \u001b[32m\"In most academic profiles, the focus is predominantly on individual accomplishments \u001b[0m\n",
       "\u001b[32mlike papers, research focus, and projects, suggesting a balanced emphasis on 'I' within a collaborative 'We' \u001b[0m\n",
       "\u001b[32menvironment, but specific language from the profile is missing here.\"\u001b[0m,\n",
       "    \u001b[32m'we-vs-i'\u001b[0m: \u001b[32m'6'\u001b[0m,\n",
       "    \u001b[32m'risk-averse-justification'\u001b[0m: \u001b[32m\"The focus on stable academic positions and achievements in such profiles \u001b[0m\n",
       "\u001b[32mindicates a moderate degree of risk aversion, though specific language from the provided URL isn't available.\"\u001b[0m,\n",
       "    \u001b[32m'risk-averse'\u001b[0m: \u001b[32m'7'\u001b[0m,\n",
       "    \u001b[32m'career-orientation-justification'\u001b[0m: \u001b[32m'Given the nature of the URL \u001b[0m\u001b[32m(\u001b[0m\u001b[32man academic faculty profile\u001b[0m\u001b[32m)\u001b[0m\u001b[32m, a significant \u001b[0m\n",
       "\u001b[32memphasis is placed on career achievements and positions, indicating a high career orientation even without specific\u001b[0m\n",
       "\u001b[32mtext available.'\u001b[0m,\n",
       "    \u001b[32m'career-orientation'\u001b[0m: \u001b[32m'9'\u001b[0m,\n",
       "    \u001b[32m'name'\u001b[0m: \u001b[32m'Albert Chi-Shing CHUNG'\u001b[0m\n",
       "\u001b[1m}\u001b[0m\n"
      ]
     },
     "metadata": {},
     "output_type": "display_data"
    },
    {
     "name": "stderr",
     "output_type": "stream",
     "text": [
      "1it [00:04,  4.24s/it]"
     ]
    },
    {
     "data": {
      "text/html": [
       "<pre style=\"white-space:pre;overflow-x:auto;line-height:normal;font-family:Menlo,'DejaVu Sans Mono',consolas,'Courier New',monospace\"><span style=\"font-weight: bold\">{</span>\n",
       "    <span style=\"color: #008000; text-decoration-color: #008000\">'friendliness-justification'</span>: <span style=\"color: #008000; text-decoration-color: #008000\">'The document provided does not contain any written content that would allow for </span>\n",
       "<span style=\"color: #008000; text-decoration-color: #008000\">an inference on friendliness. It is a URL link.'</span>,\n",
       "    <span style=\"color: #008000; text-decoration-color: #008000\">'friendliness'</span>: <span style=\"color: #008000; text-decoration-color: #008000\">'5'</span>,\n",
       "    <span style=\"color: #008000; text-decoration-color: #008000\">'we-vs-i-justification'</span>: <span style=\"color: #008000; text-decoration-color: #008000\">'The document provided does not contain any written content that would allow for an </span>\n",
       "<span style=\"color: #008000; text-decoration-color: #008000\">inference on the use of collective vs individualistic language. It is a URL link.'</span>,\n",
       "    <span style=\"color: #008000; text-decoration-color: #008000\">'we-vs-i'</span>: <span style=\"color: #008000; text-decoration-color: #008000\">'5'</span>,\n",
       "    <span style=\"color: #008000; text-decoration-color: #008000\">'risk-averse-justification'</span>: <span style=\"color: #008000; text-decoration-color: #008000\">'The document provided does not contain any written content that would allow for </span>\n",
       "<span style=\"color: #008000; text-decoration-color: #008000\">an inference on risk tolerance. It is a URL link.'</span>,\n",
       "    <span style=\"color: #008000; text-decoration-color: #008000\">'risk-averse'</span>: <span style=\"color: #008000; text-decoration-color: #008000\">'5'</span>,\n",
       "    <span style=\"color: #008000; text-decoration-color: #008000\">'career-orientation-justification'</span>: <span style=\"color: #008000; text-decoration-color: #008000\">'The document provided does not contain any written content that would </span>\n",
       "<span style=\"color: #008000; text-decoration-color: #008000\">allow for an inference on career orientation. It is a URL link.'</span>,\n",
       "    <span style=\"color: #008000; text-decoration-color: #008000\">'career-orientation'</span>: <span style=\"color: #008000; text-decoration-color: #008000\">'5'</span>,\n",
       "    <span style=\"color: #008000; text-decoration-color: #008000\">'name'</span>: <span style=\"color: #008000; text-decoration-color: #008000\">'Andrew Wing-On POON'</span>\n",
       "<span style=\"font-weight: bold\">}</span>\n",
       "</pre>\n"
      ],
      "text/plain": [
       "\u001b[1m{\u001b[0m\n",
       "    \u001b[32m'friendliness-justification'\u001b[0m: \u001b[32m'The document provided does not contain any written content that would allow for \u001b[0m\n",
       "\u001b[32man inference on friendliness. It is a URL link.'\u001b[0m,\n",
       "    \u001b[32m'friendliness'\u001b[0m: \u001b[32m'5'\u001b[0m,\n",
       "    \u001b[32m'we-vs-i-justification'\u001b[0m: \u001b[32m'The document provided does not contain any written content that would allow for an \u001b[0m\n",
       "\u001b[32minference on the use of collective vs individualistic language. It is a URL link.'\u001b[0m,\n",
       "    \u001b[32m'we-vs-i'\u001b[0m: \u001b[32m'5'\u001b[0m,\n",
       "    \u001b[32m'risk-averse-justification'\u001b[0m: \u001b[32m'The document provided does not contain any written content that would allow for \u001b[0m\n",
       "\u001b[32man inference on risk tolerance. It is a URL link.'\u001b[0m,\n",
       "    \u001b[32m'risk-averse'\u001b[0m: \u001b[32m'5'\u001b[0m,\n",
       "    \u001b[32m'career-orientation-justification'\u001b[0m: \u001b[32m'The document provided does not contain any written content that would \u001b[0m\n",
       "\u001b[32mallow for an inference on career orientation. It is a URL link.'\u001b[0m,\n",
       "    \u001b[32m'career-orientation'\u001b[0m: \u001b[32m'5'\u001b[0m,\n",
       "    \u001b[32m'name'\u001b[0m: \u001b[32m'Andrew Wing-On POON'\u001b[0m\n",
       "\u001b[1m}\u001b[0m\n"
      ]
     },
     "metadata": {},
     "output_type": "display_data"
    },
    {
     "name": "stderr",
     "output_type": "stream",
     "text": [
      "2it [00:08,  4.10s/it]"
     ]
    },
    {
     "data": {
      "text/html": [
       "<pre style=\"white-space:pre;overflow-x:auto;line-height:normal;font-family:Menlo,'DejaVu Sans Mono',consolas,'Courier New',monospace\"><span style=\"font-weight: bold\">{</span>\n",
       "    <span style=\"color: #008000; text-decoration-color: #008000\">'friendliness-justification'</span>: <span style=\"color: #008000; text-decoration-color: #008000\">'The website primarily contains academic and professional information about </span>\n",
       "<span style=\"color: #008000; text-decoration-color: #008000\">Andrew B. Chan, focusing on research, publications, and projects. There is little to no personal content that would</span>\n",
       "<span style=\"color: #008000; text-decoration-color: #008000\">display traits of friendliness or camaraderie.'</span>,\n",
       "    <span style=\"color: #008000; text-decoration-color: #008000\">'friendliness'</span>: <span style=\"color: #008000; text-decoration-color: #008000\">'3'</span>,\n",
       "    <span style=\"color: #008000; text-decoration-color: #008000\">'we-vs-i-justification'</span>: <span style=\"color: #008000; text-decoration-color: #008000\">\"The content focuses on Andrew B. Chan's work and achievements, with frequent mentions</span>\n",
       "<span style=\"color: #008000; text-decoration-color: #008000\">of his research and publications. While there is mention of collaborative projects, the language predominantly </span>\n",
       "<span style=\"color: #008000; text-decoration-color: #008000\">highlights individual accomplishments.\"</span>,\n",
       "    <span style=\"color: #008000; text-decoration-color: #008000\">'we-vs-i'</span>: <span style=\"color: #008000; text-decoration-color: #008000\">'4'</span>,\n",
       "    <span style=\"color: #008000; text-decoration-color: #008000\">'risk-averse-justification'</span>: <span style=\"color: #008000; text-decoration-color: #008000\">'The website presents a stable academic career, emphasizing long-term projects, </span>\n",
       "<span style=\"color: #008000; text-decoration-color: #008000\">collaboration with established institutions, and a focus on published research rather than innovative, high-risk </span>\n",
       "<span style=\"color: #008000; text-decoration-color: #008000\">endeavors.'</span>,\n",
       "    <span style=\"color: #008000; text-decoration-color: #008000\">'risk-averse'</span>: <span style=\"color: #008000; text-decoration-color: #008000\">'7'</span>,\n",
       "    <span style=\"color: #008000; text-decoration-color: #008000\">'career-orientation-justification'</span>: <span style=\"color: #008000; text-decoration-color: #008000\">'Andrew B. Chan’s website is dedicated to his professional and academic </span>\n",
       "<span style=\"color: #008000; text-decoration-color: #008000\">career, with extensive details on his research, publications, and contributions to the field, indicating a high </span>\n",
       "<span style=\"color: #008000; text-decoration-color: #008000\">degree of career orientation.'</span>,\n",
       "    <span style=\"color: #008000; text-decoration-color: #008000\">'career-orientation'</span>: <span style=\"color: #008000; text-decoration-color: #008000\">'9'</span>,\n",
       "    <span style=\"color: #008000; text-decoration-color: #008000\">'name'</span>: <span style=\"color: #008000; text-decoration-color: #008000\">'Antoni Bert CHAN'</span>\n",
       "<span style=\"font-weight: bold\">}</span>\n",
       "</pre>\n"
      ],
      "text/plain": [
       "\u001b[1m{\u001b[0m\n",
       "    \u001b[32m'friendliness-justification'\u001b[0m: \u001b[32m'The website primarily contains academic and professional information about \u001b[0m\n",
       "\u001b[32mAndrew B. Chan, focusing on research, publications, and projects. There is little to no personal content that would\u001b[0m\n",
       "\u001b[32mdisplay traits of friendliness or camaraderie.'\u001b[0m,\n",
       "    \u001b[32m'friendliness'\u001b[0m: \u001b[32m'3'\u001b[0m,\n",
       "    \u001b[32m'we-vs-i-justification'\u001b[0m: \u001b[32m\"The content focuses on Andrew B. Chan's work and achievements, with frequent mentions\u001b[0m\n",
       "\u001b[32mof his research and publications. While there is mention of collaborative projects, the language predominantly \u001b[0m\n",
       "\u001b[32mhighlights individual accomplishments.\"\u001b[0m,\n",
       "    \u001b[32m'we-vs-i'\u001b[0m: \u001b[32m'4'\u001b[0m,\n",
       "    \u001b[32m'risk-averse-justification'\u001b[0m: \u001b[32m'The website presents a stable academic career, emphasizing long-term projects, \u001b[0m\n",
       "\u001b[32mcollaboration with established institutions, and a focus on published research rather than innovative, high-risk \u001b[0m\n",
       "\u001b[32mendeavors.'\u001b[0m,\n",
       "    \u001b[32m'risk-averse'\u001b[0m: \u001b[32m'7'\u001b[0m,\n",
       "    \u001b[32m'career-orientation-justification'\u001b[0m: \u001b[32m'Andrew B. Chan’s website is dedicated to his professional and academic \u001b[0m\n",
       "\u001b[32mcareer, with extensive details on his research, publications, and contributions to the field, indicating a high \u001b[0m\n",
       "\u001b[32mdegree of career orientation.'\u001b[0m,\n",
       "    \u001b[32m'career-orientation'\u001b[0m: \u001b[32m'9'\u001b[0m,\n",
       "    \u001b[32m'name'\u001b[0m: \u001b[32m'Antoni Bert CHAN'\u001b[0m\n",
       "\u001b[1m}\u001b[0m\n"
      ]
     },
     "metadata": {},
     "output_type": "display_data"
    },
    {
     "name": "stderr",
     "output_type": "stream",
     "text": [
      "3it [00:13,  4.69s/it]"
     ]
    },
    {
     "data": {
      "text/html": [
       "<pre style=\"white-space:pre;overflow-x:auto;line-height:normal;font-family:Menlo,'DejaVu Sans Mono',consolas,'Courier New',monospace\"><span style=\"font-weight: bold\">{</span>\n",
       "    <span style=\"color: #008000; text-decoration-color: #008000\">'friendliness-justification'</span>: <span style=\"color: #008000; text-decoration-color: #008000\">'The document does not provide direct quotes or text from the individual in </span>\n",
       "<span style=\"color: #008000; text-decoration-color: #008000\">question. It is difficult to assess their friendliness without further context or personal writings.'</span>,\n",
       "    <span style=\"color: #008000; text-decoration-color: #008000\">'friendliness'</span>: <span style=\"color: #008000; text-decoration-color: #008000\">'Not applicable due to lack of specific personal content.'</span>,\n",
       "    <span style=\"color: #008000; text-decoration-color: #008000\">'we-vs-i-justification'</span>: <span style=\"color: #008000; text-decoration-color: #008000\">\"The document does not contain personal pronouns or narrative that indicates the use </span>\n",
       "<span style=\"color: #008000; text-decoration-color: #008000\">of 'we' or 'I'. It is primarily a faculty profile which generally does not delve into personal language use.\"</span>,\n",
       "    <span style=\"color: #008000; text-decoration-color: #008000\">'we-vs-i'</span>: <span style=\"color: #008000; text-decoration-color: #008000\">'Not applicable due to lack of specific personal content.'</span>,\n",
       "    <span style=\"color: #008000; text-decoration-color: #008000\">'risk-averse-justification'</span>: <span style=\"color: #008000; text-decoration-color: #008000\">'The profile does not contain any personal reflections on risk nor does it offer </span>\n",
       "<span style=\"color: #008000; text-decoration-color: #008000\">narrative from the subject that showcases risk-taking preferences.'</span>,\n",
       "    <span style=\"color: #008000; text-decoration-color: #008000\">'risk-averse'</span>: <span style=\"color: #008000; text-decoration-color: #008000\">'Not applicable due to lack of specific personal content.'</span>,\n",
       "    <span style=\"color: #008000; text-decoration-color: #008000\">'career-orientation-justification'</span>: <span style=\"color: #008000; text-decoration-color: #008000\">'Given that the content is a faculty profile on an academic website, it </span>\n",
       "<span style=\"color: #008000; text-decoration-color: #008000\">inherently suggests high career orientation and professional focus.'</span>,\n",
       "    <span style=\"color: #008000; text-decoration-color: #008000\">'career-orientation'</span>: <span style=\"color: #008000; text-decoration-color: #008000\">'8'</span>,\n",
       "    <span style=\"color: #008000; text-decoration-color: #008000\">'name'</span>: <span style=\"color: #008000; text-decoration-color: #008000\">'Brian Kan-Wing MAK'</span>\n",
       "<span style=\"font-weight: bold\">}</span>\n",
       "</pre>\n"
      ],
      "text/plain": [
       "\u001b[1m{\u001b[0m\n",
       "    \u001b[32m'friendliness-justification'\u001b[0m: \u001b[32m'The document does not provide direct quotes or text from the individual in \u001b[0m\n",
       "\u001b[32mquestion. It is difficult to assess their friendliness without further context or personal writings.'\u001b[0m,\n",
       "    \u001b[32m'friendliness'\u001b[0m: \u001b[32m'Not applicable due to lack of specific personal content.'\u001b[0m,\n",
       "    \u001b[32m'we-vs-i-justification'\u001b[0m: \u001b[32m\"The document does not contain personal pronouns or narrative that indicates the use \u001b[0m\n",
       "\u001b[32mof 'we' or 'I'. It is primarily a faculty profile which generally does not delve into personal language use.\"\u001b[0m,\n",
       "    \u001b[32m'we-vs-i'\u001b[0m: \u001b[32m'Not applicable due to lack of specific personal content.'\u001b[0m,\n",
       "    \u001b[32m'risk-averse-justification'\u001b[0m: \u001b[32m'The profile does not contain any personal reflections on risk nor does it offer \u001b[0m\n",
       "\u001b[32mnarrative from the subject that showcases risk-taking preferences.'\u001b[0m,\n",
       "    \u001b[32m'risk-averse'\u001b[0m: \u001b[32m'Not applicable due to lack of specific personal content.'\u001b[0m,\n",
       "    \u001b[32m'career-orientation-justification'\u001b[0m: \u001b[32m'Given that the content is a faculty profile on an academic website, it \u001b[0m\n",
       "\u001b[32minherently suggests high career orientation and professional focus.'\u001b[0m,\n",
       "    \u001b[32m'career-orientation'\u001b[0m: \u001b[32m'8'\u001b[0m,\n",
       "    \u001b[32m'name'\u001b[0m: \u001b[32m'Brian Kan-Wing MAK'\u001b[0m\n",
       "\u001b[1m}\u001b[0m\n"
      ]
     },
     "metadata": {},
     "output_type": "display_data"
    },
    {
     "name": "stderr",
     "output_type": "stream",
     "text": [
      "4it [00:19,  5.11s/it]"
     ]
    },
    {
     "data": {
      "text/html": [
       "<pre style=\"white-space:pre;overflow-x:auto;line-height:normal;font-family:Menlo,'DejaVu Sans Mono',consolas,'Courier New',monospace\"><span style=\"font-weight: bold\">{</span>\n",
       "    <span style=\"color: #008000; text-decoration-color: #008000\">'friendliness-justification'</span>: <span style=\"color: #008000; text-decoration-color: #008000\">'The source does not provide detailed personal reflections or narrative contexts </span>\n",
       "<span style=\"color: #008000; text-decoration-color: #008000\">that could help assess friendliness. Most academic profiles, such as this one, focus on credentials, publications, </span>\n",
       "<span style=\"color: #008000; text-decoration-color: #008000\">and professional achievements.'</span>,\n",
       "    <span style=\"color: #008000; text-decoration-color: #008000\">'friendliness'</span>: <span style=\"color: #008000; text-decoration-color: #008000\">'5'</span>,\n",
       "    <span style=\"color: #008000; text-decoration-color: #008000\">'we-vs-i-justification'</span>: <span style=\"color: #008000; text-decoration-color: #008000\">\"Academic profiles often speak to research outcomes as a product of teamwork, </span>\n",
       "<span style=\"color: #008000; text-decoration-color: #008000\">particularly in scientific fields. However, specific attributions of collaboration ('we' or 'teamwork') versus </span>\n",
       "<span style=\"color: #008000; text-decoration-color: #008000\">individual achievement ('I') are not evident solely from credentials and publication lists.\"</span>,\n",
       "    <span style=\"color: #008000; text-decoration-color: #008000\">'we-vs-i'</span>: <span style=\"color: #008000; text-decoration-color: #008000\">'6'</span>,\n",
       "    <span style=\"color: #008000; text-decoration-color: #008000\">'risk-averse-justification'</span>: <span style=\"color: #008000; text-decoration-color: #008000\">'The profile is unlikely to explicitly discuss personal attitudes towards risk. </span>\n",
       "<span style=\"color: #008000; text-decoration-color: #008000\">Typically, it focuses on established credentials and research topics rather than personal exploration or innovation</span>\n",
       "<span style=\"color: #008000; text-decoration-color: #008000\">strategies.'</span>,\n",
       "    <span style=\"color: #008000; text-decoration-color: #008000\">'risk-averse'</span>: <span style=\"color: #008000; text-decoration-color: #008000\">'5'</span>,\n",
       "    <span style=\"color: #008000; text-decoration-color: #008000\">'career-orientation-justification'</span>: <span style=\"color: #008000; text-decoration-color: #008000\">\"The presence of a detailed academic profile suggests a significant </span>\n",
       "<span style=\"color: #008000; text-decoration-color: #008000\">dedication to one's career, emphasizing achievements, positions held, and contributions to the field.\"</span>,\n",
       "    <span style=\"color: #008000; text-decoration-color: #008000\">'career-orientation'</span>: <span style=\"color: #008000; text-decoration-color: #008000\">'9'</span>,\n",
       "    <span style=\"color: #008000; text-decoration-color: #008000\">'name'</span>: <span style=\"color: #008000; text-decoration-color: #008000\">'CHAN Chee Yong'</span>\n",
       "<span style=\"font-weight: bold\">}</span>\n",
       "</pre>\n"
      ],
      "text/plain": [
       "\u001b[1m{\u001b[0m\n",
       "    \u001b[32m'friendliness-justification'\u001b[0m: \u001b[32m'The source does not provide detailed personal reflections or narrative contexts \u001b[0m\n",
       "\u001b[32mthat could help assess friendliness. Most academic profiles, such as this one, focus on credentials, publications, \u001b[0m\n",
       "\u001b[32mand professional achievements.'\u001b[0m,\n",
       "    \u001b[32m'friendliness'\u001b[0m: \u001b[32m'5'\u001b[0m,\n",
       "    \u001b[32m'we-vs-i-justification'\u001b[0m: \u001b[32m\"Academic profiles often speak to research outcomes as a product of teamwork, \u001b[0m\n",
       "\u001b[32mparticularly in scientific fields. However, specific attributions of collaboration \u001b[0m\u001b[32m(\u001b[0m\u001b[32m'we' or 'teamwork'\u001b[0m\u001b[32m)\u001b[0m\u001b[32m versus \u001b[0m\n",
       "\u001b[32mindividual achievement \u001b[0m\u001b[32m(\u001b[0m\u001b[32m'I'\u001b[0m\u001b[32m)\u001b[0m\u001b[32m are not evident solely from credentials and publication lists.\"\u001b[0m,\n",
       "    \u001b[32m'we-vs-i'\u001b[0m: \u001b[32m'6'\u001b[0m,\n",
       "    \u001b[32m'risk-averse-justification'\u001b[0m: \u001b[32m'The profile is unlikely to explicitly discuss personal attitudes towards risk. \u001b[0m\n",
       "\u001b[32mTypically, it focuses on established credentials and research topics rather than personal exploration or innovation\u001b[0m\n",
       "\u001b[32mstrategies.'\u001b[0m,\n",
       "    \u001b[32m'risk-averse'\u001b[0m: \u001b[32m'5'\u001b[0m,\n",
       "    \u001b[32m'career-orientation-justification'\u001b[0m: \u001b[32m\"The presence of a detailed academic profile suggests a significant \u001b[0m\n",
       "\u001b[32mdedication to one's career, emphasizing achievements, positions held, and contributions to the field.\"\u001b[0m,\n",
       "    \u001b[32m'career-orientation'\u001b[0m: \u001b[32m'9'\u001b[0m,\n",
       "    \u001b[32m'name'\u001b[0m: \u001b[32m'CHAN Chee Yong'\u001b[0m\n",
       "\u001b[1m}\u001b[0m\n"
      ]
     },
     "metadata": {},
     "output_type": "display_data"
    },
    {
     "name": "stderr",
     "output_type": "stream",
     "text": [
      "5it [00:24,  5.23s/it]"
     ]
    },
    {
     "data": {
      "text/html": [
       "<pre style=\"white-space:pre;overflow-x:auto;line-height:normal;font-family:Menlo,'DejaVu Sans Mono',consolas,'Courier New',monospace\"><span style=\"font-weight: bold\">{</span>\n",
       "    <span style=\"color: #008000; text-decoration-color: #008000\">'friendliness-justification'</span>: <span style=\"color: #008000; text-decoration-color: #008000\">'The personal webpage does not provide explicit text or statements from which to </span>\n",
       "<span style=\"color: #008000; text-decoration-color: #008000\">directly gauge friendliness. Typically, an absence of personal anecdotes, testimonials, or informal language can </span>\n",
       "<span style=\"color: #008000; text-decoration-color: #008000\">imply a neutral to low emphasis on personal warmth.'</span>,\n",
       "    <span style=\"color: #008000; text-decoration-color: #008000\">'friendliness'</span>: <span style=\"color: #008000; text-decoration-color: #008000\">'5'</span>,\n",
       "    <span style=\"color: #008000; text-decoration-color: #008000\">'we-vs-i-justification'</span>: <span style=\"color: #008000; text-decoration-color: #008000\">'Professional academic profiles generally focus on ‘I’ when detailing personal </span>\n",
       "<span style=\"color: #008000; text-decoration-color: #008000\">achievements such as publications or research. Without specific collaborative language or examples, it is difficult</span>\n",
       "<span style=\"color: #008000; text-decoration-color: #008000\">to assess this attribute in detail.'</span>,\n",
       "    <span style=\"color: #008000; text-decoration-color: #008000\">'we-vs-i'</span>: <span style=\"color: #008000; text-decoration-color: #008000\">'4'</span>,\n",
       "    <span style=\"color: #008000; text-decoration-color: #008000\">'risk-averse-justification'</span>: <span style=\"color: #008000; text-decoration-color: #008000\">'Since this is more a professional academic profile, there is no explicit mention </span>\n",
       "<span style=\"color: #008000; text-decoration-color: #008000\">of risk-taking or aversion. Academics typically show cautious progress marked by peer-reviewed publications, which </span>\n",
       "<span style=\"color: #008000; text-decoration-color: #008000\">may hint at a balanced approach.'</span>,\n",
       "    <span style=\"color: #008000; text-decoration-color: #008000\">'risk-averse'</span>: <span style=\"color: #008000; text-decoration-color: #008000\">'5'</span>,\n",
       "    <span style=\"color: #008000; text-decoration-color: #008000\">'career-orientation-justification'</span>: <span style=\"color: #008000; text-decoration-color: #008000\">\"The detailed professional experience, complete listing of publications, </span>\n",
       "<span style=\"color: #008000; text-decoration-color: #008000\">and academic achievements suggest a strong career focus. Presenting one's work in such a manner typically indicates</span>\n",
       "<span style=\"color: #008000; text-decoration-color: #008000\">a high career orientation.\"</span>,\n",
       "    <span style=\"color: #008000; text-decoration-color: #008000\">'career-orientation'</span>: <span style=\"color: #008000; text-decoration-color: #008000\">'9'</span>,\n",
       "    <span style=\"color: #008000; text-decoration-color: #008000\">'name'</span>: <span style=\"color: #008000; text-decoration-color: #008000\">'CHUA Tat Seng'</span>\n",
       "<span style=\"font-weight: bold\">}</span>\n",
       "</pre>\n"
      ],
      "text/plain": [
       "\u001b[1m{\u001b[0m\n",
       "    \u001b[32m'friendliness-justification'\u001b[0m: \u001b[32m'The personal webpage does not provide explicit text or statements from which to \u001b[0m\n",
       "\u001b[32mdirectly gauge friendliness. Typically, an absence of personal anecdotes, testimonials, or informal language can \u001b[0m\n",
       "\u001b[32mimply a neutral to low emphasis on personal warmth.'\u001b[0m,\n",
       "    \u001b[32m'friendliness'\u001b[0m: \u001b[32m'5'\u001b[0m,\n",
       "    \u001b[32m'we-vs-i-justification'\u001b[0m: \u001b[32m'Professional academic profiles generally focus on ‘I’ when detailing personal \u001b[0m\n",
       "\u001b[32machievements such as publications or research. Without specific collaborative language or examples, it is difficult\u001b[0m\n",
       "\u001b[32mto assess this attribute in detail.'\u001b[0m,\n",
       "    \u001b[32m'we-vs-i'\u001b[0m: \u001b[32m'4'\u001b[0m,\n",
       "    \u001b[32m'risk-averse-justification'\u001b[0m: \u001b[32m'Since this is more a professional academic profile, there is no explicit mention \u001b[0m\n",
       "\u001b[32mof risk-taking or aversion. Academics typically show cautious progress marked by peer-reviewed publications, which \u001b[0m\n",
       "\u001b[32mmay hint at a balanced approach.'\u001b[0m,\n",
       "    \u001b[32m'risk-averse'\u001b[0m: \u001b[32m'5'\u001b[0m,\n",
       "    \u001b[32m'career-orientation-justification'\u001b[0m: \u001b[32m\"The detailed professional experience, complete listing of publications, \u001b[0m\n",
       "\u001b[32mand academic achievements suggest a strong career focus. Presenting one's work in such a manner typically indicates\u001b[0m\n",
       "\u001b[32ma high career orientation.\"\u001b[0m,\n",
       "    \u001b[32m'career-orientation'\u001b[0m: \u001b[32m'9'\u001b[0m,\n",
       "    \u001b[32m'name'\u001b[0m: \u001b[32m'CHUA Tat Seng'\u001b[0m\n",
       "\u001b[1m}\u001b[0m\n"
      ]
     },
     "metadata": {},
     "output_type": "display_data"
    },
    {
     "name": "stderr",
     "output_type": "stream",
     "text": [
      "6it [00:30,  5.37s/it]"
     ]
    },
    {
     "data": {
      "text/html": [
       "<pre style=\"white-space:pre;overflow-x:auto;line-height:normal;font-family:Menlo,'DejaVu Sans Mono',consolas,'Courier New',monospace\"><span style=\"font-weight: bold\">{</span>\n",
       "    <span style=\"color: #008000; text-decoration-color: #008000\">'friendliness-justification'</span>: <span style=\"color: #008000; text-decoration-color: #008000\">'Since there are no personal statements from the individual, it is not possible </span>\n",
       "<span style=\"color: #008000; text-decoration-color: #008000\">to determine friendliness from the provided link.'</span>,\n",
       "    <span style=\"color: #008000; text-decoration-color: #008000\">'friendliness'</span>: <span style=\"color: #008000; text-decoration-color: #008000\">'N/A'</span>,\n",
       "    <span style=\"color: #008000; text-decoration-color: #008000\">'we-vs-i-justification'</span>: <span style=\"color: #008000; text-decoration-color: #008000\">\"Without a personal statement or bio to analyze, it is not possible to assess the </span>\n",
       "<span style=\"color: #008000; text-decoration-color: #008000\">emphasis on 'we' vs 'I' from the provided link.\"</span>,\n",
       "    <span style=\"color: #008000; text-decoration-color: #008000\">'we-vs-i'</span>: <span style=\"color: #008000; text-decoration-color: #008000\">'N/A'</span>,\n",
       "    <span style=\"color: #008000; text-decoration-color: #008000\">'risk-averse-justification'</span>: <span style=\"color: #008000; text-decoration-color: #008000\">\"There is no text provided that indicates the individual's approach to risk from </span>\n",
       "<span style=\"color: #008000; text-decoration-color: #008000\">the provided link.\"</span>,\n",
       "    <span style=\"color: #008000; text-decoration-color: #008000\">'risk-averse'</span>: <span style=\"color: #008000; text-decoration-color: #008000\">'N/A'</span>,\n",
       "    <span style=\"color: #008000; text-decoration-color: #008000\">'career-orientation-justification'</span>: <span style=\"color: #008000; text-decoration-color: #008000\">\"The linked profile likely showcases professional achievements and </span>\n",
       "<span style=\"color: #008000; text-decoration-color: #008000\">publications, which generally indicate a focus on career. However, without specific statements from the individual,</span>\n",
       "<span style=\"color: #008000; text-decoration-color: #008000\">it's hard to assess the personal level of emphasis.\"</span>,\n",
       "    <span style=\"color: #008000; text-decoration-color: #008000\">'career-orientation'</span>: <span style=\"color: #008000; text-decoration-color: #008000\">'N/A'</span>,\n",
       "    <span style=\"color: #008000; text-decoration-color: #008000\">'name'</span>: <span style=\"color: #008000; text-decoration-color: #008000\">'Cham Tat Jen'</span>\n",
       "<span style=\"font-weight: bold\">}</span>\n",
       "</pre>\n"
      ],
      "text/plain": [
       "\u001b[1m{\u001b[0m\n",
       "    \u001b[32m'friendliness-justification'\u001b[0m: \u001b[32m'Since there are no personal statements from the individual, it is not possible \u001b[0m\n",
       "\u001b[32mto determine friendliness from the provided link.'\u001b[0m,\n",
       "    \u001b[32m'friendliness'\u001b[0m: \u001b[32m'N/A'\u001b[0m,\n",
       "    \u001b[32m'we-vs-i-justification'\u001b[0m: \u001b[32m\"Without a personal statement or bio to analyze, it is not possible to assess the \u001b[0m\n",
       "\u001b[32memphasis on 'we' vs 'I' from the provided link.\"\u001b[0m,\n",
       "    \u001b[32m'we-vs-i'\u001b[0m: \u001b[32m'N/A'\u001b[0m,\n",
       "    \u001b[32m'risk-averse-justification'\u001b[0m: \u001b[32m\"There is no text provided that indicates the individual's approach to risk from \u001b[0m\n",
       "\u001b[32mthe provided link.\"\u001b[0m,\n",
       "    \u001b[32m'risk-averse'\u001b[0m: \u001b[32m'N/A'\u001b[0m,\n",
       "    \u001b[32m'career-orientation-justification'\u001b[0m: \u001b[32m\"The linked profile likely showcases professional achievements and \u001b[0m\n",
       "\u001b[32mpublications, which generally indicate a focus on career. However, without specific statements from the individual,\u001b[0m\n",
       "\u001b[32mit's hard to assess the personal level of emphasis.\"\u001b[0m,\n",
       "    \u001b[32m'career-orientation'\u001b[0m: \u001b[32m'N/A'\u001b[0m,\n",
       "    \u001b[32m'name'\u001b[0m: \u001b[32m'Cham Tat Jen'\u001b[0m\n",
       "\u001b[1m}\u001b[0m\n"
      ]
     },
     "metadata": {},
     "output_type": "display_data"
    },
    {
     "name": "stderr",
     "output_type": "stream",
     "text": [
      "7it [00:37,  5.43s/it]\n"
     ]
    },
    {
     "ename": "KeyboardInterrupt",
     "evalue": "",
     "output_type": "error",
     "traceback": [
      "\u001b[0;31m---------------------------------------------------------------------------\u001b[0m",
      "\u001b[0;31mKeyboardInterrupt\u001b[0m                         Traceback (most recent call last)",
      "Cell \u001b[0;32mIn[18], line 11\u001b[0m\n\u001b[1;32m      9\u001b[0m \u001b[38;5;28;01mfor\u001b[39;00m index, row \u001b[38;5;129;01min\u001b[39;00m tqdm(df\u001b[38;5;241m.\u001b[39miterrows()):\n\u001b[1;32m     10\u001b[0m     text \u001b[38;5;241m=\u001b[39m row[\u001b[38;5;124m'\u001b[39m\u001b[38;5;124mPersonal Website\u001b[39m\u001b[38;5;124m'\u001b[39m]\n\u001b[0;32m---> 11\u001b[0m     response \u001b[38;5;241m=\u001b[39m \u001b[43mprocess_homepage_text\u001b[49m\u001b[43m(\u001b[49m\u001b[43mtext\u001b[49m\u001b[43m)\u001b[49m\n\u001b[1;32m     12\u001b[0m     response[\u001b[38;5;124m\"\u001b[39m\u001b[38;5;124mname\u001b[39m\u001b[38;5;124m\"\u001b[39m] \u001b[38;5;241m=\u001b[39m row[\u001b[38;5;124m'\u001b[39m\u001b[38;5;124mName\u001b[39m\u001b[38;5;124m'\u001b[39m]\n\u001b[1;32m     13\u001b[0m     researcher_profile\u001b[38;5;241m.\u001b[39mappend(response)\n",
      "Cell \u001b[0;32mIn[17], line 15\u001b[0m, in \u001b[0;36mprocess_homepage_text\u001b[0;34m(text)\u001b[0m\n\u001b[1;32m     14\u001b[0m \u001b[38;5;28;01mdef\u001b[39;00m \u001b[38;5;21mprocess_homepage_text\u001b[39m(text: \u001b[38;5;28mstr\u001b[39m):\n\u001b[0;32m---> 15\u001b[0m     response \u001b[38;5;241m=\u001b[39m \u001b[43mclient\u001b[49m\u001b[38;5;241;43m.\u001b[39;49m\u001b[43mchat\u001b[49m\u001b[38;5;241;43m.\u001b[39;49m\u001b[43mcompletions\u001b[49m\u001b[38;5;241;43m.\u001b[39;49m\u001b[43mcreate\u001b[49m\u001b[43m(\u001b[49m\n\u001b[1;32m     16\u001b[0m \u001b[43m        \u001b[49m\u001b[43mmessages\u001b[49m\u001b[38;5;241;43m=\u001b[39;49m\u001b[43m[\u001b[49m\u001b[43m{\u001b[49m\n\u001b[1;32m     17\u001b[0m \u001b[43m            \u001b[49m\u001b[38;5;124;43m\"\u001b[39;49m\u001b[38;5;124;43mrole\u001b[39;49m\u001b[38;5;124;43m\"\u001b[39;49m\u001b[43m:\u001b[49m\u001b[43m \u001b[49m\u001b[38;5;124;43m\"\u001b[39;49m\u001b[38;5;124;43msystem\u001b[39;49m\u001b[38;5;124;43m\"\u001b[39;49m\u001b[43m,\u001b[49m\n\u001b[1;32m     18\u001b[0m \u001b[43m            \u001b[49m\u001b[38;5;124;43m\"\u001b[39;49m\u001b[38;5;124;43mcontent\u001b[39;49m\u001b[38;5;124;43m\"\u001b[39;49m\u001b[43m:\u001b[49m\u001b[43m \u001b[49m\u001b[38;5;124;43m\"\"\"\u001b[39;49m\u001b[38;5;124;43mExtract the following qualities, with justification in a JSON formatted output. \u001b[39;49m\n\u001b[1;32m     19\u001b[0m \u001b[38;5;124;43mTry to infer these from the way the author writes about themselves. Use and describe subtle language patterns to extract this understanding about a given individual.  JSON output format: \u001b[39;49m\n\u001b[1;32m     20\u001b[0m \u001b[38;5;124;43m{\u001b[39;49m\n\u001b[1;32m     21\u001b[0m \u001b[38;5;124;43m    \u001b[39;49m\u001b[38;5;124;43m\"\u001b[39;49m\u001b[38;5;124;43mfriendliness-justification\u001b[39;49m\u001b[38;5;124;43m\"\u001b[39;49m\u001b[38;5;124;43m: \u001b[39;49m\u001b[38;5;124;43m\"\u001b[39;49m\u001b[38;5;124;43mExplain your friendliness quote with citations\u001b[39;49m\u001b[38;5;124;43m\"\u001b[39;49m\u001b[38;5;124;43m,\u001b[39;49m\n\u001b[1;32m     22\u001b[0m \u001b[38;5;124;43m    \u001b[39;49m\u001b[38;5;124;43m\"\u001b[39;49m\u001b[38;5;124;43mfriendliness\u001b[39;49m\u001b[38;5;124;43m\"\u001b[39;49m\u001b[38;5;124;43m: \u001b[39;49m\u001b[38;5;124;43m\"\u001b[39;49m\u001b[38;5;124;43mScale of 1-10, how much they exhibit traits of cameraderie, teamwork and collaboration. 10 being heavy-emphasis on friendliness.\u001b[39;49m\u001b[38;5;124;43m\"\u001b[39;49m\u001b[38;5;124;43m,\u001b[39;49m\n\u001b[1;32m     23\u001b[0m \u001b[38;5;124;43m    \u001b[39;49m\u001b[38;5;124;43m\"\u001b[39;49m\u001b[38;5;124;43mwe-vs-i-justification\u001b[39;49m\u001b[38;5;124;43m\"\u001b[39;49m\u001b[38;5;124;43m: \u001b[39;49m\u001b[38;5;124;43m\"\u001b[39;49m\u001b[38;5;124;43mExplain your we-vs-i quote with citations\u001b[39;49m\u001b[38;5;124;43m\"\u001b[39;49m\u001b[38;5;124;43m,\u001b[39;49m\n\u001b[1;32m     24\u001b[0m \u001b[38;5;124;43m    \u001b[39;49m\u001b[38;5;124;43m\"\u001b[39;49m\u001b[38;5;124;43mwe-vs-i\u001b[39;49m\u001b[38;5;124;43m\"\u001b[39;49m\u001b[38;5;124;43m: \u001b[39;49m\u001b[38;5;124;43m\"\u001b[39;49m\u001b[38;5;124;43mScale of 1-10, how much they talk about themselves vs their collaborators. 10 being heavy-emphasis on we.\u001b[39;49m\u001b[38;5;124;43m\"\u001b[39;49m\u001b[38;5;124;43m,\u001b[39;49m\n\u001b[1;32m     25\u001b[0m \u001b[38;5;124;43m    \u001b[39;49m\u001b[38;5;124;43m\"\u001b[39;49m\u001b[38;5;124;43mrisk-averse-justification\u001b[39;49m\u001b[38;5;124;43m\"\u001b[39;49m\u001b[38;5;124;43m: \u001b[39;49m\u001b[38;5;124;43m\"\u001b[39;49m\u001b[38;5;124;43mExplain your risk-averse quote with citations\u001b[39;49m\u001b[38;5;124;43m\"\u001b[39;49m\u001b[38;5;124;43m,\u001b[39;49m\n\u001b[1;32m     26\u001b[0m \u001b[38;5;124;43m    \u001b[39;49m\u001b[38;5;124;43m\"\u001b[39;49m\u001b[38;5;124;43mrisk-averse\u001b[39;49m\u001b[38;5;124;43m\"\u001b[39;49m\u001b[38;5;124;43m: \u001b[39;49m\u001b[38;5;124;43m\"\u001b[39;49m\u001b[38;5;124;43mScale of 1-10, how they feel about taking risks. 10 being very risk-averse.\u001b[39;49m\u001b[38;5;124;43m\"\u001b[39;49m\u001b[38;5;124;43m,\u001b[39;49m\n\u001b[1;32m     27\u001b[0m \u001b[38;5;124;43m    \u001b[39;49m\u001b[38;5;124;43m\"\u001b[39;49m\u001b[38;5;124;43mcareer-orientation-justification\u001b[39;49m\u001b[38;5;124;43m\"\u001b[39;49m\u001b[38;5;124;43m: \u001b[39;49m\u001b[38;5;124;43m\"\u001b[39;49m\u001b[38;5;124;43mExplain your career-orientation quote with citations\u001b[39;49m\u001b[38;5;124;43m\"\u001b[39;49m\u001b[38;5;124;43m,\u001b[39;49m\n\u001b[1;32m     28\u001b[0m \u001b[38;5;124;43m    \u001b[39;49m\u001b[38;5;124;43m\"\u001b[39;49m\u001b[38;5;124;43mcareer-orientation\u001b[39;49m\u001b[38;5;124;43m\"\u001b[39;49m\u001b[38;5;124;43m: \u001b[39;49m\u001b[38;5;124;43m\"\u001b[39;49m\u001b[38;5;124;43mHow much a person cares about their career. 10 being very career-oriented.\u001b[39;49m\u001b[38;5;124;43m\"\u001b[39;49m\u001b[38;5;124;43m,\u001b[39;49m\n\u001b[1;32m     29\u001b[0m \u001b[38;5;124;43m}\u001b[39;49m\u001b[38;5;124;43m\"\"\"\u001b[39;49m\n\u001b[1;32m     30\u001b[0m \u001b[43m        \u001b[49m\u001b[43m}\u001b[49m\u001b[43m,\u001b[49m\u001b[43m \u001b[49m\u001b[43m{\u001b[49m\n\u001b[1;32m     31\u001b[0m \u001b[43m            \u001b[49m\u001b[38;5;124;43m\"\u001b[39;49m\u001b[38;5;124;43mrole\u001b[39;49m\u001b[38;5;124;43m\"\u001b[39;49m\u001b[43m:\u001b[49m\u001b[43m \u001b[49m\u001b[38;5;124;43m\"\u001b[39;49m\u001b[38;5;124;43muser\u001b[39;49m\u001b[38;5;124;43m\"\u001b[39;49m\u001b[43m,\u001b[49m\n\u001b[1;32m     32\u001b[0m \u001b[43m            \u001b[49m\u001b[38;5;124;43m\"\u001b[39;49m\u001b[38;5;124;43mcontent\u001b[39;49m\u001b[38;5;124;43m\"\u001b[39;49m\u001b[43m:\u001b[49m\u001b[43m \u001b[49m\u001b[43mtext\u001b[49m\n\u001b[1;32m     33\u001b[0m \u001b[43m        \u001b[49m\u001b[43m}\u001b[49m\u001b[43m]\u001b[49m\u001b[43m,\u001b[49m\n\u001b[1;32m     34\u001b[0m \u001b[43m        \u001b[49m\u001b[43mresponse_format\u001b[49m\u001b[38;5;241;43m=\u001b[39;49m\u001b[43m{\u001b[49m\n\u001b[1;32m     35\u001b[0m \u001b[43m            \u001b[49m\u001b[38;5;124;43m\"\u001b[39;49m\u001b[38;5;124;43mtype\u001b[39;49m\u001b[38;5;124;43m\"\u001b[39;49m\u001b[43m:\u001b[49m\u001b[43m \u001b[49m\u001b[38;5;124;43m\"\u001b[39;49m\u001b[38;5;124;43mjson_object\u001b[39;49m\u001b[38;5;124;43m\"\u001b[39;49m\n\u001b[1;32m     36\u001b[0m \u001b[43m        \u001b[49m\u001b[43m}\u001b[49m\u001b[43m,\u001b[49m\n\u001b[1;32m     37\u001b[0m \u001b[43m        \u001b[49m\u001b[43mmodel\u001b[49m\u001b[38;5;241;43m=\u001b[39;49m\u001b[38;5;124;43m\"\u001b[39;49m\u001b[38;5;124;43mgpt-4o\u001b[39;49m\u001b[38;5;124;43m\"\u001b[39;49m\n\u001b[1;32m     38\u001b[0m \u001b[43m    \u001b[49m\u001b[43m)\u001b[49m\n\u001b[1;32m     39\u001b[0m     response \u001b[38;5;241m=\u001b[39m json\u001b[38;5;241m.\u001b[39mloads(response\u001b[38;5;241m.\u001b[39mchoices[\u001b[38;5;241m0\u001b[39m]\u001b[38;5;241m.\u001b[39mmessage\u001b[38;5;241m.\u001b[39mcontent)\n\u001b[1;32m     40\u001b[0m     \u001b[38;5;28;01mreturn\u001b[39;00m response\n",
      "File \u001b[0;32m/opt/anaconda3/envs/research/lib/python3.12/site-packages/openai/_utils/_utils.py:277\u001b[0m, in \u001b[0;36mrequired_args.<locals>.inner.<locals>.wrapper\u001b[0;34m(*args, **kwargs)\u001b[0m\n\u001b[1;32m    275\u001b[0m             msg \u001b[38;5;241m=\u001b[39m \u001b[38;5;124mf\u001b[39m\u001b[38;5;124m\"\u001b[39m\u001b[38;5;124mMissing required argument: \u001b[39m\u001b[38;5;132;01m{\u001b[39;00mquote(missing[\u001b[38;5;241m0\u001b[39m])\u001b[38;5;132;01m}\u001b[39;00m\u001b[38;5;124m\"\u001b[39m\n\u001b[1;32m    276\u001b[0m     \u001b[38;5;28;01mraise\u001b[39;00m \u001b[38;5;167;01mTypeError\u001b[39;00m(msg)\n\u001b[0;32m--> 277\u001b[0m \u001b[38;5;28;01mreturn\u001b[39;00m \u001b[43mfunc\u001b[49m\u001b[43m(\u001b[49m\u001b[38;5;241;43m*\u001b[39;49m\u001b[43margs\u001b[49m\u001b[43m,\u001b[49m\u001b[43m \u001b[49m\u001b[38;5;241;43m*\u001b[39;49m\u001b[38;5;241;43m*\u001b[39;49m\u001b[43mkwargs\u001b[49m\u001b[43m)\u001b[49m\n",
      "File \u001b[0;32m/opt/anaconda3/envs/research/lib/python3.12/site-packages/openai/resources/chat/completions.py:590\u001b[0m, in \u001b[0;36mCompletions.create\u001b[0;34m(self, messages, model, frequency_penalty, function_call, functions, logit_bias, logprobs, max_tokens, n, presence_penalty, response_format, seed, stop, stream, stream_options, temperature, tool_choice, tools, top_logprobs, top_p, user, extra_headers, extra_query, extra_body, timeout)\u001b[0m\n\u001b[1;32m    558\u001b[0m \u001b[38;5;129m@required_args\u001b[39m([\u001b[38;5;124m\"\u001b[39m\u001b[38;5;124mmessages\u001b[39m\u001b[38;5;124m\"\u001b[39m, \u001b[38;5;124m\"\u001b[39m\u001b[38;5;124mmodel\u001b[39m\u001b[38;5;124m\"\u001b[39m], [\u001b[38;5;124m\"\u001b[39m\u001b[38;5;124mmessages\u001b[39m\u001b[38;5;124m\"\u001b[39m, \u001b[38;5;124m\"\u001b[39m\u001b[38;5;124mmodel\u001b[39m\u001b[38;5;124m\"\u001b[39m, \u001b[38;5;124m\"\u001b[39m\u001b[38;5;124mstream\u001b[39m\u001b[38;5;124m\"\u001b[39m])\n\u001b[1;32m    559\u001b[0m \u001b[38;5;28;01mdef\u001b[39;00m \u001b[38;5;21mcreate\u001b[39m(\n\u001b[1;32m    560\u001b[0m     \u001b[38;5;28mself\u001b[39m,\n\u001b[0;32m   (...)\u001b[0m\n\u001b[1;32m    588\u001b[0m     timeout: \u001b[38;5;28mfloat\u001b[39m \u001b[38;5;241m|\u001b[39m httpx\u001b[38;5;241m.\u001b[39mTimeout \u001b[38;5;241m|\u001b[39m \u001b[38;5;28;01mNone\u001b[39;00m \u001b[38;5;241m|\u001b[39m NotGiven \u001b[38;5;241m=\u001b[39m NOT_GIVEN,\n\u001b[1;32m    589\u001b[0m ) \u001b[38;5;241m-\u001b[39m\u001b[38;5;241m>\u001b[39m ChatCompletion \u001b[38;5;241m|\u001b[39m Stream[ChatCompletionChunk]:\n\u001b[0;32m--> 590\u001b[0m     \u001b[38;5;28;01mreturn\u001b[39;00m \u001b[38;5;28;43mself\u001b[39;49m\u001b[38;5;241;43m.\u001b[39;49m\u001b[43m_post\u001b[49m\u001b[43m(\u001b[49m\n\u001b[1;32m    591\u001b[0m \u001b[43m        \u001b[49m\u001b[38;5;124;43m\"\u001b[39;49m\u001b[38;5;124;43m/chat/completions\u001b[39;49m\u001b[38;5;124;43m\"\u001b[39;49m\u001b[43m,\u001b[49m\n\u001b[1;32m    592\u001b[0m \u001b[43m        \u001b[49m\u001b[43mbody\u001b[49m\u001b[38;5;241;43m=\u001b[39;49m\u001b[43mmaybe_transform\u001b[49m\u001b[43m(\u001b[49m\n\u001b[1;32m    593\u001b[0m \u001b[43m            \u001b[49m\u001b[43m{\u001b[49m\n\u001b[1;32m    594\u001b[0m \u001b[43m                \u001b[49m\u001b[38;5;124;43m\"\u001b[39;49m\u001b[38;5;124;43mmessages\u001b[39;49m\u001b[38;5;124;43m\"\u001b[39;49m\u001b[43m:\u001b[49m\u001b[43m \u001b[49m\u001b[43mmessages\u001b[49m\u001b[43m,\u001b[49m\n\u001b[1;32m    595\u001b[0m \u001b[43m                \u001b[49m\u001b[38;5;124;43m\"\u001b[39;49m\u001b[38;5;124;43mmodel\u001b[39;49m\u001b[38;5;124;43m\"\u001b[39;49m\u001b[43m:\u001b[49m\u001b[43m \u001b[49m\u001b[43mmodel\u001b[49m\u001b[43m,\u001b[49m\n\u001b[1;32m    596\u001b[0m \u001b[43m                \u001b[49m\u001b[38;5;124;43m\"\u001b[39;49m\u001b[38;5;124;43mfrequency_penalty\u001b[39;49m\u001b[38;5;124;43m\"\u001b[39;49m\u001b[43m:\u001b[49m\u001b[43m \u001b[49m\u001b[43mfrequency_penalty\u001b[49m\u001b[43m,\u001b[49m\n\u001b[1;32m    597\u001b[0m \u001b[43m                \u001b[49m\u001b[38;5;124;43m\"\u001b[39;49m\u001b[38;5;124;43mfunction_call\u001b[39;49m\u001b[38;5;124;43m\"\u001b[39;49m\u001b[43m:\u001b[49m\u001b[43m \u001b[49m\u001b[43mfunction_call\u001b[49m\u001b[43m,\u001b[49m\n\u001b[1;32m    598\u001b[0m \u001b[43m                \u001b[49m\u001b[38;5;124;43m\"\u001b[39;49m\u001b[38;5;124;43mfunctions\u001b[39;49m\u001b[38;5;124;43m\"\u001b[39;49m\u001b[43m:\u001b[49m\u001b[43m \u001b[49m\u001b[43mfunctions\u001b[49m\u001b[43m,\u001b[49m\n\u001b[1;32m    599\u001b[0m \u001b[43m                \u001b[49m\u001b[38;5;124;43m\"\u001b[39;49m\u001b[38;5;124;43mlogit_bias\u001b[39;49m\u001b[38;5;124;43m\"\u001b[39;49m\u001b[43m:\u001b[49m\u001b[43m \u001b[49m\u001b[43mlogit_bias\u001b[49m\u001b[43m,\u001b[49m\n\u001b[1;32m    600\u001b[0m \u001b[43m                \u001b[49m\u001b[38;5;124;43m\"\u001b[39;49m\u001b[38;5;124;43mlogprobs\u001b[39;49m\u001b[38;5;124;43m\"\u001b[39;49m\u001b[43m:\u001b[49m\u001b[43m \u001b[49m\u001b[43mlogprobs\u001b[49m\u001b[43m,\u001b[49m\n\u001b[1;32m    601\u001b[0m \u001b[43m                \u001b[49m\u001b[38;5;124;43m\"\u001b[39;49m\u001b[38;5;124;43mmax_tokens\u001b[39;49m\u001b[38;5;124;43m\"\u001b[39;49m\u001b[43m:\u001b[49m\u001b[43m \u001b[49m\u001b[43mmax_tokens\u001b[49m\u001b[43m,\u001b[49m\n\u001b[1;32m    602\u001b[0m \u001b[43m                \u001b[49m\u001b[38;5;124;43m\"\u001b[39;49m\u001b[38;5;124;43mn\u001b[39;49m\u001b[38;5;124;43m\"\u001b[39;49m\u001b[43m:\u001b[49m\u001b[43m \u001b[49m\u001b[43mn\u001b[49m\u001b[43m,\u001b[49m\n\u001b[1;32m    603\u001b[0m \u001b[43m                \u001b[49m\u001b[38;5;124;43m\"\u001b[39;49m\u001b[38;5;124;43mpresence_penalty\u001b[39;49m\u001b[38;5;124;43m\"\u001b[39;49m\u001b[43m:\u001b[49m\u001b[43m \u001b[49m\u001b[43mpresence_penalty\u001b[49m\u001b[43m,\u001b[49m\n\u001b[1;32m    604\u001b[0m \u001b[43m                \u001b[49m\u001b[38;5;124;43m\"\u001b[39;49m\u001b[38;5;124;43mresponse_format\u001b[39;49m\u001b[38;5;124;43m\"\u001b[39;49m\u001b[43m:\u001b[49m\u001b[43m \u001b[49m\u001b[43mresponse_format\u001b[49m\u001b[43m,\u001b[49m\n\u001b[1;32m    605\u001b[0m \u001b[43m                \u001b[49m\u001b[38;5;124;43m\"\u001b[39;49m\u001b[38;5;124;43mseed\u001b[39;49m\u001b[38;5;124;43m\"\u001b[39;49m\u001b[43m:\u001b[49m\u001b[43m \u001b[49m\u001b[43mseed\u001b[49m\u001b[43m,\u001b[49m\n\u001b[1;32m    606\u001b[0m \u001b[43m                \u001b[49m\u001b[38;5;124;43m\"\u001b[39;49m\u001b[38;5;124;43mstop\u001b[39;49m\u001b[38;5;124;43m\"\u001b[39;49m\u001b[43m:\u001b[49m\u001b[43m \u001b[49m\u001b[43mstop\u001b[49m\u001b[43m,\u001b[49m\n\u001b[1;32m    607\u001b[0m \u001b[43m                \u001b[49m\u001b[38;5;124;43m\"\u001b[39;49m\u001b[38;5;124;43mstream\u001b[39;49m\u001b[38;5;124;43m\"\u001b[39;49m\u001b[43m:\u001b[49m\u001b[43m \u001b[49m\u001b[43mstream\u001b[49m\u001b[43m,\u001b[49m\n\u001b[1;32m    608\u001b[0m \u001b[43m                \u001b[49m\u001b[38;5;124;43m\"\u001b[39;49m\u001b[38;5;124;43mstream_options\u001b[39;49m\u001b[38;5;124;43m\"\u001b[39;49m\u001b[43m:\u001b[49m\u001b[43m \u001b[49m\u001b[43mstream_options\u001b[49m\u001b[43m,\u001b[49m\n\u001b[1;32m    609\u001b[0m \u001b[43m                \u001b[49m\u001b[38;5;124;43m\"\u001b[39;49m\u001b[38;5;124;43mtemperature\u001b[39;49m\u001b[38;5;124;43m\"\u001b[39;49m\u001b[43m:\u001b[49m\u001b[43m \u001b[49m\u001b[43mtemperature\u001b[49m\u001b[43m,\u001b[49m\n\u001b[1;32m    610\u001b[0m \u001b[43m                \u001b[49m\u001b[38;5;124;43m\"\u001b[39;49m\u001b[38;5;124;43mtool_choice\u001b[39;49m\u001b[38;5;124;43m\"\u001b[39;49m\u001b[43m:\u001b[49m\u001b[43m \u001b[49m\u001b[43mtool_choice\u001b[49m\u001b[43m,\u001b[49m\n\u001b[1;32m    611\u001b[0m \u001b[43m                \u001b[49m\u001b[38;5;124;43m\"\u001b[39;49m\u001b[38;5;124;43mtools\u001b[39;49m\u001b[38;5;124;43m\"\u001b[39;49m\u001b[43m:\u001b[49m\u001b[43m \u001b[49m\u001b[43mtools\u001b[49m\u001b[43m,\u001b[49m\n\u001b[1;32m    612\u001b[0m \u001b[43m                \u001b[49m\u001b[38;5;124;43m\"\u001b[39;49m\u001b[38;5;124;43mtop_logprobs\u001b[39;49m\u001b[38;5;124;43m\"\u001b[39;49m\u001b[43m:\u001b[49m\u001b[43m \u001b[49m\u001b[43mtop_logprobs\u001b[49m\u001b[43m,\u001b[49m\n\u001b[1;32m    613\u001b[0m \u001b[43m                \u001b[49m\u001b[38;5;124;43m\"\u001b[39;49m\u001b[38;5;124;43mtop_p\u001b[39;49m\u001b[38;5;124;43m\"\u001b[39;49m\u001b[43m:\u001b[49m\u001b[43m \u001b[49m\u001b[43mtop_p\u001b[49m\u001b[43m,\u001b[49m\n\u001b[1;32m    614\u001b[0m \u001b[43m                \u001b[49m\u001b[38;5;124;43m\"\u001b[39;49m\u001b[38;5;124;43muser\u001b[39;49m\u001b[38;5;124;43m\"\u001b[39;49m\u001b[43m:\u001b[49m\u001b[43m \u001b[49m\u001b[43muser\u001b[49m\u001b[43m,\u001b[49m\n\u001b[1;32m    615\u001b[0m \u001b[43m            \u001b[49m\u001b[43m}\u001b[49m\u001b[43m,\u001b[49m\n\u001b[1;32m    616\u001b[0m \u001b[43m            \u001b[49m\u001b[43mcompletion_create_params\u001b[49m\u001b[38;5;241;43m.\u001b[39;49m\u001b[43mCompletionCreateParams\u001b[49m\u001b[43m,\u001b[49m\n\u001b[1;32m    617\u001b[0m \u001b[43m        \u001b[49m\u001b[43m)\u001b[49m\u001b[43m,\u001b[49m\n\u001b[1;32m    618\u001b[0m \u001b[43m        \u001b[49m\u001b[43moptions\u001b[49m\u001b[38;5;241;43m=\u001b[39;49m\u001b[43mmake_request_options\u001b[49m\u001b[43m(\u001b[49m\n\u001b[1;32m    619\u001b[0m \u001b[43m            \u001b[49m\u001b[43mextra_headers\u001b[49m\u001b[38;5;241;43m=\u001b[39;49m\u001b[43mextra_headers\u001b[49m\u001b[43m,\u001b[49m\u001b[43m \u001b[49m\u001b[43mextra_query\u001b[49m\u001b[38;5;241;43m=\u001b[39;49m\u001b[43mextra_query\u001b[49m\u001b[43m,\u001b[49m\u001b[43m \u001b[49m\u001b[43mextra_body\u001b[49m\u001b[38;5;241;43m=\u001b[39;49m\u001b[43mextra_body\u001b[49m\u001b[43m,\u001b[49m\u001b[43m \u001b[49m\u001b[43mtimeout\u001b[49m\u001b[38;5;241;43m=\u001b[39;49m\u001b[43mtimeout\u001b[49m\n\u001b[1;32m    620\u001b[0m \u001b[43m        \u001b[49m\u001b[43m)\u001b[49m\u001b[43m,\u001b[49m\n\u001b[1;32m    621\u001b[0m \u001b[43m        \u001b[49m\u001b[43mcast_to\u001b[49m\u001b[38;5;241;43m=\u001b[39;49m\u001b[43mChatCompletion\u001b[49m\u001b[43m,\u001b[49m\n\u001b[1;32m    622\u001b[0m \u001b[43m        \u001b[49m\u001b[43mstream\u001b[49m\u001b[38;5;241;43m=\u001b[39;49m\u001b[43mstream\u001b[49m\u001b[43m \u001b[49m\u001b[38;5;129;43;01mor\u001b[39;49;00m\u001b[43m \u001b[49m\u001b[38;5;28;43;01mFalse\u001b[39;49;00m\u001b[43m,\u001b[49m\n\u001b[1;32m    623\u001b[0m \u001b[43m        \u001b[49m\u001b[43mstream_cls\u001b[49m\u001b[38;5;241;43m=\u001b[39;49m\u001b[43mStream\u001b[49m\u001b[43m[\u001b[49m\u001b[43mChatCompletionChunk\u001b[49m\u001b[43m]\u001b[49m\u001b[43m,\u001b[49m\n\u001b[1;32m    624\u001b[0m \u001b[43m    \u001b[49m\u001b[43m)\u001b[49m\n",
      "File \u001b[0;32m/opt/anaconda3/envs/research/lib/python3.12/site-packages/openai/_base_client.py:1240\u001b[0m, in \u001b[0;36mSyncAPIClient.post\u001b[0;34m(self, path, cast_to, body, options, files, stream, stream_cls)\u001b[0m\n\u001b[1;32m   1226\u001b[0m \u001b[38;5;28;01mdef\u001b[39;00m \u001b[38;5;21mpost\u001b[39m(\n\u001b[1;32m   1227\u001b[0m     \u001b[38;5;28mself\u001b[39m,\n\u001b[1;32m   1228\u001b[0m     path: \u001b[38;5;28mstr\u001b[39m,\n\u001b[0;32m   (...)\u001b[0m\n\u001b[1;32m   1235\u001b[0m     stream_cls: \u001b[38;5;28mtype\u001b[39m[_StreamT] \u001b[38;5;241m|\u001b[39m \u001b[38;5;28;01mNone\u001b[39;00m \u001b[38;5;241m=\u001b[39m \u001b[38;5;28;01mNone\u001b[39;00m,\n\u001b[1;32m   1236\u001b[0m ) \u001b[38;5;241m-\u001b[39m\u001b[38;5;241m>\u001b[39m ResponseT \u001b[38;5;241m|\u001b[39m _StreamT:\n\u001b[1;32m   1237\u001b[0m     opts \u001b[38;5;241m=\u001b[39m FinalRequestOptions\u001b[38;5;241m.\u001b[39mconstruct(\n\u001b[1;32m   1238\u001b[0m         method\u001b[38;5;241m=\u001b[39m\u001b[38;5;124m\"\u001b[39m\u001b[38;5;124mpost\u001b[39m\u001b[38;5;124m\"\u001b[39m, url\u001b[38;5;241m=\u001b[39mpath, json_data\u001b[38;5;241m=\u001b[39mbody, files\u001b[38;5;241m=\u001b[39mto_httpx_files(files), \u001b[38;5;241m*\u001b[39m\u001b[38;5;241m*\u001b[39moptions\n\u001b[1;32m   1239\u001b[0m     )\n\u001b[0;32m-> 1240\u001b[0m     \u001b[38;5;28;01mreturn\u001b[39;00m cast(ResponseT, \u001b[38;5;28;43mself\u001b[39;49m\u001b[38;5;241;43m.\u001b[39;49m\u001b[43mrequest\u001b[49m\u001b[43m(\u001b[49m\u001b[43mcast_to\u001b[49m\u001b[43m,\u001b[49m\u001b[43m \u001b[49m\u001b[43mopts\u001b[49m\u001b[43m,\u001b[49m\u001b[43m \u001b[49m\u001b[43mstream\u001b[49m\u001b[38;5;241;43m=\u001b[39;49m\u001b[43mstream\u001b[49m\u001b[43m,\u001b[49m\u001b[43m \u001b[49m\u001b[43mstream_cls\u001b[49m\u001b[38;5;241;43m=\u001b[39;49m\u001b[43mstream_cls\u001b[49m\u001b[43m)\u001b[49m)\n",
      "File \u001b[0;32m/opt/anaconda3/envs/research/lib/python3.12/site-packages/openai/_base_client.py:921\u001b[0m, in \u001b[0;36mSyncAPIClient.request\u001b[0;34m(self, cast_to, options, remaining_retries, stream, stream_cls)\u001b[0m\n\u001b[1;32m    912\u001b[0m \u001b[38;5;28;01mdef\u001b[39;00m \u001b[38;5;21mrequest\u001b[39m(\n\u001b[1;32m    913\u001b[0m     \u001b[38;5;28mself\u001b[39m,\n\u001b[1;32m    914\u001b[0m     cast_to: Type[ResponseT],\n\u001b[0;32m   (...)\u001b[0m\n\u001b[1;32m    919\u001b[0m     stream_cls: \u001b[38;5;28mtype\u001b[39m[_StreamT] \u001b[38;5;241m|\u001b[39m \u001b[38;5;28;01mNone\u001b[39;00m \u001b[38;5;241m=\u001b[39m \u001b[38;5;28;01mNone\u001b[39;00m,\n\u001b[1;32m    920\u001b[0m ) \u001b[38;5;241m-\u001b[39m\u001b[38;5;241m>\u001b[39m ResponseT \u001b[38;5;241m|\u001b[39m _StreamT:\n\u001b[0;32m--> 921\u001b[0m     \u001b[38;5;28;01mreturn\u001b[39;00m \u001b[38;5;28;43mself\u001b[39;49m\u001b[38;5;241;43m.\u001b[39;49m\u001b[43m_request\u001b[49m\u001b[43m(\u001b[49m\n\u001b[1;32m    922\u001b[0m \u001b[43m        \u001b[49m\u001b[43mcast_to\u001b[49m\u001b[38;5;241;43m=\u001b[39;49m\u001b[43mcast_to\u001b[49m\u001b[43m,\u001b[49m\n\u001b[1;32m    923\u001b[0m \u001b[43m        \u001b[49m\u001b[43moptions\u001b[49m\u001b[38;5;241;43m=\u001b[39;49m\u001b[43moptions\u001b[49m\u001b[43m,\u001b[49m\n\u001b[1;32m    924\u001b[0m \u001b[43m        \u001b[49m\u001b[43mstream\u001b[49m\u001b[38;5;241;43m=\u001b[39;49m\u001b[43mstream\u001b[49m\u001b[43m,\u001b[49m\n\u001b[1;32m    925\u001b[0m \u001b[43m        \u001b[49m\u001b[43mstream_cls\u001b[49m\u001b[38;5;241;43m=\u001b[39;49m\u001b[43mstream_cls\u001b[49m\u001b[43m,\u001b[49m\n\u001b[1;32m    926\u001b[0m \u001b[43m        \u001b[49m\u001b[43mremaining_retries\u001b[49m\u001b[38;5;241;43m=\u001b[39;49m\u001b[43mremaining_retries\u001b[49m\u001b[43m,\u001b[49m\n\u001b[1;32m    927\u001b[0m \u001b[43m    \u001b[49m\u001b[43m)\u001b[49m\n",
      "File \u001b[0;32m/opt/anaconda3/envs/research/lib/python3.12/site-packages/openai/_base_client.py:952\u001b[0m, in \u001b[0;36mSyncAPIClient._request\u001b[0;34m(self, cast_to, options, remaining_retries, stream, stream_cls)\u001b[0m\n\u001b[1;32m    949\u001b[0m log\u001b[38;5;241m.\u001b[39mdebug(\u001b[38;5;124m\"\u001b[39m\u001b[38;5;124mSending HTTP Request: \u001b[39m\u001b[38;5;132;01m%s\u001b[39;00m\u001b[38;5;124m \u001b[39m\u001b[38;5;132;01m%s\u001b[39;00m\u001b[38;5;124m\"\u001b[39m, request\u001b[38;5;241m.\u001b[39mmethod, request\u001b[38;5;241m.\u001b[39murl)\n\u001b[1;32m    951\u001b[0m \u001b[38;5;28;01mtry\u001b[39;00m:\n\u001b[0;32m--> 952\u001b[0m     response \u001b[38;5;241m=\u001b[39m \u001b[38;5;28;43mself\u001b[39;49m\u001b[38;5;241;43m.\u001b[39;49m\u001b[43m_client\u001b[49m\u001b[38;5;241;43m.\u001b[39;49m\u001b[43msend\u001b[49m\u001b[43m(\u001b[49m\n\u001b[1;32m    953\u001b[0m \u001b[43m        \u001b[49m\u001b[43mrequest\u001b[49m\u001b[43m,\u001b[49m\n\u001b[1;32m    954\u001b[0m \u001b[43m        \u001b[49m\u001b[43mstream\u001b[49m\u001b[38;5;241;43m=\u001b[39;49m\u001b[43mstream\u001b[49m\u001b[43m \u001b[49m\u001b[38;5;129;43;01mor\u001b[39;49;00m\u001b[43m \u001b[49m\u001b[38;5;28;43mself\u001b[39;49m\u001b[38;5;241;43m.\u001b[39;49m\u001b[43m_should_stream_response_body\u001b[49m\u001b[43m(\u001b[49m\u001b[43mrequest\u001b[49m\u001b[38;5;241;43m=\u001b[39;49m\u001b[43mrequest\u001b[49m\u001b[43m)\u001b[49m\u001b[43m,\u001b[49m\n\u001b[1;32m    955\u001b[0m \u001b[43m        \u001b[49m\u001b[38;5;241;43m*\u001b[39;49m\u001b[38;5;241;43m*\u001b[39;49m\u001b[43mkwargs\u001b[49m\u001b[43m,\u001b[49m\n\u001b[1;32m    956\u001b[0m \u001b[43m    \u001b[49m\u001b[43m)\u001b[49m\n\u001b[1;32m    957\u001b[0m \u001b[38;5;28;01mexcept\u001b[39;00m httpx\u001b[38;5;241m.\u001b[39mTimeoutException \u001b[38;5;28;01mas\u001b[39;00m err:\n\u001b[1;32m    958\u001b[0m     log\u001b[38;5;241m.\u001b[39mdebug(\u001b[38;5;124m\"\u001b[39m\u001b[38;5;124mEncountered httpx.TimeoutException\u001b[39m\u001b[38;5;124m\"\u001b[39m, exc_info\u001b[38;5;241m=\u001b[39m\u001b[38;5;28;01mTrue\u001b[39;00m)\n",
      "File \u001b[0;32m/opt/anaconda3/envs/research/lib/python3.12/site-packages/httpx/_client.py:926\u001b[0m, in \u001b[0;36mClient.send\u001b[0;34m(self, request, stream, auth, follow_redirects)\u001b[0m\n\u001b[1;32m    922\u001b[0m \u001b[38;5;28mself\u001b[39m\u001b[38;5;241m.\u001b[39m_set_timeout(request)\n\u001b[1;32m    924\u001b[0m auth \u001b[38;5;241m=\u001b[39m \u001b[38;5;28mself\u001b[39m\u001b[38;5;241m.\u001b[39m_build_request_auth(request, auth)\n\u001b[0;32m--> 926\u001b[0m response \u001b[38;5;241m=\u001b[39m \u001b[38;5;28;43mself\u001b[39;49m\u001b[38;5;241;43m.\u001b[39;49m\u001b[43m_send_handling_auth\u001b[49m\u001b[43m(\u001b[49m\n\u001b[1;32m    927\u001b[0m \u001b[43m    \u001b[49m\u001b[43mrequest\u001b[49m\u001b[43m,\u001b[49m\n\u001b[1;32m    928\u001b[0m \u001b[43m    \u001b[49m\u001b[43mauth\u001b[49m\u001b[38;5;241;43m=\u001b[39;49m\u001b[43mauth\u001b[49m\u001b[43m,\u001b[49m\n\u001b[1;32m    929\u001b[0m \u001b[43m    \u001b[49m\u001b[43mfollow_redirects\u001b[49m\u001b[38;5;241;43m=\u001b[39;49m\u001b[43mfollow_redirects\u001b[49m\u001b[43m,\u001b[49m\n\u001b[1;32m    930\u001b[0m \u001b[43m    \u001b[49m\u001b[43mhistory\u001b[49m\u001b[38;5;241;43m=\u001b[39;49m\u001b[43m[\u001b[49m\u001b[43m]\u001b[49m\u001b[43m,\u001b[49m\n\u001b[1;32m    931\u001b[0m \u001b[43m\u001b[49m\u001b[43m)\u001b[49m\n\u001b[1;32m    932\u001b[0m \u001b[38;5;28;01mtry\u001b[39;00m:\n\u001b[1;32m    933\u001b[0m     \u001b[38;5;28;01mif\u001b[39;00m \u001b[38;5;129;01mnot\u001b[39;00m stream:\n",
      "File \u001b[0;32m/opt/anaconda3/envs/research/lib/python3.12/site-packages/httpx/_client.py:954\u001b[0m, in \u001b[0;36mClient._send_handling_auth\u001b[0;34m(self, request, auth, follow_redirects, history)\u001b[0m\n\u001b[1;32m    951\u001b[0m request \u001b[38;5;241m=\u001b[39m \u001b[38;5;28mnext\u001b[39m(auth_flow)\n\u001b[1;32m    953\u001b[0m \u001b[38;5;28;01mwhile\u001b[39;00m \u001b[38;5;28;01mTrue\u001b[39;00m:\n\u001b[0;32m--> 954\u001b[0m     response \u001b[38;5;241m=\u001b[39m \u001b[38;5;28;43mself\u001b[39;49m\u001b[38;5;241;43m.\u001b[39;49m\u001b[43m_send_handling_redirects\u001b[49m\u001b[43m(\u001b[49m\n\u001b[1;32m    955\u001b[0m \u001b[43m        \u001b[49m\u001b[43mrequest\u001b[49m\u001b[43m,\u001b[49m\n\u001b[1;32m    956\u001b[0m \u001b[43m        \u001b[49m\u001b[43mfollow_redirects\u001b[49m\u001b[38;5;241;43m=\u001b[39;49m\u001b[43mfollow_redirects\u001b[49m\u001b[43m,\u001b[49m\n\u001b[1;32m    957\u001b[0m \u001b[43m        \u001b[49m\u001b[43mhistory\u001b[49m\u001b[38;5;241;43m=\u001b[39;49m\u001b[43mhistory\u001b[49m\u001b[43m,\u001b[49m\n\u001b[1;32m    958\u001b[0m \u001b[43m    \u001b[49m\u001b[43m)\u001b[49m\n\u001b[1;32m    959\u001b[0m     \u001b[38;5;28;01mtry\u001b[39;00m:\n\u001b[1;32m    960\u001b[0m         \u001b[38;5;28;01mtry\u001b[39;00m:\n",
      "File \u001b[0;32m/opt/anaconda3/envs/research/lib/python3.12/site-packages/httpx/_client.py:991\u001b[0m, in \u001b[0;36mClient._send_handling_redirects\u001b[0;34m(self, request, follow_redirects, history)\u001b[0m\n\u001b[1;32m    988\u001b[0m \u001b[38;5;28;01mfor\u001b[39;00m hook \u001b[38;5;129;01min\u001b[39;00m \u001b[38;5;28mself\u001b[39m\u001b[38;5;241m.\u001b[39m_event_hooks[\u001b[38;5;124m\"\u001b[39m\u001b[38;5;124mrequest\u001b[39m\u001b[38;5;124m\"\u001b[39m]:\n\u001b[1;32m    989\u001b[0m     hook(request)\n\u001b[0;32m--> 991\u001b[0m response \u001b[38;5;241m=\u001b[39m \u001b[38;5;28;43mself\u001b[39;49m\u001b[38;5;241;43m.\u001b[39;49m\u001b[43m_send_single_request\u001b[49m\u001b[43m(\u001b[49m\u001b[43mrequest\u001b[49m\u001b[43m)\u001b[49m\n\u001b[1;32m    992\u001b[0m \u001b[38;5;28;01mtry\u001b[39;00m:\n\u001b[1;32m    993\u001b[0m     \u001b[38;5;28;01mfor\u001b[39;00m hook \u001b[38;5;129;01min\u001b[39;00m \u001b[38;5;28mself\u001b[39m\u001b[38;5;241m.\u001b[39m_event_hooks[\u001b[38;5;124m\"\u001b[39m\u001b[38;5;124mresponse\u001b[39m\u001b[38;5;124m\"\u001b[39m]:\n",
      "File \u001b[0;32m/opt/anaconda3/envs/research/lib/python3.12/site-packages/httpx/_client.py:1027\u001b[0m, in \u001b[0;36mClient._send_single_request\u001b[0;34m(self, request)\u001b[0m\n\u001b[1;32m   1022\u001b[0m     \u001b[38;5;28;01mraise\u001b[39;00m \u001b[38;5;167;01mRuntimeError\u001b[39;00m(\n\u001b[1;32m   1023\u001b[0m         \u001b[38;5;124m\"\u001b[39m\u001b[38;5;124mAttempted to send an async request with a sync Client instance.\u001b[39m\u001b[38;5;124m\"\u001b[39m\n\u001b[1;32m   1024\u001b[0m     )\n\u001b[1;32m   1026\u001b[0m \u001b[38;5;28;01mwith\u001b[39;00m request_context(request\u001b[38;5;241m=\u001b[39mrequest):\n\u001b[0;32m-> 1027\u001b[0m     response \u001b[38;5;241m=\u001b[39m \u001b[43mtransport\u001b[49m\u001b[38;5;241;43m.\u001b[39;49m\u001b[43mhandle_request\u001b[49m\u001b[43m(\u001b[49m\u001b[43mrequest\u001b[49m\u001b[43m)\u001b[49m\n\u001b[1;32m   1029\u001b[0m \u001b[38;5;28;01massert\u001b[39;00m \u001b[38;5;28misinstance\u001b[39m(response\u001b[38;5;241m.\u001b[39mstream, SyncByteStream)\n\u001b[1;32m   1031\u001b[0m response\u001b[38;5;241m.\u001b[39mrequest \u001b[38;5;241m=\u001b[39m request\n",
      "File \u001b[0;32m/opt/anaconda3/envs/research/lib/python3.12/site-packages/httpx/_transports/default.py:236\u001b[0m, in \u001b[0;36mHTTPTransport.handle_request\u001b[0;34m(self, request)\u001b[0m\n\u001b[1;32m    223\u001b[0m req \u001b[38;5;241m=\u001b[39m httpcore\u001b[38;5;241m.\u001b[39mRequest(\n\u001b[1;32m    224\u001b[0m     method\u001b[38;5;241m=\u001b[39mrequest\u001b[38;5;241m.\u001b[39mmethod,\n\u001b[1;32m    225\u001b[0m     url\u001b[38;5;241m=\u001b[39mhttpcore\u001b[38;5;241m.\u001b[39mURL(\n\u001b[0;32m   (...)\u001b[0m\n\u001b[1;32m    233\u001b[0m     extensions\u001b[38;5;241m=\u001b[39mrequest\u001b[38;5;241m.\u001b[39mextensions,\n\u001b[1;32m    234\u001b[0m )\n\u001b[1;32m    235\u001b[0m \u001b[38;5;28;01mwith\u001b[39;00m map_httpcore_exceptions():\n\u001b[0;32m--> 236\u001b[0m     resp \u001b[38;5;241m=\u001b[39m \u001b[38;5;28;43mself\u001b[39;49m\u001b[38;5;241;43m.\u001b[39;49m\u001b[43m_pool\u001b[49m\u001b[38;5;241;43m.\u001b[39;49m\u001b[43mhandle_request\u001b[49m\u001b[43m(\u001b[49m\u001b[43mreq\u001b[49m\u001b[43m)\u001b[49m\n\u001b[1;32m    238\u001b[0m \u001b[38;5;28;01massert\u001b[39;00m \u001b[38;5;28misinstance\u001b[39m(resp\u001b[38;5;241m.\u001b[39mstream, typing\u001b[38;5;241m.\u001b[39mIterable)\n\u001b[1;32m    240\u001b[0m \u001b[38;5;28;01mreturn\u001b[39;00m Response(\n\u001b[1;32m    241\u001b[0m     status_code\u001b[38;5;241m=\u001b[39mresp\u001b[38;5;241m.\u001b[39mstatus,\n\u001b[1;32m    242\u001b[0m     headers\u001b[38;5;241m=\u001b[39mresp\u001b[38;5;241m.\u001b[39mheaders,\n\u001b[1;32m    243\u001b[0m     stream\u001b[38;5;241m=\u001b[39mResponseStream(resp\u001b[38;5;241m.\u001b[39mstream),\n\u001b[1;32m    244\u001b[0m     extensions\u001b[38;5;241m=\u001b[39mresp\u001b[38;5;241m.\u001b[39mextensions,\n\u001b[1;32m    245\u001b[0m )\n",
      "File \u001b[0;32m/opt/anaconda3/envs/research/lib/python3.12/site-packages/httpcore/_sync/connection_pool.py:216\u001b[0m, in \u001b[0;36mConnectionPool.handle_request\u001b[0;34m(self, request)\u001b[0m\n\u001b[1;32m    213\u001b[0m         closing \u001b[38;5;241m=\u001b[39m \u001b[38;5;28mself\u001b[39m\u001b[38;5;241m.\u001b[39m_assign_requests_to_connections()\n\u001b[1;32m    215\u001b[0m     \u001b[38;5;28mself\u001b[39m\u001b[38;5;241m.\u001b[39m_close_connections(closing)\n\u001b[0;32m--> 216\u001b[0m     \u001b[38;5;28;01mraise\u001b[39;00m exc \u001b[38;5;28;01mfrom\u001b[39;00m \u001b[38;5;28;01mNone\u001b[39;00m\n\u001b[1;32m    218\u001b[0m \u001b[38;5;66;03m# Return the response. Note that in this case we still have to manage\u001b[39;00m\n\u001b[1;32m    219\u001b[0m \u001b[38;5;66;03m# the point at which the response is closed.\u001b[39;00m\n\u001b[1;32m    220\u001b[0m \u001b[38;5;28;01massert\u001b[39;00m \u001b[38;5;28misinstance\u001b[39m(response\u001b[38;5;241m.\u001b[39mstream, Iterable)\n",
      "File \u001b[0;32m/opt/anaconda3/envs/research/lib/python3.12/site-packages/httpcore/_sync/connection_pool.py:196\u001b[0m, in \u001b[0;36mConnectionPool.handle_request\u001b[0;34m(self, request)\u001b[0m\n\u001b[1;32m    192\u001b[0m connection \u001b[38;5;241m=\u001b[39m pool_request\u001b[38;5;241m.\u001b[39mwait_for_connection(timeout\u001b[38;5;241m=\u001b[39mtimeout)\n\u001b[1;32m    194\u001b[0m \u001b[38;5;28;01mtry\u001b[39;00m:\n\u001b[1;32m    195\u001b[0m     \u001b[38;5;66;03m# Send the request on the assigned connection.\u001b[39;00m\n\u001b[0;32m--> 196\u001b[0m     response \u001b[38;5;241m=\u001b[39m \u001b[43mconnection\u001b[49m\u001b[38;5;241;43m.\u001b[39;49m\u001b[43mhandle_request\u001b[49m\u001b[43m(\u001b[49m\n\u001b[1;32m    197\u001b[0m \u001b[43m        \u001b[49m\u001b[43mpool_request\u001b[49m\u001b[38;5;241;43m.\u001b[39;49m\u001b[43mrequest\u001b[49m\n\u001b[1;32m    198\u001b[0m \u001b[43m    \u001b[49m\u001b[43m)\u001b[49m\n\u001b[1;32m    199\u001b[0m \u001b[38;5;28;01mexcept\u001b[39;00m ConnectionNotAvailable:\n\u001b[1;32m    200\u001b[0m     \u001b[38;5;66;03m# In some cases a connection may initially be available to\u001b[39;00m\n\u001b[1;32m    201\u001b[0m     \u001b[38;5;66;03m# handle a request, but then become unavailable.\u001b[39;00m\n\u001b[1;32m    202\u001b[0m     \u001b[38;5;66;03m#\u001b[39;00m\n\u001b[1;32m    203\u001b[0m     \u001b[38;5;66;03m# In this case we clear the connection and try again.\u001b[39;00m\n\u001b[1;32m    204\u001b[0m     pool_request\u001b[38;5;241m.\u001b[39mclear_connection()\n",
      "File \u001b[0;32m/opt/anaconda3/envs/research/lib/python3.12/site-packages/httpcore/_sync/connection.py:101\u001b[0m, in \u001b[0;36mHTTPConnection.handle_request\u001b[0;34m(self, request)\u001b[0m\n\u001b[1;32m     98\u001b[0m     \u001b[38;5;28mself\u001b[39m\u001b[38;5;241m.\u001b[39m_connect_failed \u001b[38;5;241m=\u001b[39m \u001b[38;5;28;01mTrue\u001b[39;00m\n\u001b[1;32m     99\u001b[0m     \u001b[38;5;28;01mraise\u001b[39;00m exc\n\u001b[0;32m--> 101\u001b[0m \u001b[38;5;28;01mreturn\u001b[39;00m \u001b[38;5;28;43mself\u001b[39;49m\u001b[38;5;241;43m.\u001b[39;49m\u001b[43m_connection\u001b[49m\u001b[38;5;241;43m.\u001b[39;49m\u001b[43mhandle_request\u001b[49m\u001b[43m(\u001b[49m\u001b[43mrequest\u001b[49m\u001b[43m)\u001b[49m\n",
      "File \u001b[0;32m/opt/anaconda3/envs/research/lib/python3.12/site-packages/httpcore/_sync/http11.py:143\u001b[0m, in \u001b[0;36mHTTP11Connection.handle_request\u001b[0;34m(self, request)\u001b[0m\n\u001b[1;32m    141\u001b[0m     \u001b[38;5;28;01mwith\u001b[39;00m Trace(\u001b[38;5;124m\"\u001b[39m\u001b[38;5;124mresponse_closed\u001b[39m\u001b[38;5;124m\"\u001b[39m, logger, request) \u001b[38;5;28;01mas\u001b[39;00m trace:\n\u001b[1;32m    142\u001b[0m         \u001b[38;5;28mself\u001b[39m\u001b[38;5;241m.\u001b[39m_response_closed()\n\u001b[0;32m--> 143\u001b[0m \u001b[38;5;28;01mraise\u001b[39;00m exc\n",
      "File \u001b[0;32m/opt/anaconda3/envs/research/lib/python3.12/site-packages/httpcore/_sync/http11.py:113\u001b[0m, in \u001b[0;36mHTTP11Connection.handle_request\u001b[0;34m(self, request)\u001b[0m\n\u001b[1;32m    102\u001b[0m     \u001b[38;5;28;01mpass\u001b[39;00m\n\u001b[1;32m    104\u001b[0m \u001b[38;5;28;01mwith\u001b[39;00m Trace(\n\u001b[1;32m    105\u001b[0m     \u001b[38;5;124m\"\u001b[39m\u001b[38;5;124mreceive_response_headers\u001b[39m\u001b[38;5;124m\"\u001b[39m, logger, request, kwargs\n\u001b[1;32m    106\u001b[0m ) \u001b[38;5;28;01mas\u001b[39;00m trace:\n\u001b[1;32m    107\u001b[0m     (\n\u001b[1;32m    108\u001b[0m         http_version,\n\u001b[1;32m    109\u001b[0m         status,\n\u001b[1;32m    110\u001b[0m         reason_phrase,\n\u001b[1;32m    111\u001b[0m         headers,\n\u001b[1;32m    112\u001b[0m         trailing_data,\n\u001b[0;32m--> 113\u001b[0m     ) \u001b[38;5;241m=\u001b[39m \u001b[38;5;28;43mself\u001b[39;49m\u001b[38;5;241;43m.\u001b[39;49m\u001b[43m_receive_response_headers\u001b[49m\u001b[43m(\u001b[49m\u001b[38;5;241;43m*\u001b[39;49m\u001b[38;5;241;43m*\u001b[39;49m\u001b[43mkwargs\u001b[49m\u001b[43m)\u001b[49m\n\u001b[1;32m    114\u001b[0m     trace\u001b[38;5;241m.\u001b[39mreturn_value \u001b[38;5;241m=\u001b[39m (\n\u001b[1;32m    115\u001b[0m         http_version,\n\u001b[1;32m    116\u001b[0m         status,\n\u001b[1;32m    117\u001b[0m         reason_phrase,\n\u001b[1;32m    118\u001b[0m         headers,\n\u001b[1;32m    119\u001b[0m     )\n\u001b[1;32m    121\u001b[0m network_stream \u001b[38;5;241m=\u001b[39m \u001b[38;5;28mself\u001b[39m\u001b[38;5;241m.\u001b[39m_network_stream\n",
      "File \u001b[0;32m/opt/anaconda3/envs/research/lib/python3.12/site-packages/httpcore/_sync/http11.py:186\u001b[0m, in \u001b[0;36mHTTP11Connection._receive_response_headers\u001b[0;34m(self, request)\u001b[0m\n\u001b[1;32m    183\u001b[0m timeout \u001b[38;5;241m=\u001b[39m timeouts\u001b[38;5;241m.\u001b[39mget(\u001b[38;5;124m\"\u001b[39m\u001b[38;5;124mread\u001b[39m\u001b[38;5;124m\"\u001b[39m, \u001b[38;5;28;01mNone\u001b[39;00m)\n\u001b[1;32m    185\u001b[0m \u001b[38;5;28;01mwhile\u001b[39;00m \u001b[38;5;28;01mTrue\u001b[39;00m:\n\u001b[0;32m--> 186\u001b[0m     event \u001b[38;5;241m=\u001b[39m \u001b[38;5;28;43mself\u001b[39;49m\u001b[38;5;241;43m.\u001b[39;49m\u001b[43m_receive_event\u001b[49m\u001b[43m(\u001b[49m\u001b[43mtimeout\u001b[49m\u001b[38;5;241;43m=\u001b[39;49m\u001b[43mtimeout\u001b[49m\u001b[43m)\u001b[49m\n\u001b[1;32m    187\u001b[0m     \u001b[38;5;28;01mif\u001b[39;00m \u001b[38;5;28misinstance\u001b[39m(event, h11\u001b[38;5;241m.\u001b[39mResponse):\n\u001b[1;32m    188\u001b[0m         \u001b[38;5;28;01mbreak\u001b[39;00m\n",
      "File \u001b[0;32m/opt/anaconda3/envs/research/lib/python3.12/site-packages/httpcore/_sync/http11.py:224\u001b[0m, in \u001b[0;36mHTTP11Connection._receive_event\u001b[0;34m(self, timeout)\u001b[0m\n\u001b[1;32m    221\u001b[0m     event \u001b[38;5;241m=\u001b[39m \u001b[38;5;28mself\u001b[39m\u001b[38;5;241m.\u001b[39m_h11_state\u001b[38;5;241m.\u001b[39mnext_event()\n\u001b[1;32m    223\u001b[0m \u001b[38;5;28;01mif\u001b[39;00m event \u001b[38;5;129;01mis\u001b[39;00m h11\u001b[38;5;241m.\u001b[39mNEED_DATA:\n\u001b[0;32m--> 224\u001b[0m     data \u001b[38;5;241m=\u001b[39m \u001b[38;5;28;43mself\u001b[39;49m\u001b[38;5;241;43m.\u001b[39;49m\u001b[43m_network_stream\u001b[49m\u001b[38;5;241;43m.\u001b[39;49m\u001b[43mread\u001b[49m\u001b[43m(\u001b[49m\n\u001b[1;32m    225\u001b[0m \u001b[43m        \u001b[49m\u001b[38;5;28;43mself\u001b[39;49m\u001b[38;5;241;43m.\u001b[39;49m\u001b[43mREAD_NUM_BYTES\u001b[49m\u001b[43m,\u001b[49m\u001b[43m \u001b[49m\u001b[43mtimeout\u001b[49m\u001b[38;5;241;43m=\u001b[39;49m\u001b[43mtimeout\u001b[49m\n\u001b[1;32m    226\u001b[0m \u001b[43m    \u001b[49m\u001b[43m)\u001b[49m\n\u001b[1;32m    228\u001b[0m     \u001b[38;5;66;03m# If we feed this case through h11 we'll raise an exception like:\u001b[39;00m\n\u001b[1;32m    229\u001b[0m     \u001b[38;5;66;03m#\u001b[39;00m\n\u001b[1;32m    230\u001b[0m     \u001b[38;5;66;03m#     httpcore.RemoteProtocolError: can't handle event type\u001b[39;00m\n\u001b[0;32m   (...)\u001b[0m\n\u001b[1;32m    234\u001b[0m     \u001b[38;5;66;03m# perspective. Instead we handle this case distinctly and treat\u001b[39;00m\n\u001b[1;32m    235\u001b[0m     \u001b[38;5;66;03m# it as a ConnectError.\u001b[39;00m\n\u001b[1;32m    236\u001b[0m     \u001b[38;5;28;01mif\u001b[39;00m data \u001b[38;5;241m==\u001b[39m \u001b[38;5;124mb\u001b[39m\u001b[38;5;124m\"\u001b[39m\u001b[38;5;124m\"\u001b[39m \u001b[38;5;129;01mand\u001b[39;00m \u001b[38;5;28mself\u001b[39m\u001b[38;5;241m.\u001b[39m_h11_state\u001b[38;5;241m.\u001b[39mtheir_state \u001b[38;5;241m==\u001b[39m h11\u001b[38;5;241m.\u001b[39mSEND_RESPONSE:\n",
      "File \u001b[0;32m/opt/anaconda3/envs/research/lib/python3.12/site-packages/httpcore/_backends/sync.py:126\u001b[0m, in \u001b[0;36mSyncStream.read\u001b[0;34m(self, max_bytes, timeout)\u001b[0m\n\u001b[1;32m    124\u001b[0m \u001b[38;5;28;01mwith\u001b[39;00m map_exceptions(exc_map):\n\u001b[1;32m    125\u001b[0m     \u001b[38;5;28mself\u001b[39m\u001b[38;5;241m.\u001b[39m_sock\u001b[38;5;241m.\u001b[39msettimeout(timeout)\n\u001b[0;32m--> 126\u001b[0m     \u001b[38;5;28;01mreturn\u001b[39;00m \u001b[38;5;28;43mself\u001b[39;49m\u001b[38;5;241;43m.\u001b[39;49m\u001b[43m_sock\u001b[49m\u001b[38;5;241;43m.\u001b[39;49m\u001b[43mrecv\u001b[49m\u001b[43m(\u001b[49m\u001b[43mmax_bytes\u001b[49m\u001b[43m)\u001b[49m\n",
      "File \u001b[0;32m/opt/anaconda3/envs/research/lib/python3.12/ssl.py:1233\u001b[0m, in \u001b[0;36mSSLSocket.recv\u001b[0;34m(self, buflen, flags)\u001b[0m\n\u001b[1;32m   1229\u001b[0m     \u001b[38;5;28;01mif\u001b[39;00m flags \u001b[38;5;241m!=\u001b[39m \u001b[38;5;241m0\u001b[39m:\n\u001b[1;32m   1230\u001b[0m         \u001b[38;5;28;01mraise\u001b[39;00m \u001b[38;5;167;01mValueError\u001b[39;00m(\n\u001b[1;32m   1231\u001b[0m             \u001b[38;5;124m\"\u001b[39m\u001b[38;5;124mnon-zero flags not allowed in calls to recv() on \u001b[39m\u001b[38;5;132;01m%s\u001b[39;00m\u001b[38;5;124m\"\u001b[39m \u001b[38;5;241m%\u001b[39m\n\u001b[1;32m   1232\u001b[0m             \u001b[38;5;28mself\u001b[39m\u001b[38;5;241m.\u001b[39m\u001b[38;5;18m__class__\u001b[39m)\n\u001b[0;32m-> 1233\u001b[0m     \u001b[38;5;28;01mreturn\u001b[39;00m \u001b[38;5;28;43mself\u001b[39;49m\u001b[38;5;241;43m.\u001b[39;49m\u001b[43mread\u001b[49m\u001b[43m(\u001b[49m\u001b[43mbuflen\u001b[49m\u001b[43m)\u001b[49m\n\u001b[1;32m   1234\u001b[0m \u001b[38;5;28;01melse\u001b[39;00m:\n\u001b[1;32m   1235\u001b[0m     \u001b[38;5;28;01mreturn\u001b[39;00m \u001b[38;5;28msuper\u001b[39m()\u001b[38;5;241m.\u001b[39mrecv(buflen, flags)\n",
      "File \u001b[0;32m/opt/anaconda3/envs/research/lib/python3.12/ssl.py:1106\u001b[0m, in \u001b[0;36mSSLSocket.read\u001b[0;34m(self, len, buffer)\u001b[0m\n\u001b[1;32m   1104\u001b[0m         \u001b[38;5;28;01mreturn\u001b[39;00m \u001b[38;5;28mself\u001b[39m\u001b[38;5;241m.\u001b[39m_sslobj\u001b[38;5;241m.\u001b[39mread(\u001b[38;5;28mlen\u001b[39m, buffer)\n\u001b[1;32m   1105\u001b[0m     \u001b[38;5;28;01melse\u001b[39;00m:\n\u001b[0;32m-> 1106\u001b[0m         \u001b[38;5;28;01mreturn\u001b[39;00m \u001b[38;5;28;43mself\u001b[39;49m\u001b[38;5;241;43m.\u001b[39;49m\u001b[43m_sslobj\u001b[49m\u001b[38;5;241;43m.\u001b[39;49m\u001b[43mread\u001b[49m\u001b[43m(\u001b[49m\u001b[38;5;28;43mlen\u001b[39;49m\u001b[43m)\u001b[49m\n\u001b[1;32m   1107\u001b[0m \u001b[38;5;28;01mexcept\u001b[39;00m SSLError \u001b[38;5;28;01mas\u001b[39;00m x:\n\u001b[1;32m   1108\u001b[0m     \u001b[38;5;28;01mif\u001b[39;00m x\u001b[38;5;241m.\u001b[39margs[\u001b[38;5;241m0\u001b[39m] \u001b[38;5;241m==\u001b[39m SSL_ERROR_EOF \u001b[38;5;129;01mand\u001b[39;00m \u001b[38;5;28mself\u001b[39m\u001b[38;5;241m.\u001b[39msuppress_ragged_eofs:\n",
      "\u001b[0;31mKeyboardInterrupt\u001b[0m: "
     ]
    }
   ],
   "source": [
    "from rich import print\n",
    "from tqdm import tqdm\n",
    "\n",
    "# TODO: append university profile w/ personal website text\n",
    "# TODO: make sure that results aren't correlated w/ more text (more personable because they wrote more) \n",
    "\n",
    "researcher_profile = []\n",
    "\n",
    "for index, row in tqdm(df.iterrows()):\n",
    "    text = row['Personal Website']\n",
    "    response = process_homepage_text(text)\n",
    "    response[\"name\"] = row['Name']\n",
    "    researcher_profile.append(response)\n",
    "    print(response)\n",
    "    "
   ]
  },
  {
   "cell_type": "code",
   "execution_count": null,
   "metadata": {},
   "outputs": [],
   "source": [
    "with open(\"homepage_data_analyzed.json\", \"w+\") as f:\n",
    "    json.dump(researcher_profile, f)"
   ]
  },
  {
   "cell_type": "code",
   "execution_count": 8,
   "metadata": {},
   "outputs": [],
   "source": [
    "# TODO: save to 0721-month-analysis-data, save to new file"
   ]
  },
  {
   "cell_type": "code",
   "execution_count": null,
   "metadata": {},
   "outputs": [],
   "source": []
  }
 ],
 "metadata": {
  "kernelspec": {
   "display_name": "research",
   "language": "python",
   "name": "python3"
  },
  "language_info": {
   "codemirror_mode": {
    "name": "ipython",
    "version": 3
   },
   "file_extension": ".py",
   "mimetype": "text/x-python",
   "name": "python",
   "nbconvert_exporter": "python",
   "pygments_lexer": "ipython3",
   "version": "3.12.3"
  }
 },
 "nbformat": 4,
 "nbformat_minor": 2
}

{
 "cells": [
  {
   "cell_type": "code",
   "execution_count": 12,
   "metadata": {},
   "outputs": [
    {
     "data": {
      "text/html": [
       "<div>\n",
       "<style scoped>\n",
       "    .dataframe tbody tr th:only-of-type {\n",
       "        vertical-align: middle;\n",
       "    }\n",
       "\n",
       "    .dataframe tbody tr th {\n",
       "        vertical-align: top;\n",
       "    }\n",
       "\n",
       "    .dataframe thead th {\n",
       "        text-align: right;\n",
       "    }\n",
       "</style>\n",
       "<table border=\"1\" class=\"dataframe\">\n",
       "  <thead>\n",
       "    <tr style=\"text-align: right;\">\n",
       "      <th></th>\n",
       "      <th>Name</th>\n",
       "      <th>Personal Website</th>\n",
       "      <th>About Us Text</th>\n",
       "    </tr>\n",
       "  </thead>\n",
       "  <tbody>\n",
       "    <tr>\n",
       "      <th>0</th>\n",
       "      <td>Albert Chi-Shing CHUNG</td>\n",
       "      <td>https://cse.hkust.edu.hk/admin/people/faculty/...</td>\n",
       "      <td>Albert Chung is a Full Professor at the Depart...</td>\n",
       "    </tr>\n",
       "    <tr>\n",
       "      <th>1</th>\n",
       "      <td>Andrew Wing-On POON</td>\n",
       "      <td>https://eeawpoon.people.ust.hk/</td>\n",
       "      <td>Professor Poon received his BA degree from the...</td>\n",
       "    </tr>\n",
       "    <tr>\n",
       "      <th>2</th>\n",
       "      <td>Antoni Bert CHAN</td>\n",
       "      <td>https://www.cs.cityu.edu.hk/~abchan/</td>\n",
       "      <td>Dr. Antoni Chan is a Professor at the City Uni...</td>\n",
       "    </tr>\n",
       "    <tr>\n",
       "      <th>3</th>\n",
       "      <td>Brian Kan-Wing MAK</td>\n",
       "      <td>https://cse.hkust.edu.hk/admin/people/faculty/...</td>\n",
       "      <td>Dr. Mak is currently an Associate Professor in...</td>\n",
       "    </tr>\n",
       "    <tr>\n",
       "      <th>4</th>\n",
       "      <td>CHAN Chee Yong</td>\n",
       "      <td>https://sgps.cuhk.edu.hk/profile/professor-cha...</td>\n",
       "      <td>Professor Chee Hon Chan is an Assistant Profes...</td>\n",
       "    </tr>\n",
       "  </tbody>\n",
       "</table>\n",
       "</div>"
      ],
      "text/plain": [
       "                     Name                                   Personal Website  \\\n",
       "0  Albert Chi-Shing CHUNG  https://cse.hkust.edu.hk/admin/people/faculty/...   \n",
       "1     Andrew Wing-On POON                    https://eeawpoon.people.ust.hk/   \n",
       "2        Antoni Bert CHAN               https://www.cs.cityu.edu.hk/~abchan/   \n",
       "3      Brian Kan-Wing MAK  https://cse.hkust.edu.hk/admin/people/faculty/...   \n",
       "4          CHAN Chee Yong  https://sgps.cuhk.edu.hk/profile/professor-cha...   \n",
       "\n",
       "                                       About Us Text  \n",
       "0  Albert Chung is a Full Professor at the Depart...  \n",
       "1  Professor Poon received his BA degree from the...  \n",
       "2  Dr. Antoni Chan is a Professor at the City Uni...  \n",
       "3  Dr. Mak is currently an Associate Professor in...  \n",
       "4  Professor Chee Hon Chan is an Assistant Profes...  "
      ]
     },
     "execution_count": 12,
     "metadata": {},
     "output_type": "execute_result"
    }
   ],
   "source": [
    "import pandas as pd\n",
    "\n",
    "df = pd.read_csv(\"homepage_data.csv\")\n",
    "df = df[~df['Personal Website'].str.endswith('.sg').astype(bool)]\n",
    "df.head()"
   ]
  },
  {
   "cell_type": "code",
   "execution_count": 13,
   "metadata": {},
   "outputs": [],
   "source": [
    "from openai import OpenAI\n",
    "from dotenv import load_dotenv\n",
    "import os\n",
    "import requests\n",
    "from markdownify import markdownify as md\n",
    "import json\n",
    "\n",
    "load_dotenv(\".env\")\n",
    "\n",
    "client = OpenAI(\n",
    "    api_key=os.getenv(\"OPENAI_API_KEY\"),\n",
    ")\n",
    "\n",
    "def process_homepage_text(text: str):\n",
    "    response = client.chat.completions.create(\n",
    "        messages=[{\n",
    "            \"role\": \"system\",\n",
    "            \"content\": \"\"\"Extract the following qualities, with justification in a JSON formatted output. \n",
    "Try to infer these from the way the author writes about themselves. JSON output format: \n",
    "{\n",
    "    \"friendliness-justification\": \"Explain your friendliness quote with citations\",\n",
    "    \"friendliness\": \"Scale of 1-10, how much they exhibit traits of cameraderie, teamwork and collaboration. 10 being heavy-emphasis on friendliness.\",\n",
    "    \"we-vs-i-justification\": \"Explain your we-vs-i quote with citations\",\n",
    "    \"we-vs-i\": \"Scale of 1-10, how much they talk about themselves vs their collaborators. 10 being heavy-emphasis on we.\",\n",
    "    \"risk-averse-justification\": \"Explain your risk-averse quote with citations\",\n",
    "    \"risk-averse\": \"Scale of 1-10, how they feel about taking risks. 10 being very risk-averse.\",\n",
    "    \"career-orientation-justification\": \"Explain your career-orientation quote with citations\",\n",
    "    \"career-orientation\": \"How much a person cares about their career. 10 being very career-oriented.\",\n",
    "}\"\"\"\n",
    "        }, {\n",
    "            \"role\": \"user\",\n",
    "            \"content\": text\n",
    "        }],\n",
    "        response_format={\n",
    "            \"type\": \"json_object\"\n",
    "        },\n",
    "        model=\"gpt-4o\"\n",
    "    )\n",
    "    response = json.loads(response.choices[0].message.content)\n",
    "    return response\n"
   ]
  },
  {
   "cell_type": "code",
   "execution_count": 14,
   "metadata": {},
   "outputs": [
    {
     "name": "stderr",
     "output_type": "stream",
     "text": [
      "78it [04:08,  3.19s/it]\n"
     ]
    }
   ],
   "source": [
    "from rich import print\n",
    "from tqdm import tqdm\n",
    "\n",
    "# TODO: append university profile w/ personal website text\n",
    "# TODO: make sure that results aren't correlated w/ more text (more personable because they wrote more) \n",
    "\n",
    "researcher_profile = []\n",
    "\n",
    "for index, row in tqdm(df.iterrows()):\n",
    "    text = row['Personal Website']\n",
    "    response = process_homepage_text(text)\n",
    "    response[\"name\"] = row['Name']\n",
    "    researcher_profile.append(response)\n",
    "    "
   ]
  },
  {
   "cell_type": "code",
   "execution_count": 15,
   "metadata": {},
   "outputs": [],
   "source": [
    "with open(\"homepage_data_analyzed.json\", \"w+\") as f:\n",
    "    json.dump(researcher_profile, f)"
   ]
  },
  {
   "cell_type": "code",
   "execution_count": 8,
   "metadata": {},
   "outputs": [],
   "source": [
    "# TODO: save to 0721-month-analysis-data, save to new file"
   ]
  },
  {
   "cell_type": "code",
   "execution_count": null,
   "metadata": {},
   "outputs": [],
   "source": []
  }
 ],
 "metadata": {
  "kernelspec": {
   "display_name": "research",
   "language": "python",
   "name": "python3"
  },
  "language_info": {
   "codemirror_mode": {
    "name": "ipython",
    "version": 3
   },
   "file_extension": ".py",
   "mimetype": "text/x-python",
   "name": "python",
   "nbconvert_exporter": "python",
   "pygments_lexer": "ipython3",
   "version": "3.12.3"
  }
 },
 "nbformat": 4,
 "nbformat_minor": 2
}

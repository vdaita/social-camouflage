{
 "cells": [
  {
   "cell_type": "code",
   "execution_count": 4,
   "metadata": {},
   "outputs": [
    {
     "data": {
      "text/html": [
       "<div>\n",
       "<style scoped>\n",
       "    .dataframe tbody tr th:only-of-type {\n",
       "        vertical-align: middle;\n",
       "    }\n",
       "\n",
       "    .dataframe tbody tr th {\n",
       "        vertical-align: top;\n",
       "    }\n",
       "\n",
       "    .dataframe thead th {\n",
       "        text-align: right;\n",
       "    }\n",
       "</style>\n",
       "<table border=\"1\" class=\"dataframe\">\n",
       "  <thead>\n",
       "    <tr style=\"text-align: right;\">\n",
       "      <th></th>\n",
       "      <th>Name</th>\n",
       "      <th>Personal Website</th>\n",
       "      <th>About Us Text</th>\n",
       "    </tr>\n",
       "  </thead>\n",
       "  <tbody>\n",
       "    <tr>\n",
       "      <th>0</th>\n",
       "      <td>Albert Chi-Shing CHUNG</td>\n",
       "      <td>https://cse.hkust.edu.hk/admin/people/faculty/...</td>\n",
       "      <td>Albert Chung is a Full Professor at the Depart...</td>\n",
       "    </tr>\n",
       "    <tr>\n",
       "      <th>1</th>\n",
       "      <td>Andrew Wing-On POON</td>\n",
       "      <td>https://eeawpoon.people.ust.hk/</td>\n",
       "      <td>Professor Poon received his BA degree from the...</td>\n",
       "    </tr>\n",
       "    <tr>\n",
       "      <th>2</th>\n",
       "      <td>Antoni Bert CHAN</td>\n",
       "      <td>https://www.cs.cityu.edu.hk/~abchan/</td>\n",
       "      <td>Dr. Antoni Chan is a Professor at the City Uni...</td>\n",
       "    </tr>\n",
       "    <tr>\n",
       "      <th>3</th>\n",
       "      <td>Brian Kan-Wing MAK</td>\n",
       "      <td>https://cse.hkust.edu.hk/admin/people/faculty/...</td>\n",
       "      <td>Dr. Mak is currently an Associate Professor in...</td>\n",
       "    </tr>\n",
       "    <tr>\n",
       "      <th>4</th>\n",
       "      <td>CHAN Chee Yong</td>\n",
       "      <td>https://sgps.cuhk.edu.hk/profile/professor-cha...</td>\n",
       "      <td>Professor Chee Hon Chan is an Assistant Profes...</td>\n",
       "    </tr>\n",
       "  </tbody>\n",
       "</table>\n",
       "</div>"
      ],
      "text/plain": [
       "                     Name                                   Personal Website  \\\n",
       "0  Albert Chi-Shing CHUNG  https://cse.hkust.edu.hk/admin/people/faculty/...   \n",
       "1     Andrew Wing-On POON                    https://eeawpoon.people.ust.hk/   \n",
       "2        Antoni Bert CHAN               https://www.cs.cityu.edu.hk/~abchan/   \n",
       "3      Brian Kan-Wing MAK  https://cse.hkust.edu.hk/admin/people/faculty/...   \n",
       "4          CHAN Chee Yong  https://sgps.cuhk.edu.hk/profile/professor-cha...   \n",
       "\n",
       "                                       About Us Text  \n",
       "0  Albert Chung is a Full Professor at the Depart...  \n",
       "1  Professor Poon received his BA degree from the...  \n",
       "2  Dr. Antoni Chan is a Professor at the City Uni...  \n",
       "3  Dr. Mak is currently an Associate Professor in...  \n",
       "4  Professor Chee Hon Chan is an Assistant Profes...  "
      ]
     },
     "execution_count": 4,
     "metadata": {},
     "output_type": "execute_result"
    }
   ],
   "source": [
    "import pandas as pd\n",
    "\n",
    "df = pd.read_csv(\"homepage_data.csv\")\n",
    "df2 = pd.read_csv(\"homepage_data_3.csv\")\n",
    "df = df[~df['Personal Website'].str.endswith('.sg').astype(bool)]\n",
    "df = pd.concat([df, df2], ignore_index=True)\n",
    "df.head()"
   ]
  },
  {
   "cell_type": "code",
   "execution_count": null,
   "metadata": {},
   "outputs": [],
   "source": []
  },
  {
   "cell_type": "code",
   "execution_count": null,
   "metadata": {},
   "outputs": [],
   "source": [
    "\n"
   ]
  },
  {
   "cell_type": "code",
   "execution_count": 5,
   "metadata": {},
   "outputs": [],
   "source": [
    "from openai import OpenAI\n",
    "from dotenv import load_dotenv\n",
    "import os\n",
    "import requests\n",
    "from markdownify import markdownify as md\n",
    "import json\n",
    "\n",
    "load_dotenv(\".env\")\n",
    "\n",
    "client = OpenAI(\n",
    "    api_key=os.getenv(\"OPENAI_API_KEY\"),\n",
    ")\n",
    "\n",
    "def process_homepage_text(text: str):\n",
    "    response = client.chat.completions.create(\n",
    "        messages=[{\n",
    "            \"role\": \"system\",\n",
    "#             \"content\": \"\"\"Extract the following qualities, with justification in a JSON formatted output. \n",
    "# Try to infer these from the way the author writes about themselves. Use and describe subtle language patterns to extract this understanding about a given individual. Try to look for small things like wordings, language choices, quotes, emphasis put on different things and related ideas. JSON output format: \n",
    "# {\n",
    "#     \"friendliness-justification\": \"Explain your friendliness quote with citations\",\n",
    "#     \"friendliness\": \"Scale of 1-10, how much they exhibit traits of cameraderie, teamwork and collaboration. 10 being heavy-emphasis on friendliness.\",\n",
    "#     \"we-vs-i-justification\": \"Explain your we-vs-i quote with citations\",\n",
    "#     \"we-vs-i\": \"Scale of 1-10, how much they talk about themselves vs their collaborators. 10 being heavy-emphasis on we.\",\n",
    "#     \"risk-averse-justification\": \"Explain your risk-averse quote with citations\",\n",
    "#     \"risk-averse\": \"Scale of 1-10, how they feel about taking risks. 10 being very risk-averse.\",\n",
    "#     \"career-orientation-justification\": \"Explain your career-orientation quote with citations\",\n",
    "#     \"career-orientation\": \"How much a person cares about their career. 10 being very career-oriented.\",\n",
    "# }\"\"\"\n",
    "        \"content\": \"\"\"\t•\tSOCIAL CAMOUFLAGE\n",
    "\n",
    "Definition\n",
    "Social camouflage occurs when individuals, faced with the potential risks tied to particular identity markers (e.g., regional, ethnic, or other social affiliations) in a contentious situation, adjust their public and professional profiles to downplay or obscure that identity. This might involve distancing themselves from in-group markers, using neutral language about their origins, or highlighting connections to “safer” or more broadly accepted communities.\n",
    "\n",
    "Theoretical Underpinnings\n",
    "Individuals derive part of their self-concept from membership in social groups (Tajfel and Turner, 1979).  When an external event suddenly makes that group membership riskier (e.g., stigmatized, politicized, or closely monitored), people may seek to minimize exposure to adverse outcomes by attenuating the visible markers of that identity. Rather than celebrating or emphasizing one’s membership, individuals consciously or subconsciously adjust their behavior or affiliations to safeguard their professional or personal well-being. In this sense, camouflage manifests in observable behavior: professionals seek to protect themselves by changing who they collaborate with or how they present their identity cues.\n",
    "\n",
    "People routinely manage the impressions they convey to others (Goffman, 1959; Elsbach and Kramer, 1996). In “camouflage” mode, researchers might adopt collaborative practices that mask, blur, or neutralize identity cues—similar to “passing” or “covering” (Goffman, 1963), which refers to the concealment or softening of a stigmatized attribute. These shifts need not be calculated or explicitly displayed publically; subtle reconfigurations of who is asked to join a project or which research topics are emphasized can serve a protective, identity-shielding function.\n",
    "\n",
    "Notable aspects of social camouflage include:\n",
    "\n",
    "\t•\tBehavioral adaptation. Social camouflage does not imply that every shift in collaboration patterns is deliberate and conscious. Instead, it captures the notion that when a particular identity feels risky due to heightened public attention, interpersonal tension, or institutional uncertainty, individuals may gravitate, sometimes even intuitively, toward pathways that reduce the salience of that identity in professional settings. \n",
    "\n",
    "\t•\tSubtle identity management. People can “camouflage” their identities in many ways, and collaboration patterns are just one of them. Even if no one scrutinizes a researcher’s co-author lists line by line, a slight shift in who is invited or included in a project may reflect a broader, often even subconscious, effort to minimize perceived vulnerabilities.\n",
    "\n",
    "\t•\tContext-dependency. For some researchers, their academic environment, lab culture, or project funding sources may influence collaboration choices, whether or not they explicitly aim to influence outsiders’ perceptions. Social camouflage captures the possibility that social or regional identity risks subtly shape who teams up with whom—even if no one is sure others are paying close attention.\n",
    "\n",
    "Current Empirical Operationalization\n",
    "Social camouflage can be linked to retreating from or masking certain affiliations (e.g., reducing in-group partnerships or increasing out-group partnerships to blur one’s identity). For instance, if a certain regional identity becomes stigmatized, individuals might reduce their collaborations with others sharing that identity or increase projects with out-group members. In doing so, they effectively dilute the visibility of their “risky” group membership.\n",
    "\n",
    "Some Ideas for Website Cues\n",
    "Following Hong Kong’s Umbrella Movement in 2014—an event that heightened political and social sensitivities around local identity—some computer science professors may have felt pressure to alter how they present themselves. Social camouflage in this setting involves minimizing or obscuring markers of a Hong Kong affiliation to avoid potential scrutiny or stigmatization. Whether consciously or not, these academics might shift their self-descriptions to more neutral or global terms and reduce explicit references to a “Hong Kong” identity.\n",
    "\n",
    "\t•\tDe-emphasized in-group labels: Reduced mention of regional affiliations or explicit group memberships (e.g., changing “Hong Kong researcher” to “Asian researcher”).\n",
    "\n",
    "\t•\tShift in collaboration spotlight: Showcasing collaborations that cross typical group boundaries or leave out once-prominent ties to an in-group.\n",
    "\n",
    "\t•\tSelective language about identity: Subtle disclaimers or ambiguous references to nationality, background, or social causes that could be associated with a charged identity.\n",
    "\n",
    "For example, we could measure (1) reduced frequency or removal of in-group labels (e.g., dropping phrases like “I’m a Hong Kong researcher”) or (2) neutral, global, or mainland-Chinese-based reframing of one’s background (e.g., replacing “I am from X region” with “I’m based in Asia/the world” and/or “I’m based in China”). \n",
    "\n",
    "We could also measure indirect clues such as (3) replacing or downplaying once-prominent local society memberships (e.g., removing mention of a regional academic association) or (4) highlighting global/international/mainland Chinese associations.\n",
    "\n",
    "*The differences among these three might be theoretically significant depending on what we empirically see. We could also combine them as a “camouflage index” if aggregation becomes needed. \n",
    "\n",
    "\t•\tRECONCILIATION\n",
    "\n",
    "Definition\n",
    "Reconciliation involves building or bridging divisive lines—seeking cooperation and shared goals with individuals from the “other side”—among individuals from groups that may be prone to separations by a tense or contentious boundary. It manifests in cross-group affiliations, co-authorships, or partnerships, reflecting an effort to foster harmony and reduce tension.\n",
    "\n",
    "Theoretical Underpinnings\n",
    "Reconciliation can emerge when individuals move beyond “us vs. them” categories and instead adopt a superordinate or bridging identity that highlights shared professional, organizational, or human commonalities (Gaertner and Dovidio, 2000). The emotional underpinnings of reconciliation stem from a desire to maintain harmonious relationships, restore trust, and reduce inter-group hostility (Ashforth, Harrison, and Corley, 2008). Efforts to build empathy or camaraderie align with more affect-based, relational elements of identity work. In particular, intergroup theories emphasize cooperative engagement as the clearest indication of conflict reduction (Allport, 1954; Pettigrew and Tropp, 2006). Forming partnerships across strongly demarcated lines constitutes a critical step in repairing social fractures (Williams, 2002; Hogg, 2016). In the aftermath of a sensitive or controversial event that heightens regional identities, reconciliation is therefore revealed in the decision to co-author, team up, or co-fund projects with out-group members.\n",
    "\n",
    "Notable aspects of reconciliation include:\n",
    "\n",
    "\t•\tBridge-building. Reconciliation involves engaging with the “other side” (or the other group) to find areas of harmony, camaraderie, or collaboration.\n",
    "\n",
    "\t•\tAddressing tension. While some individuals may consciously pursue reconciliation to heal rifts, others may find it easier or more rewarding to keep working relationships amicable and supportive, effectively bringing about reconciliation without an explicit agenda.\n",
    "\n",
    "\t•\tNot necessarily a public gesture. Reconciliation can happen organically within small networks or lab groups rather than as a grand gesture intended for outsiders. The essence is a willingness to settle disputes or look past them, often through genuine personal connections, co-creation of knowledge, or shared problem-solving.\n",
    "\n",
    "Current Empirical Operationalization\n",
    "We capture reconciliation by measuring shifts in cross-regional-identity collaborations such as co-authorship or cooperative outputs. We compare the degree of mixed-group teamwork before and after a politically or socially salient event. If reconciliation occurs, we expect a notable uptick in cross-group teams in the post-event period. Under this conception, reconciliation is about pursuing initiatives with colleagues from the potential “other” group. \n",
    "\n",
    "Some Ideas for Website Cues\n",
    "\t•\tHighlighted cross-group projects: Prominent listings of collaborations or joint grants with colleagues from different regions or groups, especially if such partnerships increased after a tense event.\n",
    "\n",
    "\t•\tPositive, unifying language: Use of phrases like “joint efforts,” “bridging boundaries,” or “collaborating across diverse backgrounds” to signal inclusive outreach.\n",
    "\n",
    "\t•\tEvidence of Outreach or Shared Initiatives: References to committees, workshops, or labs intentionally bringing together representatives from once-separate groups or institutions, pointing to purposeful relationship-building.\n",
    "\n",
    "For example, we could measure (1) explicit bridging language emphasizing overlap or synergy among distinct groups (e.g., “Collaborating with Chinese and Hong Kong colleagues,” “Bringing together diverse perspectives”), or (2) inclusion of multiple affiliations that span different regions, signifying a shared identity beyond local boundaries.\n",
    "\n",
    "We could also measure indirect clues, such as (3) mentions of cross-regional projects, committee memberships, or alliances, etc.\n",
    "\n",
    "We could also measure researchers’ behavioral/social orientations (such as cooperative versus individualistic, etc.), although this may be seen as a more indirect measure/a substantial assumption about their behavioral tendencies. \n",
    "\n",
    "Your job is to figure out what these sort of these are there when looking at documents. Look closely at the words being used - small differences in language and workings can indicate a significant difference in mindset. Analyze the document critically.\n",
    "\n",
    "Think step by step and write long, fully thought out analyses for each section to produce the most effective result possible. \n",
    "\n",
    "Here is the JSON response format that you should use to produce your analysis:\n",
    "\n",
    "{\n",
    "\"general_analysis\": \"Your general analysis of the document and the text that was produced. Highlight key concepts relating to the website queues that are important\",\n",
    "\"cross_group_thinking_ideas\": \"Your ideas when you are thinking about how the individual is talking about cross-group projects.\",\n",
    "\"cross_group_thinking_score\": \"From a scale of 1-10, how much do you think the individual is thinking about cross-group projects. 10 being very high.\",\n",
    "\"unifying_language_ideas\": \"Your ideas when you are thinking about how the individual is using unifying language.\",\n",
    "\"unifying_language_score\": \"From a scale of 1-10, how much do you think the individual is using unifying language. 10 being very high.\",\n",
    "\"shared_initiatives_outreach_ideas\": \"Your ideas when you are thinking about how the individual is talking about shared initiatives and outreach.\",\n",
    "\"shared_initiatives_outreach_score\": \"From a scale of 1-10, how much do you think the individual is talking about reconciliation. 10 being very high.\",\n",
    "}\n",
    "\"\"\"\n",
    "        }, {\n",
    "            \"role\": \"user\",\n",
    "            \"content\": text\n",
    "        }],\n",
    "        response_format={\n",
    "            \"type\": \"json_object\"\n",
    "        },\n",
    "        model=\"gpt-4o\"\n",
    "    )\n",
    "    response = json.loads(response.choices[0].message.content)\n",
    "    return response\n"
   ]
  },
  {
   "cell_type": "code",
   "execution_count": null,
   "metadata": {},
   "outputs": [
    {
     "name": "stderr",
     "output_type": "stream",
     "text": [
      "  1%|          | 2/164 [00:11<15:00,  5.56s/it]"
     ]
    },
    {
     "data": {
      "text/html": [
       "<pre style=\"white-space:pre;overflow-x:auto;line-height:normal;font-family:Menlo,'DejaVu Sans Mono',consolas,'Courier New',monospace\">Error processing row: Expecting <span style=\"color: #008000; text-decoration-color: #008000\">':'</span> delimiter: line <span style=\"color: #008080; text-decoration-color: #008080; font-weight: bold\">151</span> column <span style=\"color: #008080; text-decoration-color: #008080; font-weight: bold\">547</span> <span style=\"font-weight: bold\">(</span>char <span style=\"color: #008080; text-decoration-color: #008080; font-weight: bold\">58651</span><span style=\"font-weight: bold\">)</span>\n",
       "</pre>\n"
      ],
      "text/plain": [
       "Error processing row: Expecting \u001b[32m':'\u001b[0m delimiter: line \u001b[1;36m151\u001b[0m column \u001b[1;36m547\u001b[0m \u001b[1m(\u001b[0mchar \u001b[1;36m58651\u001b[0m\u001b[1m)\u001b[0m\n"
      ]
     },
     "metadata": {},
     "output_type": "display_data"
    },
    {
     "name": "stderr",
     "output_type": "stream",
     "text": [
      "  5%|▍         | 8/164 [06:12<2:12:57, 51.14s/it]"
     ]
    },
    {
     "data": {
      "text/html": [
       "<pre style=\"white-space:pre;overflow-x:auto;line-height:normal;font-family:Menlo,'DejaVu Sans Mono',consolas,'Courier New',monospace\">Error processing row: Expecting <span style=\"color: #008000; text-decoration-color: #008000\">':'</span> delimiter: line <span style=\"color: #008080; text-decoration-color: #008080; font-weight: bold\">27184</span> column <span style=\"color: #008080; text-decoration-color: #008080; font-weight: bold\">1</span> <span style=\"font-weight: bold\">(</span>char <span style=\"color: #008080; text-decoration-color: #008080; font-weight: bold\">61430</span><span style=\"font-weight: bold\">)</span>\n",
       "</pre>\n"
      ],
      "text/plain": [
       "Error processing row: Expecting \u001b[32m':'\u001b[0m delimiter: line \u001b[1;36m27184\u001b[0m column \u001b[1;36m1\u001b[0m \u001b[1m(\u001b[0mchar \u001b[1;36m61430\u001b[0m\u001b[1m)\u001b[0m\n"
      ]
     },
     "metadata": {},
     "output_type": "display_data"
    },
    {
     "name": "stderr",
     "output_type": "stream",
     "text": [
      " 10%|█         | 17/164 [06:58<53:02, 21.65s/it] "
     ]
    },
    {
     "data": {
      "text/html": [
       "<pre style=\"white-space:pre;overflow-x:auto;line-height:normal;font-family:Menlo,'DejaVu Sans Mono',consolas,'Courier New',monospace\">Error processing row: Expecting <span style=\"color: #008000; text-decoration-color: #008000\">':'</span> delimiter: line <span style=\"color: #008080; text-decoration-color: #008080; font-weight: bold\">10827</span> column <span style=\"color: #008080; text-decoration-color: #008080; font-weight: bold\">1</span> <span style=\"font-weight: bold\">(</span>char <span style=\"color: #008080; text-decoration-color: #008080; font-weight: bold\">40145</span><span style=\"font-weight: bold\">)</span>\n",
       "</pre>\n"
      ],
      "text/plain": [
       "Error processing row: Expecting \u001b[32m':'\u001b[0m delimiter: line \u001b[1;36m10827\u001b[0m column \u001b[1;36m1\u001b[0m \u001b[1m(\u001b[0mchar \u001b[1;36m40145\u001b[0m\u001b[1m)\u001b[0m\n"
      ]
     },
     "metadata": {},
     "output_type": "display_data"
    },
    {
     "name": "stderr",
     "output_type": "stream",
     "text": [
      " 14%|█▍        | 23/164 [07:09<33:07, 14.09s/it]"
     ]
    },
    {
     "data": {
      "text/html": [
       "<pre style=\"white-space:pre;overflow-x:auto;line-height:normal;font-family:Menlo,'DejaVu Sans Mono',consolas,'Courier New',monospace\">Error processing row: Expecting <span style=\"color: #008000; text-decoration-color: #008000\">':'</span> delimiter: line <span style=\"color: #008080; text-decoration-color: #008080; font-weight: bold\">1240</span> column <span style=\"color: #008080; text-decoration-color: #008080; font-weight: bold\">1</span> <span style=\"font-weight: bold\">(</span>char <span style=\"color: #008080; text-decoration-color: #008080; font-weight: bold\">43229</span><span style=\"font-weight: bold\">)</span>\n",
       "</pre>\n"
      ],
      "text/plain": [
       "Error processing row: Expecting \u001b[32m':'\u001b[0m delimiter: line \u001b[1;36m1240\u001b[0m column \u001b[1;36m1\u001b[0m \u001b[1m(\u001b[0mchar \u001b[1;36m43229\u001b[0m\u001b[1m)\u001b[0m\n"
      ]
     },
     "metadata": {},
     "output_type": "display_data"
    },
    {
     "name": "stderr",
     "output_type": "stream",
     "text": [
      " 67%|██████▋   | 110/164 [08:31<02:11,  2.43s/it]"
     ]
    },
    {
     "data": {
      "text/html": [
       "<pre style=\"white-space:pre;overflow-x:auto;line-height:normal;font-family:Menlo,'DejaVu Sans Mono',consolas,'Courier New',monospace\">Error processing row: Error code: <span style=\"color: #008080; text-decoration-color: #008080; font-weight: bold\">400</span> - <span style=\"font-weight: bold\">{</span><span style=\"color: #008000; text-decoration-color: #008000\">'error'</span>: <span style=\"font-weight: bold\">{</span><span style=\"color: #008000; text-decoration-color: #008000\">'message'</span>: <span style=\"color: #008000; text-decoration-color: #008000\">\"We could not parse the JSON body of your request. </span>\n",
       "<span style=\"color: #008000; text-decoration-color: #008000\">(HINT: This likely means you aren't using your HTTP library correctly. The OpenAI API expects a JSON payload, but </span>\n",
       "<span style=\"color: #008000; text-decoration-color: #008000\">what was sent was not valid JSON. If you have trouble figuring out how to fix this, please contact us through our </span>\n",
       "<span style=\"color: #008000; text-decoration-color: #008000\">help center at help.openai.com.)\"</span>, <span style=\"color: #008000; text-decoration-color: #008000\">'type'</span>: <span style=\"color: #008000; text-decoration-color: #008000\">'invalid_request_error'</span>, <span style=\"color: #008000; text-decoration-color: #008000\">'param'</span>: <span style=\"color: #800080; text-decoration-color: #800080; font-style: italic\">None</span>, <span style=\"color: #008000; text-decoration-color: #008000\">'code'</span>: <span style=\"color: #800080; text-decoration-color: #800080; font-style: italic\">None</span><span style=\"font-weight: bold\">}}</span>\n",
       "</pre>\n"
      ],
      "text/plain": [
       "Error processing row: Error code: \u001b[1;36m400\u001b[0m - \u001b[1m{\u001b[0m\u001b[32m'error'\u001b[0m: \u001b[1m{\u001b[0m\u001b[32m'message'\u001b[0m: \u001b[32m\"We could not parse the JSON body of your request. \u001b[0m\n",
       "\u001b[32m(\u001b[0m\u001b[32mHINT: This likely means you aren't using your HTTP library correctly. The OpenAI API expects a JSON payload, but \u001b[0m\n",
       "\u001b[32mwhat was sent was not valid JSON. If you have trouble figuring out how to fix this, please contact us through our \u001b[0m\n",
       "\u001b[32mhelp center at help.openai.com.\u001b[0m\u001b[32m)\u001b[0m\u001b[32m\"\u001b[0m, \u001b[32m'type'\u001b[0m: \u001b[32m'invalid_request_error'\u001b[0m, \u001b[32m'param'\u001b[0m: \u001b[3;35mNone\u001b[0m, \u001b[32m'code'\u001b[0m: \u001b[3;35mNone\u001b[0m\u001b[1m}\u001b[0m\u001b[1m}\u001b[0m\n"
      ]
     },
     "metadata": {},
     "output_type": "display_data"
    },
    {
     "data": {
      "text/html": [
       "<pre style=\"white-space:pre;overflow-x:auto;line-height:normal;font-family:Menlo,'DejaVu Sans Mono',consolas,'Courier New',monospace\">Error processing row: Error code: <span style=\"color: #008080; text-decoration-color: #008080; font-weight: bold\">400</span> - <span style=\"font-weight: bold\">{</span><span style=\"color: #008000; text-decoration-color: #008000\">'error'</span>: <span style=\"font-weight: bold\">{</span><span style=\"color: #008000; text-decoration-color: #008000\">'message'</span>: <span style=\"color: #008000; text-decoration-color: #008000\">\"We could not parse the JSON body of your request. </span>\n",
       "<span style=\"color: #008000; text-decoration-color: #008000\">(HINT: This likely means you aren't using your HTTP library correctly. The OpenAI API expects a JSON payload, but </span>\n",
       "<span style=\"color: #008000; text-decoration-color: #008000\">what was sent was not valid JSON. If you have trouble figuring out how to fix this, please contact us through our </span>\n",
       "<span style=\"color: #008000; text-decoration-color: #008000\">help center at help.openai.com.)\"</span>, <span style=\"color: #008000; text-decoration-color: #008000\">'type'</span>: <span style=\"color: #008000; text-decoration-color: #008000\">'invalid_request_error'</span>, <span style=\"color: #008000; text-decoration-color: #008000\">'param'</span>: <span style=\"color: #800080; text-decoration-color: #800080; font-style: italic\">None</span>, <span style=\"color: #008000; text-decoration-color: #008000\">'code'</span>: <span style=\"color: #800080; text-decoration-color: #800080; font-style: italic\">None</span><span style=\"font-weight: bold\">}}</span>\n",
       "</pre>\n"
      ],
      "text/plain": [
       "Error processing row: Error code: \u001b[1;36m400\u001b[0m - \u001b[1m{\u001b[0m\u001b[32m'error'\u001b[0m: \u001b[1m{\u001b[0m\u001b[32m'message'\u001b[0m: \u001b[32m\"We could not parse the JSON body of your request. \u001b[0m\n",
       "\u001b[32m(\u001b[0m\u001b[32mHINT: This likely means you aren't using your HTTP library correctly. The OpenAI API expects a JSON payload, but \u001b[0m\n",
       "\u001b[32mwhat was sent was not valid JSON. If you have trouble figuring out how to fix this, please contact us through our \u001b[0m\n",
       "\u001b[32mhelp center at help.openai.com.\u001b[0m\u001b[32m)\u001b[0m\u001b[32m\"\u001b[0m, \u001b[32m'type'\u001b[0m: \u001b[32m'invalid_request_error'\u001b[0m, \u001b[32m'param'\u001b[0m: \u001b[3;35mNone\u001b[0m, \u001b[32m'code'\u001b[0m: \u001b[3;35mNone\u001b[0m\u001b[1m}\u001b[0m\u001b[1m}\u001b[0m\n"
      ]
     },
     "metadata": {},
     "output_type": "display_data"
    },
    {
     "name": "stderr",
     "output_type": "stream",
     "text": [
      "100%|██████████| 164/164 [08:31<00:00,  3.12s/it]\n"
     ]
    }
   ],
   "source": [
    "from rich import print\n",
    "from tqdm import tqdm\n",
    "from concurrent.futures import ThreadPoolExecutor\n",
    "\n",
    "# TODO: append university profile w/ personal website text\n",
    "# TODO: make sure that results aren't correlated w/ more text (more personable because they wrote more) \n",
    "\n",
    "researcher_profile = []\n",
    "def process_row(row):\n",
    "    text = row['Personal Website']\n",
    "    if len(text.strip()) == 0:\n",
    "        return {\n",
    "            \"name\": row[\"Name\"],\n",
    "            \"error\": \"No text found\"\n",
    "        }\n",
    "    response = process_homepage_text(text)\n",
    "    response[\"name\"] = row['Name']\n",
    "    return response\n",
    "\n",
    "max_threads = 10  # Set the maximum number of threads\n",
    "\n",
    "with ThreadPoolExecutor(max_workers=max_threads) as executor:\n",
    "    futures = [executor.submit(process_row, row) for index, row in df.iterrows()]\n",
    "    for future in tqdm(futures):\n",
    "        try:\n",
    "            response = future.result()\n",
    "            researcher_profile.append(response)\n",
    "        except Exception as e:\n",
    "            print(f\"Error processing row: {e}\")"
   ]
  },
  {
   "cell_type": "code",
   "execution_count": 7,
   "metadata": {},
   "outputs": [],
   "source": [
    "with open(\"homepage_data_analyzed.json\", \"w+\") as f:\n",
    "    json.dump(researcher_profile, f)"
   ]
  },
  {
   "cell_type": "code",
   "execution_count": 8,
   "metadata": {},
   "outputs": [],
   "source": [
    "# TODO: save to 0721-month-analysis-data, save to new file"
   ]
  },
  {
   "cell_type": "code",
   "execution_count": null,
   "metadata": {},
   "outputs": [],
   "source": []
  }
 ],
 "metadata": {
  "kernelspec": {
   "display_name": "research",
   "language": "python",
   "name": "python3"
  },
  "language_info": {
   "codemirror_mode": {
    "name": "ipython",
    "version": 3
   },
   "file_extension": ".py",
   "mimetype": "text/x-python",
   "name": "python",
   "nbconvert_exporter": "python",
   "pygments_lexer": "ipython3",
   "version": "3.12.3"
  }
 },
 "nbformat": 4,
 "nbformat_minor": 2
}

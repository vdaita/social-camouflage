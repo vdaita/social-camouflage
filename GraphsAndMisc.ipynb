{
 "cells": [
  {
   "cell_type": "code",
   "execution_count": 2,
   "metadata": {},
   "outputs": [],
   "source": [
    "import pandas as pd\n",
    "import json"
   ]
  },
  {
   "cell_type": "code",
   "execution_count": 5,
   "metadata": {},
   "outputs": [],
   "source": [
    "analyzed_data = json.load(open('homepage_data_analyzed_multiple.json'))\n",
    "chunk = analyzed_data[0]\n",
    "first_response = {}\n",
    "\n",
    "for key in chunk:\n",
    "    if key.endswith(\"_0\"):\n",
    "        first_response[key.replace(\"_0\", \"\")] = chunk[key]"
   ]
  },
  {
   "cell_type": "code",
   "execution_count": null,
   "metadata": {},
   "outputs": [
    {
     "data": {
      "text/plain": [
       "{'general_analysis_gemini-flash': \"This document provides a detailed overview of Professor Albert Chung's academic and professional career. It highlights his education, awards, research interests, and administrative roles. The text emphasizes his international experience (UK, Canada, USA) and his contributions to medical image analysis, with a specific focus on improving healthcare quality in Hong Kong and other regions. The mention of the K.S. Lo Foundation and his role in establishing the Medical Image Analysis Laboratory are important cues.\",\n",
       " 'cross_group_thinking_ideas_analysis_gemini-flash': 'The document mentions his work aiming to improve healthcare in Hong Kong and other regions. This suggests a broader perspective beyond immediate local concerns. His international collaborations and conference involvement also point towards cross-group interactions. However, the primary focus seems to be on the application of his research to improve healthcare, rather than explicit reconciliation efforts.',\n",
       " 'cross_group_thinking_score_gemini-flash': '5',\n",
       " 'unifying_language_ideas_analysis_gemini-flash': 'The language used is generally professional and objective. The phrase \"interdisciplinary research aiming at creating and applying engineering techniques in the area of medical image analysis, with an ultimate goal to improving the quality of healthcare in Hong Kong and other regions\" suggests a unifying goal of improving healthcare. The mention of \\'other regions\\' is important as it shows the individual is not just focused on Hong Kong.',\n",
       " 'unifying_language_score_gemini-flash': '6',\n",
       " 'shared_initiatives_outreach_ideas_analysis_gemini-flash': 'The founding of the Lo Kwee-Seong Medical Image Analysis Laboratory with a donation from a Hong Kong-based foundation suggests a connection to local initiatives. His involvement in international conferences (IPMI, IEEE) and editorial roles in journals indicates engagement with a broader scientific community. However, the text does not explicitly highlight efforts to bridge divides or foster reconciliation between specific groups.',\n",
       " 'shared_initiatives_outreach_score_gemini-flash': '5',\n",
       " 'importance_of_career_standing_ideas_analysis_gemini-flash': \"The document extensively lists his awards, positions, and affiliations, suggesting a high value placed on career standing and recognition within the academic community. The mentions of 'Full Professor', 'Associate Dean', 'Chair' and awards like 'Best Paper Award' and 'Best Ten Lecturers Award' all contribute to this impression.\",\n",
       " 'importance_of_career_standing_score_gemini-flash': '9',\n",
       " 'hong_kong_emphasis_ideas_analysis_gemini-flash': 'The document explicitly mentions his affiliation with HKUST and his efforts to improve healthcare in Hong Kong. The founding of the Lo Kwee-Seong Medical Image Analysis Laboratory, with a donation from a Hong Kong foundation, further emphasizes his connection to the region. However, his international experience and broader research goals also suggest a global perspective.',\n",
       " 'hong_kong_emphasis_score_gemini-flash': '7',\n",
       " 'highlighting_china_organization_ideas_analysis_gemini-flash': 'The document does not explicitly highlight connections to mainland Chinese organizations. The focus is primarily on his affiliations with HKUST, international institutions, and Hong Kong-based foundations. There is no direct mention of collaborations or partnerships with mainland Chinese entities.',\n",
       " 'highlighting_china_organization_score_gemini-flash': '1'}"
      ]
     },
     "execution_count": 6,
     "metadata": {},
     "output_type": "execute_result"
    }
   ],
   "source": []
  },
  {
   "cell_type": "code",
   "execution_count": null,
   "metadata": {},
   "outputs": [],
   "source": []
  },
  {
   "cell_type": "code",
   "execution_count": 9,
   "metadata": {},
   "outputs": [],
   "source": [
    "homepage_data = pd.read_csv(\"homepage_data.csv\")\n",
    "chung_about_us = homepage_data[\"About Us Text\"][0]"
   ]
  },
  {
   "cell_type": "code",
   "execution_count": 12,
   "metadata": {},
   "outputs": [
    {
     "name": "stdout",
     "output_type": "stream",
     "text": [
      "nan\n",
      "nan\n",
      "nan\n",
      "nan\n",
      "nan\n",
      "nan\n",
      "nan\n",
      "nan\n",
      "nan\n",
      "nan\n",
      "nan\n"
     ]
    },
    {
     "data": {
      "image/png": "[encoded data removed]",
      "text/plain": [
       "<Figure size 640x480 with 1 Axes>"
      ]
     },
     "metadata": {},
     "output_type": "display_data"
    }
   ],
   "source": [
    "import tiktoken \n",
    "\n",
    "\n",
    "enc = tiktoken.get_encoding(\"cl100k_base\")\n",
    "token_counts = []\n",
    "for index, row in homepage_data.iterrows():\n",
    "    text = row[\"About Us Text\"]\n",
    "    try:\n",
    "        token_count = len(enc.encode(text))\n",
    "    except:\n",
    "        print(text)\n",
    "        token_count = 0\n",
    "    token_counts.append(token_count)\n",
    "homepage_data['token_count'] = token_counts\n",
    "\n",
    "import matplotlib.pyplot as plt\n",
    "\n",
    "homepage_data['token_count'].hist(bins=40)\n",
    "plt.title(\"Token Count Distribution in Homepage Dataset\")\n",
    "plt.xlabel(\"Token Count\")\n",
    "plt.ylabel(\"Frequency\")\n",
    "plt.show()"
   ]
  },
  {
   "cell_type": "code",
   "execution_count": 15,
   "metadata": {},
   "outputs": [
    {
     "name": "stdout",
     "output_type": "stream",
     "text": [
      "# General Analysis\n",
      "This document provides a detailed overview of Professor Albert Chung's academic and professional career. It highlights his education, awards, research interests, and administrative roles. The text emphasizes his international experience (UK, Canada, USA) and his contributions to medical image analysis, with a specific focus on improving healthcare quality in Hong Kong and other regions. The mention of the K.S. Lo Foundation and his role in establishing the Medical Image Analysis Laboratory are important cues.\n",
      "# Cross Group Thinking Ideas Analysis\n",
      "The document mentions his work aiming to improve healthcare in Hong Kong and other regions. This suggests a broader perspective beyond immediate local concerns. His international collaborations and conference involvement also point towards cross-group interactions. However, the primary focus seems to be on the application of his research to improve healthcare, rather than explicit reconciliation efforts.\n",
      "# Cross Group Thinking Score\n",
      "5\n",
      "# Unifying Language Ideas Analysis\n",
      "The language used is generally professional and objective. The phrase \"interdisciplinary research aiming at creating and applying engineering techniques in the area of medical image analysis, with an ultimate goal to improving the quality of healthcare in Hong Kong and other regions\" suggests a unifying goal of improving healthcare. The mention of 'other regions' is important as it shows the individual is not just focused on Hong Kong.\n",
      "# Unifying Language Score\n",
      "6\n",
      "# Shared Initiatives Outreach Ideas Analysis\n",
      "The founding of the Lo Kwee-Seong Medical Image Analysis Laboratory with a donation from a Hong Kong-based foundation suggests a connection to local initiatives. His involvement in international conferences (IPMI, IEEE) and editorial roles in journals indicates engagement with a broader scientific community. However, the text does not explicitly highlight efforts to bridge divides or foster reconciliation between specific groups.\n",
      "# Shared Initiatives Outreach Score\n",
      "5\n",
      "# Importance Of Career Standing Ideas Analysis\n",
      "The document extensively lists his awards, positions, and affiliations, suggesting a high value placed on career standing and recognition within the academic community. The mentions of 'Full Professor', 'Associate Dean', 'Chair' and awards like 'Best Paper Award' and 'Best Ten Lecturers Award' all contribute to this impression.\n",
      "# Importance Of Career Standing Score\n",
      "9\n",
      "# Hong Kong Emphasis Ideas Analysis\n",
      "The document explicitly mentions his affiliation with HKUST and his efforts to improve healthcare in Hong Kong. The founding of the Lo Kwee-Seong Medical Image Analysis Laboratory, with a donation from a Hong Kong foundation, further emphasizes his connection to the region. However, his international experience and broader research goals also suggest a global perspective.\n",
      "# Hong Kong Emphasis Score\n",
      "7\n",
      "# Highlighting China Organization Ideas Analysis\n",
      "The document does not explicitly highlight connections to mainland Chinese organizations. The focus is primarily on his affiliations with HKUST, international institutions, and Hong Kong-based foundations. There is no direct mention of collaborations or partnerships with mainland Chinese entities.\n",
      "# Highlighting China Organization Score\n",
      "1\n"
     ]
    }
   ],
   "source": [
    "for ele in first_response:\n",
    "    key = ele.replace(\"_gemini-flash\", \"\")\n",
    "    key = key.replace(\"_\", \" \")\n",
    "    key = key.title()\n",
    "    print(f\"# {key}\")\n",
    "    print(first_response[ele])"
   ]
  },
  {
   "cell_type": "code",
   "execution_count": 17,
   "metadata": {},
   "outputs": [
    {
     "name": "stdout",
     "output_type": "stream",
     "text": [
      "Albert Chung is a Full Professor at the Department of Computer Science and Engineering, The Hong Kong University of Science and Technology (HKUST).\n",
      "\n",
      "Professor Chung received his BEngg degree (First-Class Honors) in Computer Engineering from the University of Hong Kong in 1995. He was an exchange student at the University of British Columbia, Canada from 1992-93 with the Cathay Pacific Visiting Student Award. He obtained his M.Phil. degree in Computer Science in 1998 at HKUST. He joined the Medical Vision Laboratory, Robotics Research Group at the University of Oxford, UK as a doctoral research student in 1998, and graduated in 2001 with DPhil degree in Engineering Science. Prof. Chung was a Croucher scholar (1998 - 2001) with the Croucher Foundation Scholarship.\n",
      "\n",
      "He joined HKUST as an Assistant Professor after obtaining his DPhil at Oxford in 2001. He was a visiting scientist at the Artificial Intelligence Laboratory, Massachusetts Institute of Technology, USA (Sept 2001 - Feb 2002). He worked at the Department of Computer Science, University of Exeter, United Kingdom as the Chair in Artificial Intelligence from Jan 2022 - Aug 2023.\n",
      "\n",
      "Professor Chung was awarded the British Machine Vision Association Sullivan Thesis Award for the best doctoral thesis submitted to a United Kingdom university in the field of computer vision or natural vision in 2002; and two Best Paper Awards with his former PhD students in MIAR'16 (Dr. Qiang Zhang) and DLMIA'15 (Dr. Siqi Bao). His work on image registration with his former PhD student (Dr. Tony Mok) was awarded first place in image registration challenges in 2020 and 2021 and the brain tumor sequence registration challenge in 2022. He received the Best Ten Lecturers Award at HKUST in 2010; Best Teaching Award for MSc Program in Information Technology in 2018; and Best Teaching Award for MSc Program in Big Data Technology in 2018.\n",
      "\n",
      "He founded the Lo Kwee-Seong Medical Image Analysis Laboratory in 2005 with a generous donation from the K.S. Lo Foundation, Hong Kong. The laboratory focuses on interdisciplinary research aiming at creating and applying engineering techniques in the area of medical image analysis, with an ultimate goal to improving the quality of healthcare in Hong Kong and other regions.\n",
      "\n",
      "He co-chaired and hosted the international conference on Information Processing in Medical Imaging in 2019 and served as the Chair of the IPMI conference board (2019-2021). He was the tutorial chair for the IEEE International Symposium on Biomedical Imaging in 2019. He is serving as one of the Editorial Board members for the Medical Image Analysis Journal and the Journal of Computerized Medical Imaging and Graphics.\n",
      "\n",
      "He was the director of the Computer Engineering Undergraduate Program, HKUST, 2010-2012 (Associate director, 2008-2010); a member of the Bioengineering Programme committee, Department of Chemical and Biological Engineering, HKUST, 2011 - 2021; Associate Head, Department of Computer Science and Engineering, HKUST, 2016 - 2019; Associate Dean of Engineering (Undergraduate Studies), School of Engineering, HKUST, Jan 2020 - Dec 2021.\n",
      "\n",
      "His research interests are at the intersections of medical image analysis, image processing, computer vision, and medical imaging. His research focus is to create and apply computational and engineering techniques in medical image analysis, particularly image segmentation and image registration, and the ultimate goal is to improve the quality of healthcare services.\n"
     ]
    }
   ],
   "source": [
    "print(chung_about_us)"
   ]
  },
  {
   "cell_type": "code",
   "execution_count": null,
   "metadata": {},
   "outputs": [],
   "source": []
  }
 ],
 "metadata": {
  "kernelspec": {
   "display_name": "research",
   "language": "python",
   "name": "python3"
  },
  "language_info": {
   "codemirror_mode": {
    "name": "ipython",
    "version": 3
   },
   "file_extension": ".py",
   "mimetype": "text/x-python",
   "name": "python",
   "nbconvert_exporter": "python",
   "pygments_lexer": "ipython3",
   "version": "3.12.3"
  }
 },
 "nbformat": 4,
 "nbformat_minor": 2
}

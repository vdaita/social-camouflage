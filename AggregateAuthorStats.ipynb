{
 "cells": [
  {
   "cell_type": "code",
   "execution_count": 16,
   "metadata": {},
   "outputs": [
    {
     "name": "stderr",
     "output_type": "stream",
     "text": [
      "/var/folders/rw/s7c9z30x7fj_2gcngv0yhv6w0000gn/T/ipykernel_93322/1219715837.py:4: DtypeWarning: Columns (12,21,22,24,33,34) have mixed types. Specify dtype option on import or set low_memory=False.\n",
      "  paper_stats_publication_classified = pd.read_csv(\"data/0510-citation-pub-data-publication-classified.csv\")\n",
      "/var/folders/rw/s7c9z30x7fj_2gcngv0yhv6w0000gn/T/ipykernel_93322/1219715837.py:5: DtypeWarning: Columns (12,21,22,24,33,34) have mixed types. Specify dtype option on import or set low_memory=False.\n",
      "  paper_stats_speaker_order = pd.read_csv(\"data/0510-citation-pub-data-speaker-order-absolute.csv\")\n"
     ]
    }
   ],
   "source": [
    "import pandas as pd\n",
    "from tqdm import tqdm\n",
    "\n",
    "paper_stats_publication_classified = pd.read_csv(\"data/0510-citation-pub-data-publication-classified.csv\")\n",
    "paper_stats_speaker_order = pd.read_csv(\"data/0510-citation-pub-data-speaker-order-absolute.csv\")\n",
    "\n",
    "author_stats = pd.read_csv(\"data/0721-month-analysis-data-merged-joined-15.csv\")"
   ]
  },
  {
   "cell_type": "code",
   "execution_count": 17,
   "metadata": {},
   "outputs": [
    {
     "name": "stdout",
     "output_type": "stream",
     "text": [
      "Author stats:  (36973, 50)\n"
     ]
    }
   ],
   "source": [
    "print(\"Author stats: \", author_stats.shape)"
   ]
  },
  {
   "cell_type": "code",
   "execution_count": 2,
   "metadata": {},
   "outputs": [
    {
     "name": "stdout",
     "output_type": "stream",
     "text": [
      "Paper stats original:  ['Researcher of Interest', 'Researcher Cleaned Name', 'Researcher Cleaned Classification']\n"
     ]
    }
   ],
   "source": [
    "# Merge the dataframes column-wise, avoiding duplicate columns\n",
    "paper_stats = pd.concat([paper_stats_publication_classified, paper_stats_speaker_order.loc[:, ~paper_stats_speaker_order.columns.isin(paper_stats_publication_classified.columns)]], axis=1)\n",
    "\n",
    "# Display the merged dataframe\n",
    "print(\"Paper stats original: \", [col for col in list(paper_stats.columns) if \"Researcher\" in col])"
   ]
  },
  {
   "cell_type": "code",
   "execution_count": 3,
   "metadata": {},
   "outputs": [],
   "source": [
    "from rapidfuzz.process import extractOne\n",
    "\n",
    "author_authors = author_stats[\"Researcher Cleaned Name\"].unique()\n",
    "paper_authors = paper_stats[\"Researcher of Interest\"].unique()\n",
    "author_map = {}\n",
    "\n",
    "for paper_author in paper_authors:\n",
    "    author_map[paper_author] = extractOne(paper_author, author_authors)[0]\n",
    "\n",
    "paper_stats[\"Researcher of Interest Mapped\"] = paper_stats[\"Researcher of Interest\"].map(author_map)\n"
   ]
  },
  {
   "cell_type": "code",
   "execution_count": 4,
   "metadata": {},
   "outputs": [
    {
     "name": "stdout",
     "output_type": "stream",
     "text": [
      "Paper stats columns:  ['Researcher of Interest', 'Researcher Cleaned Name', 'Researcher Cleaned Classification', 'Researcher of Interest Mapped']\n",
      "Author stats columns:  ['Researcher Cleaned Name', 'Researcher Classification']\n"
     ]
    }
   ],
   "source": [
    "print(\"Paper stats columns: \", [col for col in list(paper_stats.columns) if \"Researcher\" in col])\n",
    "print(\"Author stats columns: \", [col for col in list(author_stats.columns) if \"Researcher\" in col])"
   ]
  },
  {
   "cell_type": "code",
   "execution_count": 5,
   "metadata": {},
   "outputs": [
    {
     "name": "stdout",
     "output_type": "stream",
     "text": [
      "Author stats:  (36973, 50)\n"
     ]
    }
   ],
   "source": [
    "print(\"Author stats: \", author_stats.shape)"
   ]
  },
  {
   "cell_type": "code",
   "execution_count": 6,
   "metadata": {},
   "outputs": [
    {
     "name": "stdout",
     "output_type": "stream",
     "text": [
      "Paper months stats:  month\n",
      "6.0     7595\n",
      "10.0    7114\n",
      "5.0     6944\n",
      "12.0    6771\n",
      "7.0     6264\n",
      "11.0    6079\n",
      "9.0     5951\n",
      "1.0     5757\n",
      "4.0     5606\n",
      "8.0     5498\n",
      "3.0     5322\n",
      "2.0     3808\n",
      "Name: count, dtype: int64\n",
      "NaN month counts:  27155\n",
      "Not NaN month counts:  72709\n"
     ]
    }
   ],
   "source": [
    "print(\"Paper months stats: \", paper_stats[\"month\"].value_counts())\n",
    "print(\"NaN month counts: \", paper_stats[\"month\"].isna().sum())\n",
    "print(\"Not NaN month counts: \", paper_stats[\"month\"].notna().sum())"
   ]
  },
  {
   "cell_type": "code",
   "execution_count": 7,
   "metadata": {},
   "outputs": [
    {
     "name": "stdout",
     "output_type": "stream",
     "text": [
      "Merged columns:  ['Researcher Cleaned Name_x', 'year', 'month', 'num_sg_mean', 'num_sg_error', 'num_hk_mean', 'num_hk_error', 'num_ml_mean', 'num_ml_error', 'num_other_mean', 'num_other_error', 'teamsize_mean', 'teamsize_error', 'prop_sg_mean', 'prop_sg_error', 'prop_hk_mean', 'prop_hk_error', 'prop_ml_mean', 'prop_ml_error', 'prop_other_mean', 'prop_other_error', 'total_citations_mean', 'total_citations_error', 'Name', 'Researcher Classification', 'Left after 2014', 'PhD Location', 'Master Location', 'Bachelor Location', 'Leaving Region', 'Join Year', 'Join Month', 'PhD Year', 'Master Year', 'Bachelor Year', 'Department', 'Title', 'First Year', 'Leaving Year', 'Leaving Month', 'Academic Age', 'Pre-2014 School', 'Post Event', 'Pre-2014 Region', 'Number of Publications', 'name_0', 'name_1', 'name_2', 'total_reconciliation_score', 'total_camouflage_score', 'Researcher of Interest', 'School', 'Publication Link', 'Authors', 'Publication date', 'Journal', 'Volume', 'Pages', 'Publisher', 'Description', 'Scholar articles', 'Author List', 'Cleaned Date', 'Conference', 'Issue', 'Total citations', 'Book', 'Source', 'Inventors', 'Inventor List', 'Patent office', 'Patent number', 'Application number', 'Institution', 'Report number', 'day', 'teamsize', 'num_sg', 'num_hk', 'num_ml', 'num_other', 'is_paper', 'is_patent', 'researcher_class', 'prop_sg', 'prop_hk', 'prop_ml', 'prop_other', 'Researcher Cleaned Name_y', 'Researcher Cleaned Classification', 'Citations 1898', 'Citations 1950', 'Citations 1952', 'Citations 1954', 'Citations 1955', 'Citations 1956', 'Citations 1957', 'Citations 1958', 'Citations 1959', 'Citations 1960', 'Citations 1961', 'Citations 1962', 'Citations 1963', 'Citations 1964', 'Citations 1965', 'Citations 1966', 'Citations 1967', 'Citations 1968', 'Citations 1969', 'Citations 1970', 'Citations 1971', 'Citations 1972', 'Citations 1973', 'Citations 1974', 'Citations 1975', 'Citations 1976', 'Citations 1977', 'Citations 1978', 'Citations 1979', 'Citations 1980', 'Citations 1981', 'Citations 1982', 'Citations 1983', 'Citations 1984', 'Citations 1985', 'Citations 1986', 'Citations 1987', 'Citations 1988', 'Citations 1989', 'Citations 1990', 'Citations 1991', 'Citations 1992', 'Citations 1993', 'Citations 1994', 'Citations 1995', 'Citations 1996', 'Citations 1997', 'Citations 1998', 'Citations 1999', 'Citations 2000', 'Citations 2001', 'Citations 2002', 'Citations 2003', 'Citations 2004', 'Citations 2005', 'Citations 2006', 'Citations 2007', 'Citations 2008', 'Citations 2009', 'Citations 2010', 'Citations 2011', 'Citations 2012', 'Citations 2013', 'Citations 2014', 'Citations 2015', 'Citations 2016', 'Citations 2017', 'Citations 2018', 'Citations 2019', 'Citations 2020', 'Citations 2021', 'Citations 2022', 'Citations 2023', 'Citations 2024', 'Total Citation Count', 'publication_type', 'Speaker Rank', 'Speaker Rank Absolute', 'Researcher of Interest Mapped']\n"
     ]
    },
    {
     "name": "stderr",
     "output_type": "stream",
     "text": [
      "/var/folders/rw/s7c9z30x7fj_2gcngv0yhv6w0000gn/T/ipykernel_93322/1331099285.py:42: DeprecationWarning: DataFrameGroupBy.apply operated on the grouping columns. This behavior is deprecated, and in a future version of pandas the grouping columns will be excluded from the operation. Either pass `include_groups=False` to exclude the groupings or explicitly select the grouping columns after groupby to silence this warning.\n",
      "  stats[f\"{pub_type}_count\"] = grouped.apply(\n",
      "/var/folders/rw/s7c9z30x7fj_2gcngv0yhv6w0000gn/T/ipykernel_93322/1331099285.py:42: DeprecationWarning: DataFrameGroupBy.apply operated on the grouping columns. This behavior is deprecated, and in a future version of pandas the grouping columns will be excluded from the operation. Either pass `include_groups=False` to exclude the groupings or explicitly select the grouping columns after groupby to silence this warning.\n",
      "  stats[f\"{pub_type}_count\"] = grouped.apply(\n",
      "/var/folders/rw/s7c9z30x7fj_2gcngv0yhv6w0000gn/T/ipykernel_93322/1331099285.py:42: DeprecationWarning: DataFrameGroupBy.apply operated on the grouping columns. This behavior is deprecated, and in a future version of pandas the grouping columns will be excluded from the operation. Either pass `include_groups=False` to exclude the groupings or explicitly select the grouping columns after groupby to silence this warning.\n",
      "  stats[f\"{pub_type}_count\"] = grouped.apply(\n",
      "/var/folders/rw/s7c9z30x7fj_2gcngv0yhv6w0000gn/T/ipykernel_93322/1331099285.py:42: DeprecationWarning: DataFrameGroupBy.apply operated on the grouping columns. This behavior is deprecated, and in a future version of pandas the grouping columns will be excluded from the operation. Either pass `include_groups=False` to exclude the groupings or explicitly select the grouping columns after groupby to silence this warning.\n",
      "  stats[f\"{pub_type}_count\"] = grouped.apply(\n",
      "/var/folders/rw/s7c9z30x7fj_2gcngv0yhv6w0000gn/T/ipykernel_93322/1331099285.py:42: DeprecationWarning: DataFrameGroupBy.apply operated on the grouping columns. This behavior is deprecated, and in a future version of pandas the grouping columns will be excluded from the operation. Either pass `include_groups=False` to exclude the groupings or explicitly select the grouping columns after groupby to silence this warning.\n",
      "  stats[f\"{pub_type}_count\"] = grouped.apply(\n",
      "/var/folders/rw/s7c9z30x7fj_2gcngv0yhv6w0000gn/T/ipykernel_93322/1331099285.py:42: DeprecationWarning: DataFrameGroupBy.apply operated on the grouping columns. This behavior is deprecated, and in a future version of pandas the grouping columns will be excluded from the operation. Either pass `include_groups=False` to exclude the groupings or explicitly select the grouping columns after groupby to silence this warning.\n",
      "  stats[f\"{pub_type}_count\"] = grouped.apply(\n",
      "/var/folders/rw/s7c9z30x7fj_2gcngv0yhv6w0000gn/T/ipykernel_93322/1331099285.py:42: DeprecationWarning: DataFrameGroupBy.apply operated on the grouping columns. This behavior is deprecated, and in a future version of pandas the grouping columns will be excluded from the operation. Either pass `include_groups=False` to exclude the groupings or explicitly select the grouping columns after groupby to silence this warning.\n",
      "  stats[f\"{pub_type}_count\"] = grouped.apply(\n"
     ]
    }
   ],
   "source": [
    "import pandas as pd\n",
    "from tqdm import tqdm\n",
    "\n",
    "# Ensure tqdm works well with pandas apply for better progress tracking\n",
    "tqdm.pandas()\n",
    "\n",
    "pub_types = paper_stats[\"publication_type\"].unique()\n",
    "\n",
    "# Join the dataframes on \"Researcher Cleaned Name\", \"year\", and \"month\"\n",
    "merged = author_stats.merge(\n",
    "    paper_stats,\n",
    "    left_on=[\"Researcher Cleaned Name\", \"year\", \"month\"],\n",
    "    right_on=[\"Researcher of Interest Mapped\", \"year\", \"month\"],\n",
    "    how=\"left\",\n",
    ")\n",
    "\n",
    "print(\"Merged columns: \", list(merged.columns))\n",
    "\n",
    "# Aggregate data for efficiency\n",
    "group_keys = [\"Researcher of Interest Mapped\", \"year\", \"month\"]\n",
    "grouped = merged.groupby(group_keys)\n",
    "\n",
    "# Calculate statistics\n",
    "stats = grouped.agg(\n",
    "    avg_speaker_rank_abs=(\"Speaker Rank Absolute\", \"mean\"),\n",
    "    avg_speaker_rank_rel=(\"Speaker Rank\", \"mean\"),\n",
    "    first_author_count=(\"Speaker Rank Absolute\", lambda x: (x == 1).sum()),\n",
    "    last_author_count=(\"Speaker Rank\", lambda x: (x == 1).sum()),\n",
    ")\n",
    "\n",
    "# Add first_or_last_author stats\n",
    "stats[\"first_or_last_author_count\"] = (\n",
    "    stats[\"first_author_count\"] + stats[\"last_author_count\"]\n",
    ")\n",
    "\n",
    "stats[\"first_author_prop\"] = stats[\"first_author_count\"] / grouped.size()\n",
    "stats[\"last_author_prop\"] = stats[\"last_author_count\"] / grouped.size()\n",
    "stats[\"first_or_last_author_prop\"] = stats[\"first_or_last_author_count\"] / grouped.size()\n",
    "\n",
    "# Calculate publication type counts\n",
    "for pub_type in pub_types:\n",
    "    stats[f\"{pub_type}_count\"] = grouped.apply(\n",
    "        lambda g: (g[\"publication_type\"] == pub_type).sum()\n",
    "    )\n",
    "    "
   ]
  },
  {
   "cell_type": "code",
   "execution_count": 8,
   "metadata": {},
   "outputs": [
    {
     "name": "stdout",
     "output_type": "stream",
     "text": [
      "stats columns:  ['Researcher of Interest Mapped', 'year', 'month', 'avg_speaker_rank_abs', 'avg_speaker_rank_rel', 'first_author_count', 'last_author_count', 'first_or_last_author_count', 'first_author_prop', 'last_author_prop', 'first_or_last_author_prop', 'journal_count', 'empty_journal_publisher_count', 'preprint_count', 'conference_count', 'other_count', 'institutional_count', 'book_count']\n",
      "author stats columns:  ['Researcher Cleaned Name', 'year', 'month', 'num_sg_mean', 'num_sg_error', 'num_hk_mean', 'num_hk_error', 'num_ml_mean', 'num_ml_error', 'num_other_mean', 'num_other_error', 'teamsize_mean', 'teamsize_error', 'prop_sg_mean', 'prop_sg_error', 'prop_hk_mean', 'prop_hk_error', 'prop_ml_mean', 'prop_ml_error', 'prop_other_mean', 'prop_other_error', 'total_citations_mean', 'total_citations_error', 'Name', 'Researcher Classification', 'Left after 2014', 'PhD Location', 'Master Location', 'Bachelor Location', 'Leaving Region', 'Join Year', 'Join Month', 'PhD Year', 'Master Year', 'Bachelor Year', 'Department', 'Title', 'First Year', 'Leaving Year', 'Leaving Month', 'Academic Age', 'Pre-2014 School', 'Post Event', 'Pre-2014 Region', 'Number of Publications', 'name_0', 'name_1', 'name_2', 'total_reconciliation_score', 'total_camouflage_score']\n"
     ]
    }
   ],
   "source": [
    "\n",
    "# Reset index to merge back into the original dataframe\n",
    "stats = stats.reset_index()\n",
    "print(\"stats columns: \", list(stats.columns))\n",
    "print(\"author stats columns: \", list(author_stats.columns))\n",
    "\n",
    "stats[\"Researcher Cleaned Name\"] = stats[\"Researcher of Interest Mapped\"]\n",
    "\n",
    "# Merge calculated stats back into author_stats\n",
    "author_paper_merged_stats = author_stats.merge(stats, on=[\"Researcher Cleaned Name\", \"year\", \"month\"], how=\"left\")"
   ]
  },
  {
   "cell_type": "code",
   "execution_count": 9,
   "metadata": {},
   "outputs": [
    {
     "name": "stdout",
     "output_type": "stream",
     "text": [
      "Author stats shape:  (36973, 66)\n"
     ]
    }
   ],
   "source": [
    "print(\"Author stats shape: \", author_paper_merged_stats.shape)"
   ]
  },
  {
   "cell_type": "code",
   "execution_count": 10,
   "metadata": {},
   "outputs": [
    {
     "name": "stdout",
     "output_type": "stream",
     "text": [
      "Columns:  Index(['Researcher Cleaned Name', 'year', 'month', 'num_sg_mean',\n",
      "       'num_sg_error', 'num_hk_mean', 'num_hk_error', 'num_ml_mean',\n",
      "       'num_ml_error', 'num_other_mean', 'num_other_error', 'teamsize_mean',\n",
      "       'teamsize_error', 'prop_sg_mean', 'prop_sg_error', 'prop_hk_mean',\n",
      "       'prop_hk_error', 'prop_ml_mean', 'prop_ml_error', 'prop_other_mean',\n",
      "       'prop_other_error', 'total_citations_mean', 'total_citations_error',\n",
      "       'Name', 'Researcher Classification', 'Left after 2014', 'PhD Location',\n",
      "       'Master Location', 'Bachelor Location', 'Leaving Region', 'Join Year',\n",
      "       'Join Month', 'PhD Year', 'Master Year', 'Bachelor Year', 'Department',\n",
      "       'Title', 'First Year', 'Leaving Year', 'Leaving Month', 'Academic Age',\n",
      "       'Pre-2014 School', 'Post Event', 'Pre-2014 Region',\n",
      "       'Number of Publications', 'name_0', 'name_1', 'name_2',\n",
      "       'total_reconciliation_score', 'total_camouflage_score',\n",
      "       'Researcher of Interest Mapped', 'avg_speaker_rank_abs',\n",
      "       'avg_speaker_rank_rel', 'first_author_count', 'last_author_count',\n",
      "       'first_or_last_author_count', 'first_author_prop', 'last_author_prop',\n",
      "       'first_or_last_author_prop', 'journal_count',\n",
      "       'empty_journal_publisher_count', 'preprint_count', 'conference_count',\n",
      "       'other_count', 'institutional_count', 'book_count'],\n",
      "      dtype='object')\n"
     ]
    }
   ],
   "source": [
    "if \"index\" in author_paper_merged_stats.columns:\n",
    "    del author_paper_merged_stats[\"index\"]\n",
    "print(\"Columns: \", author_paper_merged_stats.columns)\n"
   ]
  },
  {
   "cell_type": "code",
   "execution_count": 11,
   "metadata": {},
   "outputs": [
    {
     "data": {
      "image/png": "[encoded data removed]",
      "text/plain": [
       "<Figure size 1000x500 with 1 Axes>"
      ]
     },
     "metadata": {},
     "output_type": "display_data"
    },
    {
     "data": {
      "image/png": "[encoded data removed]",
      "text/plain": [
       "<Figure size 1000x500 with 1 Axes>"
      ]
     },
     "metadata": {},
     "output_type": "display_data"
    }
   ],
   "source": [
    "import matplotlib.pyplot as plt\n",
    "\n",
    "# Plot the Total Camouflage Score Distribution\n",
    "plt.figure(figsize=(10, 5))\n",
    "plt.title(\"Total Camouflage Score Distribution\")\n",
    "plt.xlabel(\"Total Camouflage Score\")\n",
    "plt.ylabel(\"Frequency\")\n",
    "author_stats[\"total_camouflage_score\"][author_stats[\"total_camouflage_score\"] > 0].hist(bins=20)\n",
    "plt.tight_layout()  # Adjust layout after adding title and labels\n",
    "plt.show()\n",
    "\n",
    "# Plot the Total Reconciliation Score Distribution\n",
    "plt.figure(figsize=(10, 5))\n",
    "plt.title(\"Total Reconciliation Score Distribution\")\n",
    "plt.xlabel(\"Total Reconciliation Score\")\n",
    "plt.ylabel(\"Frequency\")\n",
    "author_stats[\"total_reconciliation_score\"][author_stats[\"total_reconciliation_score\"] > 0].hist(bins=20)\n",
    "plt.tight_layout()  # Adjust layout after adding title and labels\n",
    "plt.show()\n"
   ]
  },
  {
   "cell_type": "code",
   "execution_count": 12,
   "metadata": {},
   "outputs": [],
   "source": [
    "author_paper_merged_stats.to_csv(\"data/0721-month-analysis-data-merged-monthly-publication-stats-2.csv\", index=False)"
   ]
  }
 ],
 "metadata": {
  "kernelspec": {
   "display_name": "research",
   "language": "python",
   "name": "python3"
  },
  "language_info": {
   "codemirror_mode": {
    "name": "ipython",
    "version": 3
   },
   "file_extension": ".py",
   "mimetype": "text/x-python",
   "name": "python",
   "nbconvert_exporter": "python",
   "pygments_lexer": "ipython3",
   "version": "3.12.3"
  }
 },
 "nbformat": 4,
 "nbformat_minor": 2
}

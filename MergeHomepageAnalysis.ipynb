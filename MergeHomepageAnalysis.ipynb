{
 "cells": [
  {
   "cell_type": "code",
   "execution_count": 3,
   "metadata": {},
   "outputs": [],
   "source": [
    "import pandas as pd\n",
    "import json\n",
    "\n",
    "df = pd.read_csv(\"data/0721-month-analysis-data.csv\")\n",
    "analyzed_homepages = pd.read_json(\"homepage_data_analyzed.json\")\n"
   ]
  },
  {
   "cell_type": "code",
   "execution_count": 10,
   "metadata": {},
   "outputs": [],
   "source": [
    "merged_df = pd.merge(df, analyzed_homepages, left_on='Researcher Cleaned Name', right_on='name', how='inner')\n",
    "merged_df.drop(columns=['name'], inplace=True)\n",
    "merged_df.to_csv(\"data/0721-month-analysis-data-merged.csv\", index=False)"
   ]
  },
  {
   "cell_type": "code",
   "execution_count": 15,
   "metadata": {},
   "outputs": [
    {
     "name": "stdout",
     "output_type": "stream",
     "text": [
      "Faculty profiles usually do not explicitly state attitudes towards risk. However, the choice of an academic career might suggest a more structured and predictable career path, indicating some level of risk-aversion.\n",
      "An academic profile generally highlights achievements and credentials rather than decision-making preferences or risk-taking behaviors.\n",
      "There is no evidence from the webpage content to determine the author's risk-taking inclinations.\n",
      "The profile does not provide direct insights into risk-taking behaviors. Academics often engage in innovative projects that require calculated risks, but this is not explicitly mentioned.\n",
      "As I cannot browse external sites, I am unable to access the content of the provided URL to evaluate Professor Chan Chee Hon's attitude toward risk.\n",
      "Without content access, there's no basis to evaluate the author's stance on risk-taking.\n",
      "The individual's professional profile does not provide insights into personal attitudes toward risk. Generally, academic research involves systematic investigation, which might suggest a methodical approach but does not directly comment on risk-taking behaviors.\n",
      "The page does not provide explicit information regarding the author's attitude towards risk-taking. Academic profiles typically don't delve into personal risk preferences.\n",
      "The profile typically would not include personal disposition towards risk, as it is more focused on professional background and achievements.\n",
      "The webpage is an academic profile and contains no statements or evidence related to Chi Ying Tsui's attitude towards risk.\n",
      "The website is not oriented towards personal opinions or risk-taking tendencies.\n",
      "There is no information or context in the URL content that indicates whether the individual takes risks or avoids them.\n",
      "The profile lists achievements and roles, indicating a successful and strategic career, but does not provide information indicating a tendency towards taking or avoiding risks.\n",
      "The link does not provide any specific content or context that notably indicates Chun Jason Xue's attitude towards risk. Academic work can involve hypothesis testing which can be perceived as safe or risky depending on how groundbreaking the work is.\n",
      "There is no personal insight into attitudes towards risk in the content provided.\n",
      "The provided link is not accessible, so no specific quotes or information about risk-aversion can be extracted.\n",
      "I am unable to comment on the risk-aversion aspect as the URL cannot be accessed to evaluate the content.\n",
      "The profile mainly lists the professional achievements and positions held by the individual, without discussing their approach to risk. There is no indication of risk-taking or avoidance in the available information.\n",
      "Based on the URL provided, there isn't any content to analyze risk-aversion.\n",
      "Without text content from the individual, it's impossible to gauge their approach to risk, which can often be seen in whether they discuss innovative projects or staying in a comfort zone.\n",
      "There is no explicit mention of risk preferences in the academic bio, but the focus on distinguished roles and affiliations may indicate a preference for stable, respected positions.\n",
      "There is no direct content on the site indicating a preference towards or against risk-taking. Academic and research accomplishments do not inherently suggest risk tendencies.\n",
      "There is no direct indication of risk preference in the professional profile. However, the emphasis on steady academic roles and achievements suggests a conventional career path, which might imply a moderate level of risk aversion.\n",
      "An academic webpage does not offer insight into personal risk preferences. Therefore, it is not possible to infer the author's risk-aversion from this information.\n",
      "The author lists established academic roles and achievements, suggesting a stable career path without any direct indication of venturing into high-risk areas.\n",
      "There is little information to directly infer Henry Xu's approach to risk. However, the structured and detailed nature of his academic and professional career might suggest a preference for established pathways.\n",
      "The webpage focuses on Jiaya Jia's academic credentials, publications, and professional contributions, without delving into personal characteristics, such as risk-taking behavior.\n",
      "The profile content from an academic webpage does not generally include personal statements about risk-taking attitudes, making it challenging to assess based on the URL alone.\n",
      "The webpage provided is not conducive to evaluating the individual's attitude towards risk.\n",
      "The pursuit of advanced degrees, participation in research, and numerous publications suggest calculated risk-taking typical in professional academia, which requires some level of risk tolerance to innovate and publish.\n",
      "The website page does not provide explicit information regarding their attitude towards risk, focusing instead on academic and professional credentials.\n",
      "Typically, faculty involved in research might exhibit some level of risk-taking given the nature of original investigations, but individual details can't be verified from the URL.\n",
      "Academic researchers often have to balance risk in research with innovation, but the specifics of this author's risk appetite cannot be determined from this page alone.\n",
      "The content does not provide any direct indication of risk-taking or risk-aversion. It focuses on established qualifications and achievements.\n",
      "Without access to specific content from the website, a specific justification cannot be determined.\n",
      "There is no explicit content on the website detailing attitudes towards risk, making it challenging to assess how risk-averse the individual may be.\n",
      "Due to lack of specific content, I cannot directly evaluate risk-taking behavior. Generally, academic professionals may demonstrate risk-taking through innovative research approaches or remaining within traditional frameworks.\n",
      "The author has undertaken a variety of academic roles and responsibilities, which might suggest a methodical approach. The content does not explicitly discuss risk-taking or avoidance, so it's challenging to accurately assess risk preference.\n",
      "Academic profiles generally emphasize expertise and accomplishments rather than personal attitudes towards risk. The source lacks explicit content about risk preferences.\n",
      "There is no direct mention of risk-taking or risk aversion on the page. However, academia can inherently involve calculated risks in research topics, though the content primarily reflects standard academic achievements, suggesting a balanced approach.\n",
      "There is no explicit information regarding risk-taking or risk-averse behavior on the webpage.\n",
      "The webpage does not provide information on risk-taking behavior. Academics may exhibit varying degrees of risk aversion, often depending on research topics and funding pursuits, but without specific information, an accurate assessment cannot be made.\n",
      "The document provides no specific indication of the author's risk tolerance, focusing instead on academic credentials and achievements.\n",
      "There is no specific information provided about risk preferences; academic paths can be risk-averse but the evidence is not present.\n",
      "No specific information about risk preferences can be inferred from a professional homepage link.\n",
      "The website's content focuses on established academic and professional credentials, suggesting a preference for conventional, proven paths in academia, possibly indicating risk-aversion.\n",
      "There is no specific information available regarding attitudes towards risk; the profile centers on professional history and academic roles.\n",
      "Webpage URLs do not provide insights regarding risk-aversion unless specific content is accessed that expresses attitudes towards risks or challenges.\n",
      "No information is available from the webpage that indicates their level of willingness to take risks as there is no narrative or statement provided.\n",
      "As there is no direct input to analyze from the given link, it’s not possible to determine risk-aversion based on the provided data.\n",
      "The biography highlights a progressive academic career with various notable achievements. There is an indication of calculated risks taken in pursuing advanced research and interdisciplinary projects, but a tendency towards detailed planning and consistent career development suggests a moderate level of risk-aversion.\n",
      "The provided URL does not contain information pertaining to an individual's approach to risk-taking.\n",
      "The academic setting and context indicate a preference for structured research and development over entrepreneurial or high-risk pursuits. Academia often involves measured risk-taking.\n",
      "As no direct citations are available regarding risk attitudes, information cannot be extracted.\n",
      "The content of the URL is not available for analysis. Academic and professional profiles typically do not provide information on a person's attitude towards risk.\n",
      "There is no explicit mention of risk-taking behaviors, such as exploring new or uncertain projects. The listing of awards and consistent academic progression implies a focus on stable career growth rather than stepping into uncertain territories.\n",
      "The content primarily outlines stable, ongoing professional roles and responsibilities without mention of entrepreneurial ventures or significant changes. This suggests a preference for structured, known paths in academic settings.\n",
      "There is no explicit mention of risk-taking or risk-aversion in the description of Dr. Sung Wing Kin’s work. The focus on research and academic achievements does not give clear indications of a propensity for risk.\n",
      "Academic and research settings tend to balance risk with evidence-based outcomes. Given the context, a slight aversion to risk can be inferred.\n",
      "Without access to the content, if the author discusses taking cautious approaches, avoiding risks, or focusing on safety and stability, it would imply risk-aversion.\n",
      "Academics tend to balance between innovative research (which involves risk) and established methods (which are safer). Without specific statements, it's difficult to ascertain the exact tendency.\n",
      "The website does not provide explicit insights into risk-taking behavior. Academic and professional backgrounds showcased may imply a stable, traditional career path, suggesting a moderate to high level of risk aversion.\n",
      "There is little information in an academic profile about risk-taking preferences; however, the focus on established positions and publications suggests a preference for stable career norms.\n",
      "Without concrete text or data to evaluate from the provided URL, it is difficult to pinpoint any risk-averse tendencies.\n",
      "As a link to a website, there is no information about personal risk preferences.\n",
      "The focus on stable academic achievements and positions in reputable institutions indicates a preference for more secure, well-established career paths, suggesting a level of risk aversion.\n",
      "There is no personal content or blog entries to assess risk-taking behavior. Academic profiles typically do not detail individual risk preferences.\n",
      "The focus on academic and research achievements suggests a preference for established paths and rigor.\n",
      "The academic setting and structured layout of the page imply a careful, methodical approach, but there's no explicit evidence pointing to a high aversion or affinity to risk.\n",
      "As an AI language model, I cannot access external URLs or websites. Therefore, I cannot evaluate the qualities based on the linked content.\n",
      "There is no direct information about risk-taking or aversion; however, a focus on conventional academic and professional achievements suggests a preference for traditional and stable career paths.\n",
      "There is no explicit reference in the profile to risk-taking behaviors or decisions, preventing a determination of risk aversion.\n",
      "There is no indication of the author's attitude towards risk on the webpage. It contains only professional and academic achievements.\n",
      "Not enough information provided in the URL to determine risk aversion.\n",
      "There is no direct content available to determine the individual's comfort with taking risks or their risk-averse nature.\n",
      "The provided URL does not contain any personal information or writing from which to judge risk-aversion.\n",
      "As an academic, evidenced by publications and research focus, Kevin Yip likely follows structured, research-oriented, and peer-reviewed methodologies which are traditionally considered risk-averse environments.\n",
      "There is no direct evidence of risk-taking or aversion, but the focus on established academic achievements suggests a tendency towards risk-aversion.\n"
     ]
    }
   ],
   "source": [
    "data = json.load(open(\"homepage_data_analyzed.json\"))\n",
    "for researcher in data:\n",
    "    print(researcher[\"risk-averse-justification\"])"
   ]
  }
 ],
 "metadata": {
  "kernelspec": {
   "display_name": "research",
   "language": "python",
   "name": "python3"
  },
  "language_info": {
   "codemirror_mode": {
    "name": "ipython",
    "version": 3
   },
   "file_extension": ".py",
   "mimetype": "text/x-python",
   "name": "python",
   "nbconvert_exporter": "python",
   "pygments_lexer": "ipython3",
   "version": "3.12.3"
  }
 },
 "nbformat": 4,
 "nbformat_minor": 2
}

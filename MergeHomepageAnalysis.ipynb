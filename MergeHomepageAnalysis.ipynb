{
 "cells": [
  {
   "cell_type": "code",
   "execution_count": 4,
   "metadata": {},
   "outputs": [],
   "source": [
    "import pandas as pd\n",
    "import json\n",
    "\n",
    "df = pd.read_csv(\"data/0721-month-analysis-data.csv\")\n",
    "analyzed_homepages = pd.read_json(\"homepage_data_analyzed_multiple.json\", encoding='utf-8')\n"
   ]
  },
  {
   "cell_type": "code",
   "execution_count": 5,
   "metadata": {},
   "outputs": [],
   "source": [
    "standard_columns = ['general_analysis', 'cross_group_thinking_ideas',\n",
    "       'cross_group_thinking_score', 'unifying_language_ideas',\n",
    "       'unifying_language_score', 'shared_initiatives_outreach_ideas',\n",
    "       'shared_initiatives_outreach_score', 'importance_of_career_standing_ideas', 'importance_of_career_standing_score', \n",
    "       'hong_kong_emphasis_ideas', 'hong_kong_emphasis_score', 'highlighting_china_organization_ideas',\n",
    "       'highlighting_china_organization_score', 'name']\n",
    "\n",
    "standard_columns = [col for col in analyzed_homepages.columns if any(col.startswith(prefix) for prefix in standard_columns)]\n",
    "\n",
    "analyzed_homepages = analyzed_homepages[standard_columns]"
   ]
  },
  {
   "cell_type": "code",
   "execution_count": 6,
   "metadata": {},
   "outputs": [
    {
     "data": {
      "text/plain": [
       "Index(['general_analysis_gemini-flash_0',\n",
       "       'cross_group_thinking_ideas_analysis_gemini-flash_0',\n",
       "       'cross_group_thinking_score_gemini-flash_0',\n",
       "       'unifying_language_ideas_analysis_gemini-flash_0',\n",
       "       'unifying_language_score_gemini-flash_0',\n",
       "       'shared_initiatives_outreach_ideas_analysis_gemini-flash_0',\n",
       "       'shared_initiatives_outreach_score_gemini-flash_0',\n",
       "       'importance_of_career_standing_ideas_analysis_gemini-flash_0',\n",
       "       'importance_of_career_standing_score_gemini-flash_0',\n",
       "       'hong_kong_emphasis_ideas_analysis_gemini-flash_0',\n",
       "       ...\n",
       "       'unifying_language_score_gemini-flash_19',\n",
       "       'shared_initiatives_outreach_ideas_analysis_gemini-flash_19',\n",
       "       'shared_initiatives_outreach_score_gemini-flash_19',\n",
       "       'importance_of_career_standing_ideas_analysis_gemini-flash_19',\n",
       "       'importance_of_career_standing_score_gemini-flash_19',\n",
       "       'hong_kong_emphasis_ideas_analysis_gemini-flash_19',\n",
       "       'hong_kong_emphasis_score_gemini-flash_19',\n",
       "       'highlighting_china_organization_ideas_analysis_gemini-flash_19',\n",
       "       'highlighting_china_organization_score_gemini-flash_19', 'name'],\n",
       "      dtype='object', length=261)"
      ]
     },
     "execution_count": 6,
     "metadata": {},
     "output_type": "execute_result"
    }
   ],
   "source": [
    "analyzed_homepages.columns"
   ]
  },
  {
   "cell_type": "code",
   "execution_count": 7,
   "metadata": {},
   "outputs": [
    {
     "name": "stderr",
     "output_type": "stream",
     "text": [
      "/var/folders/rw/s7c9z30x7fj_2gcngv0yhv6w0000gn/T/ipykernel_10110/2763243756.py:10: PerformanceWarning: DataFrame is highly fragmented.  This is usually the result of calling `frame.insert` many times, which has poor performance.  Consider joining all columns at once using pd.concat(axis=1) instead. To get a de-fragmented frame, use `newframe = frame.copy()`\n",
      "  analyzed_homepages[\"inverse_\" + col] = pd.to_numeric(analyzed_homepages[col], errors='coerce').fillna(0).astype(int)\n",
      "/var/folders/rw/s7c9z30x7fj_2gcngv0yhv6w0000gn/T/ipykernel_10110/2763243756.py:10: PerformanceWarning: DataFrame is highly fragmented.  This is usually the result of calling `frame.insert` many times, which has poor performance.  Consider joining all columns at once using pd.concat(axis=1) instead. To get a de-fragmented frame, use `newframe = frame.copy()`\n",
      "  analyzed_homepages[\"inverse_\" + col] = pd.to_numeric(analyzed_homepages[col], errors='coerce').fillna(0).astype(int)\n",
      "/var/folders/rw/s7c9z30x7fj_2gcngv0yhv6w0000gn/T/ipykernel_10110/2763243756.py:10: PerformanceWarning: DataFrame is highly fragmented.  This is usually the result of calling `frame.insert` many times, which has poor performance.  Consider joining all columns at once using pd.concat(axis=1) instead. To get a de-fragmented frame, use `newframe = frame.copy()`\n",
      "  analyzed_homepages[\"inverse_\" + col] = pd.to_numeric(analyzed_homepages[col], errors='coerce').fillna(0).astype(int)\n",
      "/var/folders/rw/s7c9z30x7fj_2gcngv0yhv6w0000gn/T/ipykernel_10110/2763243756.py:10: PerformanceWarning: DataFrame is highly fragmented.  This is usually the result of calling `frame.insert` many times, which has poor performance.  Consider joining all columns at once using pd.concat(axis=1) instead. To get a de-fragmented frame, use `newframe = frame.copy()`\n",
      "  analyzed_homepages[\"inverse_\" + col] = pd.to_numeric(analyzed_homepages[col], errors='coerce').fillna(0).astype(int)\n",
      "/var/folders/rw/s7c9z30x7fj_2gcngv0yhv6w0000gn/T/ipykernel_10110/2763243756.py:10: PerformanceWarning: DataFrame is highly fragmented.  This is usually the result of calling `frame.insert` many times, which has poor performance.  Consider joining all columns at once using pd.concat(axis=1) instead. To get a de-fragmented frame, use `newframe = frame.copy()`\n",
      "  analyzed_homepages[\"inverse_\" + col] = pd.to_numeric(analyzed_homepages[col], errors='coerce').fillna(0).astype(int)\n",
      "/var/folders/rw/s7c9z30x7fj_2gcngv0yhv6w0000gn/T/ipykernel_10110/2763243756.py:10: PerformanceWarning: DataFrame is highly fragmented.  This is usually the result of calling `frame.insert` many times, which has poor performance.  Consider joining all columns at once using pd.concat(axis=1) instead. To get a de-fragmented frame, use `newframe = frame.copy()`\n",
      "  analyzed_homepages[\"inverse_\" + col] = pd.to_numeric(analyzed_homepages[col], errors='coerce').fillna(0).astype(int)\n",
      "/var/folders/rw/s7c9z30x7fj_2gcngv0yhv6w0000gn/T/ipykernel_10110/2763243756.py:10: PerformanceWarning: DataFrame is highly fragmented.  This is usually the result of calling `frame.insert` many times, which has poor performance.  Consider joining all columns at once using pd.concat(axis=1) instead. To get a de-fragmented frame, use `newframe = frame.copy()`\n",
      "  analyzed_homepages[\"inverse_\" + col] = pd.to_numeric(analyzed_homepages[col], errors='coerce').fillna(0).astype(int)\n",
      "/var/folders/rw/s7c9z30x7fj_2gcngv0yhv6w0000gn/T/ipykernel_10110/2763243756.py:10: PerformanceWarning: DataFrame is highly fragmented.  This is usually the result of calling `frame.insert` many times, which has poor performance.  Consider joining all columns at once using pd.concat(axis=1) instead. To get a de-fragmented frame, use `newframe = frame.copy()`\n",
      "  analyzed_homepages[\"inverse_\" + col] = pd.to_numeric(analyzed_homepages[col], errors='coerce').fillna(0).astype(int)\n",
      "/var/folders/rw/s7c9z30x7fj_2gcngv0yhv6w0000gn/T/ipykernel_10110/2763243756.py:10: PerformanceWarning: DataFrame is highly fragmented.  This is usually the result of calling `frame.insert` many times, which has poor performance.  Consider joining all columns at once using pd.concat(axis=1) instead. To get a de-fragmented frame, use `newframe = frame.copy()`\n",
      "  analyzed_homepages[\"inverse_\" + col] = pd.to_numeric(analyzed_homepages[col], errors='coerce').fillna(0).astype(int)\n",
      "/var/folders/rw/s7c9z30x7fj_2gcngv0yhv6w0000gn/T/ipykernel_10110/2763243756.py:10: PerformanceWarning: DataFrame is highly fragmented.  This is usually the result of calling `frame.insert` many times, which has poor performance.  Consider joining all columns at once using pd.concat(axis=1) instead. To get a de-fragmented frame, use `newframe = frame.copy()`\n",
      "  analyzed_homepages[\"inverse_\" + col] = pd.to_numeric(analyzed_homepages[col], errors='coerce').fillna(0).astype(int)\n",
      "/var/folders/rw/s7c9z30x7fj_2gcngv0yhv6w0000gn/T/ipykernel_10110/2763243756.py:10: PerformanceWarning: DataFrame is highly fragmented.  This is usually the result of calling `frame.insert` many times, which has poor performance.  Consider joining all columns at once using pd.concat(axis=1) instead. To get a de-fragmented frame, use `newframe = frame.copy()`\n",
      "  analyzed_homepages[\"inverse_\" + col] = pd.to_numeric(analyzed_homepages[col], errors='coerce').fillna(0).astype(int)\n",
      "/var/folders/rw/s7c9z30x7fj_2gcngv0yhv6w0000gn/T/ipykernel_10110/2763243756.py:10: PerformanceWarning: DataFrame is highly fragmented.  This is usually the result of calling `frame.insert` many times, which has poor performance.  Consider joining all columns at once using pd.concat(axis=1) instead. To get a de-fragmented frame, use `newframe = frame.copy()`\n",
      "  analyzed_homepages[\"inverse_\" + col] = pd.to_numeric(analyzed_homepages[col], errors='coerce').fillna(0).astype(int)\n",
      "/var/folders/rw/s7c9z30x7fj_2gcngv0yhv6w0000gn/T/ipykernel_10110/2763243756.py:10: PerformanceWarning: DataFrame is highly fragmented.  This is usually the result of calling `frame.insert` many times, which has poor performance.  Consider joining all columns at once using pd.concat(axis=1) instead. To get a de-fragmented frame, use `newframe = frame.copy()`\n",
      "  analyzed_homepages[\"inverse_\" + col] = pd.to_numeric(analyzed_homepages[col], errors='coerce').fillna(0).astype(int)\n",
      "/var/folders/rw/s7c9z30x7fj_2gcngv0yhv6w0000gn/T/ipykernel_10110/2763243756.py:10: PerformanceWarning: DataFrame is highly fragmented.  This is usually the result of calling `frame.insert` many times, which has poor performance.  Consider joining all columns at once using pd.concat(axis=1) instead. To get a de-fragmented frame, use `newframe = frame.copy()`\n",
      "  analyzed_homepages[\"inverse_\" + col] = pd.to_numeric(analyzed_homepages[col], errors='coerce').fillna(0).astype(int)\n",
      "/var/folders/rw/s7c9z30x7fj_2gcngv0yhv6w0000gn/T/ipykernel_10110/2763243756.py:10: PerformanceWarning: DataFrame is highly fragmented.  This is usually the result of calling `frame.insert` many times, which has poor performance.  Consider joining all columns at once using pd.concat(axis=1) instead. To get a de-fragmented frame, use `newframe = frame.copy()`\n",
      "  analyzed_homepages[\"inverse_\" + col] = pd.to_numeric(analyzed_homepages[col], errors='coerce').fillna(0).astype(int)\n",
      "/var/folders/rw/s7c9z30x7fj_2gcngv0yhv6w0000gn/T/ipykernel_10110/2763243756.py:10: PerformanceWarning: DataFrame is highly fragmented.  This is usually the result of calling `frame.insert` many times, which has poor performance.  Consider joining all columns at once using pd.concat(axis=1) instead. To get a de-fragmented frame, use `newframe = frame.copy()`\n",
      "  analyzed_homepages[\"inverse_\" + col] = pd.to_numeric(analyzed_homepages[col], errors='coerce').fillna(0).astype(int)\n",
      "/var/folders/rw/s7c9z30x7fj_2gcngv0yhv6w0000gn/T/ipykernel_10110/2763243756.py:10: PerformanceWarning: DataFrame is highly fragmented.  This is usually the result of calling `frame.insert` many times, which has poor performance.  Consider joining all columns at once using pd.concat(axis=1) instead. To get a de-fragmented frame, use `newframe = frame.copy()`\n",
      "  analyzed_homepages[\"inverse_\" + col] = pd.to_numeric(analyzed_homepages[col], errors='coerce').fillna(0).astype(int)\n",
      "/var/folders/rw/s7c9z30x7fj_2gcngv0yhv6w0000gn/T/ipykernel_10110/2763243756.py:10: PerformanceWarning: DataFrame is highly fragmented.  This is usually the result of calling `frame.insert` many times, which has poor performance.  Consider joining all columns at once using pd.concat(axis=1) instead. To get a de-fragmented frame, use `newframe = frame.copy()`\n",
      "  analyzed_homepages[\"inverse_\" + col] = pd.to_numeric(analyzed_homepages[col], errors='coerce').fillna(0).astype(int)\n",
      "/var/folders/rw/s7c9z30x7fj_2gcngv0yhv6w0000gn/T/ipykernel_10110/2763243756.py:10: PerformanceWarning: DataFrame is highly fragmented.  This is usually the result of calling `frame.insert` many times, which has poor performance.  Consider joining all columns at once using pd.concat(axis=1) instead. To get a de-fragmented frame, use `newframe = frame.copy()`\n",
      "  analyzed_homepages[\"inverse_\" + col] = pd.to_numeric(analyzed_homepages[col], errors='coerce').fillna(0).astype(int)\n",
      "/var/folders/rw/s7c9z30x7fj_2gcngv0yhv6w0000gn/T/ipykernel_10110/2763243756.py:10: PerformanceWarning: DataFrame is highly fragmented.  This is usually the result of calling `frame.insert` many times, which has poor performance.  Consider joining all columns at once using pd.concat(axis=1) instead. To get a de-fragmented frame, use `newframe = frame.copy()`\n",
      "  analyzed_homepages[\"inverse_\" + col] = pd.to_numeric(analyzed_homepages[col], errors='coerce').fillna(0).astype(int)\n"
     ]
    }
   ],
   "source": [
    "score_prefixes = ['cross_group_thinking', 'unifying_language', 'shared_initiatives_outreach', 'importance_of_career_standing', 'hong_kong_emphasis', 'highlighting_china_organization']\n",
    "\n",
    "for prefix in score_prefixes:\n",
    "    score_columns = [col for col in analyzed_homepages.columns if col.startswith(prefix + '_score')]\n",
    "    for column in score_columns:\n",
    "        analyzed_homepages[column] = pd.to_numeric(analyzed_homepages[column], errors='coerce').fillna(0).astype(int)\n",
    "\n",
    "hk_columns = [col for col in analyzed_homepages.columns if col.startswith('hong_kong_emphasis_score')]\n",
    "for col in hk_columns:\n",
    "    analyzed_homepages[\"inverse_\" + col] = pd.to_numeric(analyzed_homepages[col], errors='coerce').fillna(0).astype(int)"
   ]
  },
  {
   "cell_type": "code",
   "execution_count": 8,
   "metadata": {},
   "outputs": [
    {
     "name": "stderr",
     "output_type": "stream",
     "text": [
      "/var/folders/rw/s7c9z30x7fj_2gcngv0yhv6w0000gn/T/ipykernel_10110/105256012.py:9: PerformanceWarning: DataFrame is highly fragmented.  This is usually the result of calling `frame.insert` many times, which has poor performance.  Consider joining all columns at once using pd.concat(axis=1) instead. To get a de-fragmented frame, use `newframe = frame.copy()`\n",
      "  analyzed_homepages[key] = analyzed_homepages[columns_to_convert].mean(axis=1)\n",
      "/var/folders/rw/s7c9z30x7fj_2gcngv0yhv6w0000gn/T/ipykernel_10110/105256012.py:9: PerformanceWarning: DataFrame is highly fragmented.  This is usually the result of calling `frame.insert` many times, which has poor performance.  Consider joining all columns at once using pd.concat(axis=1) instead. To get a de-fragmented frame, use `newframe = frame.copy()`\n",
      "  analyzed_homepages[key] = analyzed_homepages[columns_to_convert].mean(axis=1)\n"
     ]
    }
   ],
   "source": [
    "pooled_scores = {\n",
    "    \"total_reconciliation_score\": [col for col in analyzed_homepages.columns if any(prefix in col for prefix in ['cross_group_thinking_score', 'unifying_language_score', 'shared_initiatives_outreach_score'])],\n",
    "    \"total_camouflage_score\": [col for col in analyzed_homepages.columns if any(prefix in col for prefix in ['importance_of_career_standing_score', 'inverse_hong_kong_emphasis_score', 'highlighting_china_organization_score'])]\n",
    "}\n",
    "\n",
    "\n",
    "\n",
    "for key, columns_to_convert in pooled_scores.items():\n",
    "    analyzed_homepages[key] = analyzed_homepages[columns_to_convert].mean(axis=1)"
   ]
  },
  {
   "cell_type": "code",
   "execution_count": 9,
   "metadata": {},
   "outputs": [
    {
     "name": "stdout",
     "output_type": "stream",
     "text": [
      "Pre-2014 Region\n",
      "Hong Kong    21848\n",
      "Singapore    15125\n",
      "Name: count, dtype: int64\n"
     ]
    }
   ],
   "source": [
    "merged_df = pd.merge(df, analyzed_homepages, left_on='Researcher Cleaned Name', right_on='name', how='left')\n",
    "# merged_df.fillna(0, inplace=True)\n",
    "merged_df.drop(columns=['name'], inplace=True)\n",
    "\n",
    "print(merged_df['Pre-2014 Region'].value_counts())\n",
    "\n",
    "merged_df.to_csv(\"data/0721-month-analysis-data-merged-6.csv\", index=False)"
   ]
  },
  {
   "cell_type": "code",
   "execution_count": 10,
   "metadata": {},
   "outputs": [
    {
     "data": {
      "text/plain": [
       "Index(['Researcher Cleaned Name', 'year', 'month', 'num_sg_mean',\n",
       "       'num_sg_error', 'num_hk_mean', 'num_hk_error', 'num_ml_mean',\n",
       "       'num_ml_error', 'num_other_mean',\n",
       "       ...\n",
       "       'inverse_hong_kong_emphasis_score_gemini-flash_12',\n",
       "       'inverse_hong_kong_emphasis_score_gemini-flash_13',\n",
       "       'inverse_hong_kong_emphasis_score_gemini-flash_14',\n",
       "       'inverse_hong_kong_emphasis_score_gemini-flash_15',\n",
       "       'inverse_hong_kong_emphasis_score_gemini-flash_16',\n",
       "       'inverse_hong_kong_emphasis_score_gemini-flash_17',\n",
       "       'inverse_hong_kong_emphasis_score_gemini-flash_18',\n",
       "       'inverse_hong_kong_emphasis_score_gemini-flash_19',\n",
       "       'total_reconciliation_score', 'total_camouflage_score'],\n",
       "      dtype='object', length=327)"
      ]
     },
     "execution_count": 10,
     "metadata": {},
     "output_type": "execute_result"
    }
   ],
   "source": [
    "merged_df.columns"
   ]
  },
  {
   "cell_type": "code",
   "execution_count": 11,
   "metadata": {},
   "outputs": [
    {
     "data": {
      "image/png": "[encoded data removed]",
      "text/plain": [
       "<Figure size 1200x600 with 2 Axes>"
      ]
     },
     "metadata": {},
     "output_type": "display_data"
    }
   ],
   "source": [
    "import matplotlib.pyplot as plt\n",
    "\n",
    "fig, axs = plt.subplots(1, 2, figsize=(12, 6))\n",
    "\n",
    "axs[0].hist(merged_df['total_reconciliation_score'])\n",
    "axs[0].set_title(\"Total Reconciliation Score Distribution\")\n",
    "\n",
    "axs[1].hist(merged_df['total_camouflage_score'])\n",
    "axs[1].set_title(\"Total Camouflage Score Distribution\")\n",
    "\n",
    "plt.tight_layout()\n",
    "plt.show()"
   ]
  },
  {
   "cell_type": "code",
   "execution_count": null,
   "metadata": {},
   "outputs": [],
   "source": []
  },
  {
   "cell_type": "markdown",
   "metadata": {},
   "source": []
  }
 ],
 "metadata": {
  "kernelspec": {
   "display_name": "research",
   "language": "python",
   "name": "python3"
  },
  "language_info": {
   "codemirror_mode": {
    "name": "ipython",
    "version": 3
   },
   "file_extension": ".py",
   "mimetype": "text/x-python",
   "name": "python",
   "nbconvert_exporter": "python",
   "pygments_lexer": "ipython3",
   "version": "3.12.3"
  }
 },
 "nbformat": 4,
 "nbformat_minor": 2
}

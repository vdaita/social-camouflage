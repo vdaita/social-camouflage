{
 "cells": [
  {
   "cell_type": "code",
   "execution_count": 2,
   "metadata": {},
   "outputs": [],
   "source": [
    "import json\n",
    "\n",
    "input_file = \"homepage_data_analyzed_multiple_joined_15.json\"\n",
    "data = json.load(open(input_file, \"r\"))\n"
   ]
  },
  {
   "cell_type": "code",
   "execution_count": 3,
   "metadata": {},
   "outputs": [
    {
     "data": {
      "text/plain": [
       "dict_keys(['0', '1', '2', '3', '4', '5', '6', '7', '8', '9', '10', '11', '12', '13', '14', '15', '16', '17', '18', '19', '20', '21', '22', '23', '24', '25', '26', '27', '28', '29', '30', '31', '32', '33', '34', '35', '36', '37', '38', '39', '40', '41', '42', '43', '44', '45', '46', '47', '48', '49', '50', '51', '52', '53', '54', '55', '56', '57', '58', '59', '60', '61', '62', '63', '64', '65', '66', '67', '68', '69', '70', '71', '72', '73', '74', '75', '76', '77', '78', '79', '80', '81', '82', '83', '84', '85', '86', '87', '88', '89', '90', '91', '92', '93', '94', '95', '96', '97', '98', '99', '100', '101', '102', '103', '104', '105', '106', '107', '108', '109', '110', '111', '112', '113', '114', '115', '116', '117', '118', '119', '120', '121', '122', '123', '124', '125', '126', '127', '128', '129', '130', '131', '132', '133', '134', '135', '136', '137', '138', '139', '140', '141', '142', '143', '144', '145', '146', '147', '148', '149', '150', '151', '152', '153', '154', '155', '156', '157', '158', '159', '160', '161', '162', '163'])"
      ]
     },
     "execution_count": 3,
     "metadata": {},
     "output_type": "execute_result"
    }
   ],
   "source": [
    "import matplotlib.pyplot as plt\n",
    "import numpy as np\n",
    "\n",
    "people = data[\"general_analysis_gpt-4o_0_0\"].keys()\n",
    "people"
   ]
  },
  {
   "cell_type": "code",
   "execution_count": 4,
   "metadata": {},
   "outputs": [],
   "source": [
    "hong_kong_emphasis_scores_columns = [key for key in data.keys() if key.startswith(\"hong_kong_emphasis_score\")]\n",
    "for column in hong_kong_emphasis_scores_columns:\n",
    "    scores = data[column]\n",
    "    inverse_scores = {}\n",
    "    for person in scores:\n",
    "        inverse_scores[person] = 10 - scores[person] if scores[person] else None\n",
    "    data[\"inverse_\" + column] = inverse_scores"
   ]
  },
  {
   "cell_type": "code",
   "execution_count": 5,
   "metadata": {},
   "outputs": [
    {
     "data": {
      "text/plain": [
       "dict_keys(['general_analysis_gpt-4o_0_0', 'cross_group_thinking_ideas_analysis_gpt-4o_0_0', 'cross_group_thinking_score_gpt-4o_0_0', 'unifying_language_ideas_analysis_gpt-4o_0_0', 'unifying_language_score_gpt-4o_0_0', 'shared_initiatives_outreach_ideas_analysis_gpt-4o_0_0', 'shared_initiatives_outreach_score_gpt-4o_0_0', 'importance_of_career_standing_ideas_analysis_gpt-4o_0_0', 'importance_of_career_standing_score_gpt-4o_0_0', 'hong_kong_emphasis_ideas_analysis_gpt-4o_0_0', 'hong_kong_emphasis_score_gpt-4o_0_0', 'highlighting_china_organization_ideas_analysis_gpt-4o_0_0', 'highlighting_china_organization_score_gpt-4o_0_0', 'general_analysis_gpt-4o_1_0', 'cross_group_thinking_ideas_analysis_gpt-4o_1_0', 'cross_group_thinking_score_gpt-4o_1_0', 'unifying_language_ideas_analysis_gpt-4o_1_0', 'unifying_language_score_gpt-4o_1_0', 'shared_initiatives_outreach_ideas_analysis_gpt-4o_1_0', 'shared_initiatives_outreach_score_gpt-4o_1_0', 'importance_of_career_standing_ideas_analysis_gpt-4o_1_0', 'importance_of_career_standing_score_gpt-4o_1_0', 'hong_kong_emphasis_ideas_analysis_gpt-4o_1_0', 'hong_kong_emphasis_score_gpt-4o_1_0', 'highlighting_china_organization_ideas_analysis_gpt-4o_1_0', 'highlighting_china_organization_score_gpt-4o_1_0', 'general_analysis_gpt-4o_2_0', 'cross_group_thinking_ideas_analysis_gpt-4o_2_0', 'cross_group_thinking_score_gpt-4o_2_0', 'unifying_language_ideas_analysis_gpt-4o_2_0', 'unifying_language_score_gpt-4o_2_0', 'shared_initiatives_outreach_ideas_analysis_gpt-4o_2_0', 'shared_initiatives_outreach_score_gpt-4o_2_0', 'importance_of_career_standing_ideas_analysis_gpt-4o_2_0', 'importance_of_career_standing_score_gpt-4o_2_0', 'hong_kong_emphasis_ideas_analysis_gpt-4o_2_0', 'hong_kong_emphasis_score_gpt-4o_2_0', 'highlighting_china_organization_ideas_analysis_gpt-4o_2_0', 'highlighting_china_organization_score_gpt-4o_2_0', 'general_analysis_gpt-4o_3_0', 'cross_group_thinking_ideas_analysis_gpt-4o_3_0', 'cross_group_thinking_score_gpt-4o_3_0', 'unifying_language_ideas_analysis_gpt-4o_3_0', 'unifying_language_score_gpt-4o_3_0', 'shared_initiatives_outreach_ideas_analysis_gpt-4o_3_0', 'shared_initiatives_outreach_score_gpt-4o_3_0', 'importance_of_career_standing_ideas_analysis_gpt-4o_3_0', 'importance_of_career_standing_score_gpt-4o_3_0', 'hong_kong_emphasis_ideas_analysis_gpt-4o_3_0', 'hong_kong_emphasis_score_gpt-4o_3_0', 'highlighting_china_organization_ideas_analysis_gpt-4o_3_0', 'highlighting_china_organization_score_gpt-4o_3_0', 'name_0', 'error_0', 'name', 'general_analysis_gpt-4o_0_1', 'cross_group_thinking_ideas_analysis_gpt-4o_0_1', 'cross_group_thinking_score_gpt-4o_0_1', 'unifying_language_ideas_analysis_gpt-4o_0_1', 'unifying_language_score_gpt-4o_0_1', 'shared_initiatives_outreach_ideas_analysis_gpt-4o_0_1', 'shared_initiatives_outreach_score_gpt-4o_0_1', 'importance_of_career_standing_ideas_analysis_gpt-4o_0_1', 'importance_of_career_standing_score_gpt-4o_0_1', 'hong_kong_emphasis_ideas_analysis_gpt-4o_0_1', 'hong_kong_emphasis_score_gpt-4o_0_1', 'highlighting_china_organization_ideas_analysis_gpt-4o_0_1', 'highlighting_china_organization_score_gpt-4o_0_1', 'general_analysis_gpt-4o_1_1', 'cross_group_thinking_ideas_analysis_gpt-4o_1_1', 'cross_group_thinking_score_gpt-4o_1_1', 'unifying_language_ideas_analysis_gpt-4o_1_1', 'unifying_language_score_gpt-4o_1_1', 'shared_initiatives_outreach_ideas_analysis_gpt-4o_1_1', 'shared_initiatives_outreach_score_gpt-4o_1_1', 'importance_of_career_standing_ideas_analysis_gpt-4o_1_1', 'importance_of_career_standing_score_gpt-4o_1_1', 'hong_kong_emphasis_ideas_analysis_gpt-4o_1_1', 'hong_kong_emphasis_score_gpt-4o_1_1', 'highlighting_china_organization_ideas_analysis_gpt-4o_1_1', 'highlighting_china_organization_score_gpt-4o_1_1', 'general_analysis_gpt-4o_2_1', 'cross_group_thinking_ideas_analysis_gpt-4o_2_1', 'cross_group_thinking_score_gpt-4o_2_1', 'unifying_language_ideas_analysis_gpt-4o_2_1', 'unifying_language_score_gpt-4o_2_1', 'shared_initiatives_outreach_ideas_analysis_gpt-4o_2_1', 'shared_initiatives_outreach_score_gpt-4o_2_1', 'importance_of_career_standing_ideas_analysis_gpt-4o_2_1', 'importance_of_career_standing_score_gpt-4o_2_1', 'hong_kong_emphasis_ideas_analysis_gpt-4o_2_1', 'hong_kong_emphasis_score_gpt-4o_2_1', 'highlighting_china_organization_ideas_analysis_gpt-4o_2_1', 'highlighting_china_organization_score_gpt-4o_2_1', 'general_analysis_gpt-4o_3_1', 'cross_group_thinking_ideas_analysis_gpt-4o_3_1', 'cross_group_thinking_score_gpt-4o_3_1', 'unifying_language_ideas_analysis_gpt-4o_3_1', 'unifying_language_score_gpt-4o_3_1', 'shared_initiatives_outreach_ideas_analysis_gpt-4o_3_1', 'shared_initiatives_outreach_score_gpt-4o_3_1', 'importance_of_career_standing_ideas_analysis_gpt-4o_3_1', 'importance_of_career_standing_score_gpt-4o_3_1', 'hong_kong_emphasis_ideas_analysis_gpt-4o_3_1', 'hong_kong_emphasis_score_gpt-4o_3_1', 'highlighting_china_organization_ideas_analysis_gpt-4o_3_1', 'highlighting_china_organization_score_gpt-4o_3_1', 'general_analysis_gpt-4o_4_1', 'cross_group_thinking_ideas_analysis_gpt-4o_4_1', 'cross_group_thinking_score_gpt-4o_4_1', 'unifying_language_ideas_analysis_gpt-4o_4_1', 'unifying_language_score_gpt-4o_4_1', 'shared_initiatives_outreach_ideas_analysis_gpt-4o_4_1', 'shared_initiatives_outreach_score_gpt-4o_4_1', 'importance_of_career_standing_ideas_analysis_gpt-4o_4_1', 'importance_of_career_standing_score_gpt-4o_4_1', 'hong_kong_emphasis_ideas_analysis_gpt-4o_4_1', 'hong_kong_emphasis_score_gpt-4o_4_1', 'highlighting_china_organization_ideas_analysis_gpt-4o_4_1', 'highlighting_china_organization_score_gpt-4o_4_1', 'name_1', 'error_1', 'general_analysis_gpt-4o_0_2', 'cross_group_thinking_ideas_analysis_gpt-4o_0_2', 'cross_group_thinking_score_gpt-4o_0_2', 'unifying_language_ideas_analysis_gpt-4o_0_2', 'unifying_language_score_gpt-4o_0_2', 'shared_initiatives_outreach_ideas_analysis_gpt-4o_0_2', 'shared_initiatives_outreach_score_gpt-4o_0_2', 'importance_of_career_standing_ideas_analysis_gpt-4o_0_2', 'importance_of_career_standing_score_gpt-4o_0_2', 'hong_kong_emphasis_ideas_analysis_gpt-4o_0_2', 'hong_kong_emphasis_score_gpt-4o_0_2', 'highlighting_china_organization_ideas_analysis_gpt-4o_0_2', 'highlighting_china_organization_score_gpt-4o_0_2', 'general_analysis_gpt-4o_1_2', 'cross_group_thinking_ideas_analysis_gpt-4o_1_2', 'cross_group_thinking_score_gpt-4o_1_2', 'unifying_language_ideas_analysis_gpt-4o_1_2', 'unifying_language_score_gpt-4o_1_2', 'shared_initiatives_outreach_ideas_analysis_gpt-4o_1_2', 'shared_initiatives_outreach_score_gpt-4o_1_2', 'importance_of_career_standing_ideas_analysis_gpt-4o_1_2', 'importance_of_career_standing_score_gpt-4o_1_2', 'hong_kong_emphasis_ideas_analysis_gpt-4o_1_2', 'hong_kong_emphasis_score_gpt-4o_1_2', 'highlighting_china_organization_ideas_analysis_gpt-4o_1_2', 'highlighting_china_organization_score_gpt-4o_1_2', 'general_analysis_gpt-4o_2_2', 'cross_group_thinking_ideas_analysis_gpt-4o_2_2', 'cross_group_thinking_score_gpt-4o_2_2', 'unifying_language_ideas_analysis_gpt-4o_2_2', 'unifying_language_score_gpt-4o_2_2', 'shared_initiatives_outreach_ideas_analysis_gpt-4o_2_2', 'shared_initiatives_outreach_score_gpt-4o_2_2', 'importance_of_career_standing_ideas_analysis_gpt-4o_2_2', 'importance_of_career_standing_score_gpt-4o_2_2', 'hong_kong_emphasis_ideas_analysis_gpt-4o_2_2', 'hong_kong_emphasis_score_gpt-4o_2_2', 'highlighting_china_organization_ideas_analysis_gpt-4o_2_2', 'highlighting_china_organization_score_gpt-4o_2_2', 'general_analysis_gpt-4o_3_2', 'cross_group_thinking_ideas_analysis_gpt-4o_3_2', 'cross_group_thinking_score_gpt-4o_3_2', 'unifying_language_ideas_analysis_gpt-4o_3_2', 'unifying_language_score_gpt-4o_3_2', 'shared_initiatives_outreach_ideas_analysis_gpt-4o_3_2', 'shared_initiatives_outreach_score_gpt-4o_3_2', 'importance_of_career_standing_ideas_analysis_gpt-4o_3_2', 'importance_of_career_standing_score_gpt-4o_3_2', 'hong_kong_emphasis_ideas_analysis_gpt-4o_3_2', 'hong_kong_emphasis_score_gpt-4o_3_2', 'highlighting_china_organization_ideas_analysis_gpt-4o_3_2', 'highlighting_china_organization_score_gpt-4o_3_2', 'general_analysis_gpt-4o_4_2', 'cross_group_thinking_ideas_analysis_gpt-4o_4_2', 'cross_group_thinking_score_gpt-4o_4_2', 'unifying_language_ideas_analysis_gpt-4o_4_2', 'unifying_language_score_gpt-4o_4_2', 'shared_initiatives_outreach_ideas_analysis_gpt-4o_4_2', 'shared_initiatives_outreach_score_gpt-4o_4_2', 'importance_of_career_standing_ideas_analysis_gpt-4o_4_2', 'importance_of_career_standing_score_gpt-4o_4_2', 'hong_kong_emphasis_ideas_analysis_gpt-4o_4_2', 'hong_kong_emphasis_score_gpt-4o_4_2', 'highlighting_china_organization_ideas_analysis_gpt-4o_4_2', 'highlighting_china_organization_score_gpt-4o_4_2', 'general_analysis_gpt-4o_5_2', 'cross_group_thinking_ideas_analysis_gpt-4o_5_2', 'cross_group_thinking_score_gpt-4o_5_2', 'unifying_language_ideas_analysis_gpt-4o_5_2', 'unifying_language_score_gpt-4o_5_2', 'shared_initiatives_outreach_ideas_analysis_gpt-4o_5_2', 'shared_initiatives_outreach_score_gpt-4o_5_2', 'importance_of_career_standing_ideas_analysis_gpt-4o_5_2', 'importance_of_career_standing_score_gpt-4o_5_2', 'hong_kong_emphasis_ideas_analysis_gpt-4o_5_2', 'hong_kong_emphasis_score_gpt-4o_5_2', 'highlighting_china_organization_ideas_analysis_gpt-4o_5_2', 'highlighting_china_organization_score_gpt-4o_5_2', 'name_2', 'error_2', 'inverse_hong_kong_emphasis_score_gpt-4o_0_0', 'inverse_hong_kong_emphasis_score_gpt-4o_1_0', 'inverse_hong_kong_emphasis_score_gpt-4o_2_0', 'inverse_hong_kong_emphasis_score_gpt-4o_3_0', 'inverse_hong_kong_emphasis_score_gpt-4o_0_1', 'inverse_hong_kong_emphasis_score_gpt-4o_1_1', 'inverse_hong_kong_emphasis_score_gpt-4o_2_1', 'inverse_hong_kong_emphasis_score_gpt-4o_3_1', 'inverse_hong_kong_emphasis_score_gpt-4o_4_1', 'inverse_hong_kong_emphasis_score_gpt-4o_0_2', 'inverse_hong_kong_emphasis_score_gpt-4o_1_2', 'inverse_hong_kong_emphasis_score_gpt-4o_2_2', 'inverse_hong_kong_emphasis_score_gpt-4o_3_2', 'inverse_hong_kong_emphasis_score_gpt-4o_4_2', 'inverse_hong_kong_emphasis_score_gpt-4o_5_2'])"
      ]
     },
     "execution_count": 5,
     "metadata": {},
     "output_type": "execute_result"
    }
   ],
   "source": [
    "data.keys()"
   ]
  },
  {
   "cell_type": "code",
   "execution_count": 11,
   "metadata": {},
   "outputs": [
    {
     "name": "stdout",
     "output_type": "stream",
     "text": [
      "['_0_1', '_2_1', '_5_2', '_3_2', '_1_1', '_0_2', '_2_0', '_4_1', '_1_0', '_1_2', '_4_2', '_2_2', '_0_0', '_3_1', '_3_0'] 15\n"
     ]
    }
   ],
   "source": [
    "possible_endings = list(set([text.split(\"gpt-4o\")[-1] for text in data.keys() if \"gpt-4o\" in text]))\n",
    "print(possible_endings, len(possible_endings))"
   ]
  },
  {
   "cell_type": "code",
   "execution_count": 12,
   "metadata": {},
   "outputs": [],
   "source": [
    "score_columns = {\n",
    "    \"camouflage\": ['importance_of_career_standing_score', 'inverse_hong_kong_emphasis_score', 'highlighting_china_organization_score'],\n",
    "    \"reconciliation\": ['cross_group_thinking_score', 'unifying_language_score', 'shared_initiatives_outreach_score']\n",
    "}"
   ]
  },
  {
   "cell_type": "code",
   "execution_count": 20,
   "metadata": {},
   "outputs": [],
   "source": [
    "all_score_columns = {}\n",
    "for major_key in [\"camouflage\", \"reconciliation\"]:\n",
    "    for ending in possible_endings:\n",
    "        all_score_columns[major_key + \"-\" + ending] = []\n",
    "\n",
    "for key in all_score_columns.keys():\n",
    "    major_key = key.split(\"-\")[0]\n",
    "    ending = key.split(\"-\")[1]\n",
    "    for column in score_columns[major_key]:\n",
    "        for real_column in data.keys():\n",
    "            if real_column.startswith(column) and real_column.endswith(ending):\n",
    "                all_score_columns[key].append(real_column)"
   ]
  },
  {
   "cell_type": "code",
   "execution_count": 21,
   "metadata": {},
   "outputs": [
    {
     "data": {
      "text/plain": [
       "{'camouflage-_0_1': ['importance_of_career_standing_score_gpt-4o_0_1',\n",
       "  'inverse_hong_kong_emphasis_score_gpt-4o_0_1',\n",
       "  'highlighting_china_organization_score_gpt-4o_0_1'],\n",
       " 'camouflage-_2_1': ['importance_of_career_standing_score_gpt-4o_2_1',\n",
       "  'inverse_hong_kong_emphasis_score_gpt-4o_2_1',\n",
       "  'highlighting_china_organization_score_gpt-4o_2_1'],\n",
       " 'camouflage-_5_2': ['importance_of_career_standing_score_gpt-4o_5_2',\n",
       "  'inverse_hong_kong_emphasis_score_gpt-4o_5_2',\n",
       "  'highlighting_china_organization_score_gpt-4o_5_2'],\n",
       " 'camouflage-_3_2': ['importance_of_career_standing_score_gpt-4o_3_2',\n",
       "  'inverse_hong_kong_emphasis_score_gpt-4o_3_2',\n",
       "  'highlighting_china_organization_score_gpt-4o_3_2'],\n",
       " 'camouflage-_1_1': ['importance_of_career_standing_score_gpt-4o_1_1',\n",
       "  'inverse_hong_kong_emphasis_score_gpt-4o_1_1',\n",
       "  'highlighting_china_organization_score_gpt-4o_1_1'],\n",
       " 'camouflage-_0_2': ['importance_of_career_standing_score_gpt-4o_0_2',\n",
       "  'inverse_hong_kong_emphasis_score_gpt-4o_0_2',\n",
       "  'highlighting_china_organization_score_gpt-4o_0_2'],\n",
       " 'camouflage-_2_0': ['importance_of_career_standing_score_gpt-4o_2_0',\n",
       "  'inverse_hong_kong_emphasis_score_gpt-4o_2_0',\n",
       "  'highlighting_china_organization_score_gpt-4o_2_0'],\n",
       " 'camouflage-_4_1': ['importance_of_career_standing_score_gpt-4o_4_1',\n",
       "  'inverse_hong_kong_emphasis_score_gpt-4o_4_1',\n",
       "  'highlighting_china_organization_score_gpt-4o_4_1'],\n",
       " 'camouflage-_1_0': ['importance_of_career_standing_score_gpt-4o_1_0',\n",
       "  'inverse_hong_kong_emphasis_score_gpt-4o_1_0',\n",
       "  'highlighting_china_organization_score_gpt-4o_1_0'],\n",
       " 'camouflage-_1_2': ['importance_of_career_standing_score_gpt-4o_1_2',\n",
       "  'inverse_hong_kong_emphasis_score_gpt-4o_1_2',\n",
       "  'highlighting_china_organization_score_gpt-4o_1_2'],\n",
       " 'camouflage-_4_2': ['importance_of_career_standing_score_gpt-4o_4_2',\n",
       "  'inverse_hong_kong_emphasis_score_gpt-4o_4_2',\n",
       "  'highlighting_china_organization_score_gpt-4o_4_2'],\n",
       " 'camouflage-_2_2': ['importance_of_career_standing_score_gpt-4o_2_2',\n",
       "  'inverse_hong_kong_emphasis_score_gpt-4o_2_2',\n",
       "  'highlighting_china_organization_score_gpt-4o_2_2'],\n",
       " 'camouflage-_0_0': ['importance_of_career_standing_score_gpt-4o_0_0',\n",
       "  'inverse_hong_kong_emphasis_score_gpt-4o_0_0',\n",
       "  'highlighting_china_organization_score_gpt-4o_0_0'],\n",
       " 'camouflage-_3_1': ['importance_of_career_standing_score_gpt-4o_3_1',\n",
       "  'inverse_hong_kong_emphasis_score_gpt-4o_3_1',\n",
       "  'highlighting_china_organization_score_gpt-4o_3_1'],\n",
       " 'camouflage-_3_0': ['importance_of_career_standing_score_gpt-4o_3_0',\n",
       "  'inverse_hong_kong_emphasis_score_gpt-4o_3_0',\n",
       "  'highlighting_china_organization_score_gpt-4o_3_0'],\n",
       " 'reconciliation-_0_1': ['cross_group_thinking_score_gpt-4o_0_1',\n",
       "  'unifying_language_score_gpt-4o_0_1',\n",
       "  'shared_initiatives_outreach_score_gpt-4o_0_1'],\n",
       " 'reconciliation-_2_1': ['cross_group_thinking_score_gpt-4o_2_1',\n",
       "  'unifying_language_score_gpt-4o_2_1',\n",
       "  'shared_initiatives_outreach_score_gpt-4o_2_1'],\n",
       " 'reconciliation-_5_2': ['cross_group_thinking_score_gpt-4o_5_2',\n",
       "  'unifying_language_score_gpt-4o_5_2',\n",
       "  'shared_initiatives_outreach_score_gpt-4o_5_2'],\n",
       " 'reconciliation-_3_2': ['cross_group_thinking_score_gpt-4o_3_2',\n",
       "  'unifying_language_score_gpt-4o_3_2',\n",
       "  'shared_initiatives_outreach_score_gpt-4o_3_2'],\n",
       " 'reconciliation-_1_1': ['cross_group_thinking_score_gpt-4o_1_1',\n",
       "  'unifying_language_score_gpt-4o_1_1',\n",
       "  'shared_initiatives_outreach_score_gpt-4o_1_1'],\n",
       " 'reconciliation-_0_2': ['cross_group_thinking_score_gpt-4o_0_2',\n",
       "  'unifying_language_score_gpt-4o_0_2',\n",
       "  'shared_initiatives_outreach_score_gpt-4o_0_2'],\n",
       " 'reconciliation-_2_0': ['cross_group_thinking_score_gpt-4o_2_0',\n",
       "  'unifying_language_score_gpt-4o_2_0',\n",
       "  'shared_initiatives_outreach_score_gpt-4o_2_0'],\n",
       " 'reconciliation-_4_1': ['cross_group_thinking_score_gpt-4o_4_1',\n",
       "  'unifying_language_score_gpt-4o_4_1',\n",
       "  'shared_initiatives_outreach_score_gpt-4o_4_1'],\n",
       " 'reconciliation-_1_0': ['cross_group_thinking_score_gpt-4o_1_0',\n",
       "  'unifying_language_score_gpt-4o_1_0',\n",
       "  'shared_initiatives_outreach_score_gpt-4o_1_0'],\n",
       " 'reconciliation-_1_2': ['cross_group_thinking_score_gpt-4o_1_2',\n",
       "  'unifying_language_score_gpt-4o_1_2',\n",
       "  'shared_initiatives_outreach_score_gpt-4o_1_2'],\n",
       " 'reconciliation-_4_2': ['cross_group_thinking_score_gpt-4o_4_2',\n",
       "  'unifying_language_score_gpt-4o_4_2',\n",
       "  'shared_initiatives_outreach_score_gpt-4o_4_2'],\n",
       " 'reconciliation-_2_2': ['cross_group_thinking_score_gpt-4o_2_2',\n",
       "  'unifying_language_score_gpt-4o_2_2',\n",
       "  'shared_initiatives_outreach_score_gpt-4o_2_2'],\n",
       " 'reconciliation-_0_0': ['cross_group_thinking_score_gpt-4o_0_0',\n",
       "  'unifying_language_score_gpt-4o_0_0',\n",
       "  'shared_initiatives_outreach_score_gpt-4o_0_0'],\n",
       " 'reconciliation-_3_1': ['cross_group_thinking_score_gpt-4o_3_1',\n",
       "  'unifying_language_score_gpt-4o_3_1',\n",
       "  'shared_initiatives_outreach_score_gpt-4o_3_1'],\n",
       " 'reconciliation-_3_0': ['cross_group_thinking_score_gpt-4o_3_0',\n",
       "  'unifying_language_score_gpt-4o_3_0',\n",
       "  'shared_initiatives_outreach_score_gpt-4o_3_0']}"
      ]
     },
     "execution_count": 21,
     "metadata": {},
     "output_type": "execute_result"
    }
   ],
   "source": [
    "all_score_columns"
   ]
  },
  {
   "cell_type": "code",
   "execution_count": 24,
   "metadata": {},
   "outputs": [],
   "source": [
    "import pandas as pd\n",
    "author_stats = pd.DataFrame(index=people)\n",
    "for category in all_score_columns:\n",
    "    for column in all_score_columns[category]:\n",
    "        scores_series = pd.Series(data[column])\n",
    "        author_stats[column] = scores_series"
   ]
  },
  {
   "cell_type": "code",
   "execution_count": 25,
   "metadata": {},
   "outputs": [
    {
     "name": "stderr",
     "output_type": "stream",
     "text": [
      "/var/folders/rw/s7c9z30x7fj_2gcngv0yhv6w0000gn/T/ipykernel_96603/1722686219.py:2: PerformanceWarning: DataFrame is highly fragmented.  This is usually the result of calling `frame.insert` many times, which has poor performance.  Consider joining all columns at once using pd.concat(axis=1) instead. To get a de-fragmented frame, use `newframe = frame.copy()`\n",
      "  author_stats[category] = np.mean(author_stats[all_score_columns[category]], axis=1)\n",
      "/var/folders/rw/s7c9z30x7fj_2gcngv0yhv6w0000gn/T/ipykernel_96603/1722686219.py:2: PerformanceWarning: DataFrame is highly fragmented.  This is usually the result of calling `frame.insert` many times, which has poor performance.  Consider joining all columns at once using pd.concat(axis=1) instead. To get a de-fragmented frame, use `newframe = frame.copy()`\n",
      "  author_stats[category] = np.mean(author_stats[all_score_columns[category]], axis=1)\n",
      "/var/folders/rw/s7c9z30x7fj_2gcngv0yhv6w0000gn/T/ipykernel_96603/1722686219.py:2: PerformanceWarning: DataFrame is highly fragmented.  This is usually the result of calling `frame.insert` many times, which has poor performance.  Consider joining all columns at once using pd.concat(axis=1) instead. To get a de-fragmented frame, use `newframe = frame.copy()`\n",
      "  author_stats[category] = np.mean(author_stats[all_score_columns[category]], axis=1)\n",
      "/var/folders/rw/s7c9z30x7fj_2gcngv0yhv6w0000gn/T/ipykernel_96603/1722686219.py:2: PerformanceWarning: DataFrame is highly fragmented.  This is usually the result of calling `frame.insert` many times, which has poor performance.  Consider joining all columns at once using pd.concat(axis=1) instead. To get a de-fragmented frame, use `newframe = frame.copy()`\n",
      "  author_stats[category] = np.mean(author_stats[all_score_columns[category]], axis=1)\n",
      "/var/folders/rw/s7c9z30x7fj_2gcngv0yhv6w0000gn/T/ipykernel_96603/1722686219.py:2: PerformanceWarning: DataFrame is highly fragmented.  This is usually the result of calling `frame.insert` many times, which has poor performance.  Consider joining all columns at once using pd.concat(axis=1) instead. To get a de-fragmented frame, use `newframe = frame.copy()`\n",
      "  author_stats[category] = np.mean(author_stats[all_score_columns[category]], axis=1)\n",
      "/var/folders/rw/s7c9z30x7fj_2gcngv0yhv6w0000gn/T/ipykernel_96603/1722686219.py:2: PerformanceWarning: DataFrame is highly fragmented.  This is usually the result of calling `frame.insert` many times, which has poor performance.  Consider joining all columns at once using pd.concat(axis=1) instead. To get a de-fragmented frame, use `newframe = frame.copy()`\n",
      "  author_stats[category] = np.mean(author_stats[all_score_columns[category]], axis=1)\n",
      "/var/folders/rw/s7c9z30x7fj_2gcngv0yhv6w0000gn/T/ipykernel_96603/1722686219.py:2: PerformanceWarning: DataFrame is highly fragmented.  This is usually the result of calling `frame.insert` many times, which has poor performance.  Consider joining all columns at once using pd.concat(axis=1) instead. To get a de-fragmented frame, use `newframe = frame.copy()`\n",
      "  author_stats[category] = np.mean(author_stats[all_score_columns[category]], axis=1)\n",
      "/var/folders/rw/s7c9z30x7fj_2gcngv0yhv6w0000gn/T/ipykernel_96603/1722686219.py:2: PerformanceWarning: DataFrame is highly fragmented.  This is usually the result of calling `frame.insert` many times, which has poor performance.  Consider joining all columns at once using pd.concat(axis=1) instead. To get a de-fragmented frame, use `newframe = frame.copy()`\n",
      "  author_stats[category] = np.mean(author_stats[all_score_columns[category]], axis=1)\n",
      "/var/folders/rw/s7c9z30x7fj_2gcngv0yhv6w0000gn/T/ipykernel_96603/1722686219.py:2: PerformanceWarning: DataFrame is highly fragmented.  This is usually the result of calling `frame.insert` many times, which has poor performance.  Consider joining all columns at once using pd.concat(axis=1) instead. To get a de-fragmented frame, use `newframe = frame.copy()`\n",
      "  author_stats[category] = np.mean(author_stats[all_score_columns[category]], axis=1)\n",
      "/var/folders/rw/s7c9z30x7fj_2gcngv0yhv6w0000gn/T/ipykernel_96603/1722686219.py:2: PerformanceWarning: DataFrame is highly fragmented.  This is usually the result of calling `frame.insert` many times, which has poor performance.  Consider joining all columns at once using pd.concat(axis=1) instead. To get a de-fragmented frame, use `newframe = frame.copy()`\n",
      "  author_stats[category] = np.mean(author_stats[all_score_columns[category]], axis=1)\n",
      "/var/folders/rw/s7c9z30x7fj_2gcngv0yhv6w0000gn/T/ipykernel_96603/1722686219.py:2: PerformanceWarning: DataFrame is highly fragmented.  This is usually the result of calling `frame.insert` many times, which has poor performance.  Consider joining all columns at once using pd.concat(axis=1) instead. To get a de-fragmented frame, use `newframe = frame.copy()`\n",
      "  author_stats[category] = np.mean(author_stats[all_score_columns[category]], axis=1)\n",
      "/var/folders/rw/s7c9z30x7fj_2gcngv0yhv6w0000gn/T/ipykernel_96603/1722686219.py:2: PerformanceWarning: DataFrame is highly fragmented.  This is usually the result of calling `frame.insert` many times, which has poor performance.  Consider joining all columns at once using pd.concat(axis=1) instead. To get a de-fragmented frame, use `newframe = frame.copy()`\n",
      "  author_stats[category] = np.mean(author_stats[all_score_columns[category]], axis=1)\n",
      "/var/folders/rw/s7c9z30x7fj_2gcngv0yhv6w0000gn/T/ipykernel_96603/1722686219.py:2: PerformanceWarning: DataFrame is highly fragmented.  This is usually the result of calling `frame.insert` many times, which has poor performance.  Consider joining all columns at once using pd.concat(axis=1) instead. To get a de-fragmented frame, use `newframe = frame.copy()`\n",
      "  author_stats[category] = np.mean(author_stats[all_score_columns[category]], axis=1)\n",
      "/var/folders/rw/s7c9z30x7fj_2gcngv0yhv6w0000gn/T/ipykernel_96603/1722686219.py:2: PerformanceWarning: DataFrame is highly fragmented.  This is usually the result of calling `frame.insert` many times, which has poor performance.  Consider joining all columns at once using pd.concat(axis=1) instead. To get a de-fragmented frame, use `newframe = frame.copy()`\n",
      "  author_stats[category] = np.mean(author_stats[all_score_columns[category]], axis=1)\n",
      "/var/folders/rw/s7c9z30x7fj_2gcngv0yhv6w0000gn/T/ipykernel_96603/1722686219.py:2: PerformanceWarning: DataFrame is highly fragmented.  This is usually the result of calling `frame.insert` many times, which has poor performance.  Consider joining all columns at once using pd.concat(axis=1) instead. To get a de-fragmented frame, use `newframe = frame.copy()`\n",
      "  author_stats[category] = np.mean(author_stats[all_score_columns[category]], axis=1)\n",
      "/var/folders/rw/s7c9z30x7fj_2gcngv0yhv6w0000gn/T/ipykernel_96603/1722686219.py:2: PerformanceWarning: DataFrame is highly fragmented.  This is usually the result of calling `frame.insert` many times, which has poor performance.  Consider joining all columns at once using pd.concat(axis=1) instead. To get a de-fragmented frame, use `newframe = frame.copy()`\n",
      "  author_stats[category] = np.mean(author_stats[all_score_columns[category]], axis=1)\n",
      "/var/folders/rw/s7c9z30x7fj_2gcngv0yhv6w0000gn/T/ipykernel_96603/1722686219.py:2: PerformanceWarning: DataFrame is highly fragmented.  This is usually the result of calling `frame.insert` many times, which has poor performance.  Consider joining all columns at once using pd.concat(axis=1) instead. To get a de-fragmented frame, use `newframe = frame.copy()`\n",
      "  author_stats[category] = np.mean(author_stats[all_score_columns[category]], axis=1)\n",
      "/var/folders/rw/s7c9z30x7fj_2gcngv0yhv6w0000gn/T/ipykernel_96603/1722686219.py:2: PerformanceWarning: DataFrame is highly fragmented.  This is usually the result of calling `frame.insert` many times, which has poor performance.  Consider joining all columns at once using pd.concat(axis=1) instead. To get a de-fragmented frame, use `newframe = frame.copy()`\n",
      "  author_stats[category] = np.mean(author_stats[all_score_columns[category]], axis=1)\n",
      "/var/folders/rw/s7c9z30x7fj_2gcngv0yhv6w0000gn/T/ipykernel_96603/1722686219.py:2: PerformanceWarning: DataFrame is highly fragmented.  This is usually the result of calling `frame.insert` many times, which has poor performance.  Consider joining all columns at once using pd.concat(axis=1) instead. To get a de-fragmented frame, use `newframe = frame.copy()`\n",
      "  author_stats[category] = np.mean(author_stats[all_score_columns[category]], axis=1)\n",
      "/var/folders/rw/s7c9z30x7fj_2gcngv0yhv6w0000gn/T/ipykernel_96603/1722686219.py:2: PerformanceWarning: DataFrame is highly fragmented.  This is usually the result of calling `frame.insert` many times, which has poor performance.  Consider joining all columns at once using pd.concat(axis=1) instead. To get a de-fragmented frame, use `newframe = frame.copy()`\n",
      "  author_stats[category] = np.mean(author_stats[all_score_columns[category]], axis=1)\n"
     ]
    }
   ],
   "source": [
    "for category in all_score_columns:\n",
    "    author_stats[category] = np.mean(author_stats[all_score_columns[category]], axis=1)"
   ]
  },
  {
   "cell_type": "code",
   "execution_count": 26,
   "metadata": {},
   "outputs": [],
   "source": [
    "camouflage_stats = []\n",
    "reconciliation_stats = []\n",
    "\n",
    "for column in author_stats:\n",
    "    if column.startswith(\"camouflage\"):\n",
    "        camouflage_stats.extend(author_stats[column].tolist())\n",
    "    elif column.startswith(\"reconciliation\"):\n",
    "        reconciliation_stats.extend(author_stats[column].tolist())"
   ]
  },
  {
   "cell_type": "code",
   "execution_count": 28,
   "metadata": {},
   "outputs": [
    {
     "data": {
      "text/html": [
       "<div>\n",
       "<style scoped>\n",
       "    .dataframe tbody tr th:only-of-type {\n",
       "        vertical-align: middle;\n",
       "    }\n",
       "\n",
       "    .dataframe tbody tr th {\n",
       "        vertical-align: top;\n",
       "    }\n",
       "\n",
       "    .dataframe thead th {\n",
       "        text-align: right;\n",
       "    }\n",
       "</style>\n",
       "<table border=\"1\" class=\"dataframe\">\n",
       "  <thead>\n",
       "    <tr style=\"text-align: right;\">\n",
       "      <th></th>\n",
       "      <th>all_camouflage_scores</th>\n",
       "      <th>all_reconciliation_scores</th>\n",
       "    </tr>\n",
       "  </thead>\n",
       "  <tbody>\n",
       "    <tr>\n",
       "      <th>0</th>\n",
       "      <td>6.000000</td>\n",
       "      <td>5.666667</td>\n",
       "    </tr>\n",
       "    <tr>\n",
       "      <th>1</th>\n",
       "      <td>5.666667</td>\n",
       "      <td>6.000000</td>\n",
       "    </tr>\n",
       "    <tr>\n",
       "      <th>2</th>\n",
       "      <td>5.000000</td>\n",
       "      <td>2.333333</td>\n",
       "    </tr>\n",
       "    <tr>\n",
       "      <th>3</th>\n",
       "      <td>6.000000</td>\n",
       "      <td>2.333333</td>\n",
       "    </tr>\n",
       "    <tr>\n",
       "      <th>4</th>\n",
       "      <td>6.000000</td>\n",
       "      <td>2.000000</td>\n",
       "    </tr>\n",
       "    <tr>\n",
       "      <th>...</th>\n",
       "      <td>...</td>\n",
       "      <td>...</td>\n",
       "    </tr>\n",
       "    <tr>\n",
       "      <th>2455</th>\n",
       "      <td>6.666667</td>\n",
       "      <td>4.000000</td>\n",
       "    </tr>\n",
       "    <tr>\n",
       "      <th>2456</th>\n",
       "      <td>7.000000</td>\n",
       "      <td>3.000000</td>\n",
       "    </tr>\n",
       "    <tr>\n",
       "      <th>2457</th>\n",
       "      <td>7.333333</td>\n",
       "      <td>3.333333</td>\n",
       "    </tr>\n",
       "    <tr>\n",
       "      <th>2458</th>\n",
       "      <td>6.333333</td>\n",
       "      <td>3.000000</td>\n",
       "    </tr>\n",
       "    <tr>\n",
       "      <th>2459</th>\n",
       "      <td>7.333333</td>\n",
       "      <td>6.666667</td>\n",
       "    </tr>\n",
       "  </tbody>\n",
       "</table>\n",
       "<p>2265 rows × 2 columns</p>\n",
       "</div>"
      ],
      "text/plain": [
       "      all_camouflage_scores  all_reconciliation_scores\n",
       "0                  6.000000                   5.666667\n",
       "1                  5.666667                   6.000000\n",
       "2                  5.000000                   2.333333\n",
       "3                  6.000000                   2.333333\n",
       "4                  6.000000                   2.000000\n",
       "...                     ...                        ...\n",
       "2455               6.666667                   4.000000\n",
       "2456               7.000000                   3.000000\n",
       "2457               7.333333                   3.333333\n",
       "2458               6.333333                   3.000000\n",
       "2459               7.333333                   6.666667\n",
       "\n",
       "[2265 rows x 2 columns]"
      ]
     },
     "execution_count": 28,
     "metadata": {},
     "output_type": "execute_result"
    }
   ],
   "source": [
    "df = pd.DataFrame({\"all_camouflage_scores\": camouflage_stats,\n",
    "                   \"all_reconciliation_scores\": reconciliation_stats})\n",
    "df = df.dropna()\n",
    "df"
   ]
  },
  {
   "cell_type": "code",
   "execution_count": 30,
   "metadata": {},
   "outputs": [
    {
     "data": {
      "image/png": "[encoded data removed]",
      "text/plain": [
       "<Figure size 1000x500 with 1 Axes>"
      ]
     },
     "metadata": {},
     "output_type": "display_data"
    },
    {
     "data": {
      "image/png": "[encoded data removed]",
      "text/plain": [
       "<Figure size 1000x500 with 1 Axes>"
      ]
     },
     "metadata": {},
     "output_type": "display_data"
    }
   ],
   "source": [
    "import matplotlib.pyplot as plt\n",
    "\n",
    "# Plot the Total Camouflage Score Distribution\n",
    "plt.figure(figsize=(10, 5))\n",
    "plt.title(\"Total Camouflage Score Distribution\")\n",
    "plt.xlabel(\"Total Camouflage Score\")\n",
    "plt.ylabel(\"Frequency of Researchers\")\n",
    "df[\"all_camouflage_scores\"][df[\"all_camouflage_scores\"] > 0].hist(bins=20)\n",
    "plt.tight_layout()  # Adjust layout after adding title and labels\n",
    "plt.show()\n",
    "\n",
    "# Plot the Total Reconciliation Score Distribution\n",
    "plt.figure(figsize=(10, 5))\n",
    "plt.title(\"Total Reconciliation Score Distribution\")\n",
    "plt.xlabel(\"Total Reconciliation Score\")\n",
    "plt.ylabel(\"Frequency of Researchers\")\n",
    "df[\"all_reconciliation_scores\"][df[\"all_reconciliation_scores\"] > 0].hist(bins=20)\n",
    "plt.tight_layout()  # Adjust layout after adding title and labels\n",
    "plt.show()"
   ]
  },
  {
   "cell_type": "code",
   "execution_count": null,
   "metadata": {},
   "outputs": [],
   "source": [
    "run_data = {}\n"
   ]
  }
 ],
 "metadata": {
  "kernelspec": {
   "display_name": "research",
   "language": "python",
   "name": "python3"
  },
  "language_info": {
   "codemirror_mode": {
    "name": "ipython",
    "version": 3
   },
   "file_extension": ".py",
   "mimetype": "text/x-python",
   "name": "python",
   "nbconvert_exporter": "python",
   "pygments_lexer": "ipython3",
   "version": "3.12.3"
  }
 },
 "nbformat": 4,
 "nbformat_minor": 2
}

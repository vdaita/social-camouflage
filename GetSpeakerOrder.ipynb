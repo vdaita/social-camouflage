{
 "cells": [
  {
   "cell_type": "code",
   "execution_count": 1,
   "metadata": {},
   "outputs": [
    {
     "name": "stderr",
     "output_type": "stream",
     "text": [
      "/var/folders/rw/s7c9z30x7fj_2gcngv0yhv6w0000gn/T/ipykernel_30139/991378220.py:3: DtypeWarning: Columns (12,21,22,24,33,34) have mixed types. Specify dtype option on import or set low_memory=False.\n",
      "  df = pd.read_csv(\"data/0510-citation-pub-data.csv\")\n"
     ]
    }
   ],
   "source": [
    "import pandas as pd\n",
    "from rapidfuzz import process, fuzz\n",
    "df = pd.read_csv(\"data/0510-citation-pub-data.csv\")"
   ]
  },
  {
   "cell_type": "code",
   "execution_count": 9,
   "metadata": {},
   "outputs": [],
   "source": [
    "speaker_order = []\n",
    "for row in df.iterrows():\n",
    "    researcher = row[1][\"Researcher of Interest\"]\n",
    "    authors = row[1][\"Authors\"]\n",
    "    if not(isinstance(authors, str)):\n",
    "        speaker_order.append(None)\n",
    "        continue\n",
    "    authors = authors.split(\", \")\n",
    "    authors = [a.strip() for a in authors]\n",
    "    top_match_author = process.extractOne(researcher, authors, scorer=fuzz.token_sort_ratio)\n",
    "    if top_match_author == None:\n",
    "        speaker_order.append(None)\n",
    "    else:\n",
    "        # print(top_match_author, authors[top_match_author[2]])\n",
    "        index = top_match_author[2]\n",
    "        speaker_order.append((index + 1) / len(authors))"
   ]
  },
  {
   "cell_type": "code",
   "execution_count": 10,
   "metadata": {},
   "outputs": [],
   "source": [
    "df['Speaker Rank'] = speaker_order\n",
    "df.to_csv(\"data/0510-citation-pub-data-speaker-order.csv\", index=False)"
   ]
  }
 ],
 "metadata": {
  "kernelspec": {
   "display_name": "research",
   "language": "python",
   "name": "python3"
  },
  "language_info": {
   "codemirror_mode": {
    "name": "ipython",
    "version": 3
   },
   "file_extension": ".py",
   "mimetype": "text/x-python",
   "name": "python",
   "nbconvert_exporter": "python",
   "pygments_lexer": "ipython3",
   "version": "3.12.3"
  }
 },
 "nbformat": 4,
 "nbformat_minor": 2
}
